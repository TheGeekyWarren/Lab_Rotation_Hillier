{
 "cells": [
  {
   "cell_type": "code",
   "execution_count": 1,
   "id": "ab18109c-88ec-4edc-85e3-64b858bbac2b",
   "metadata": {},
   "outputs": [],
   "source": [
    "import os\n",
    "import cv2\n",
    "import shutil\n",
    "import numpy as np\n",
    "import pandas as pd\n",
    "from datetime import date\n",
    "import matplotlib.pyplot as plt"
   ]
  },
  {
   "cell_type": "code",
   "execution_count": 3,
   "id": "29677b6b-7482-4d14-96b9-e298af86a15e",
   "metadata": {},
   "outputs": [
    {
     "data": {
      "text/plain": [
       "['/home/yramakrishna/DeepLabCut/conda-environments/Codes/final_video/DLC-VK-2023-05-02/videos/CropGr0DLC_resnet50_DLCMay2shuffle1_1030000_filtered_labeled.mp4',\n",
       " '/home/yramakrishna/DeepLabCut/conda-environments/Codes/final_video/DLC-VK-2023-05-02/videos/CropGr1DLC_resnet50_DLCMay2shuffle1_1030000_filtered_labeled.mp4',\n",
       " '/home/yramakrishna/DeepLabCut/conda-environments/Codes/final_video/DLC-VK-2023-05-02/videos/CropGr2DLC_resnet50_DLCMay2shuffle1_1030000_filtered_labeled.mp4',\n",
       " '/home/yramakrishna/DeepLabCut/conda-environments/Codes/final_video/DLC-VK-2023-05-02/videos/CropGr3DLC_resnet50_DLCMay2shuffle1_1030000_filtered_labeled.mp4',\n",
       " '/home/yramakrishna/DeepLabCut/conda-environments/Codes/final_video/DLC-VK-2023-05-02/videos/CropGr4DLC_resnet50_DLCMay2shuffle1_1030000_filtered_labeled.mp4',\n",
       " '/home/yramakrishna/DeepLabCut/conda-environments/Codes/final_video/DLC-VK-2023-05-02/videos/CropGr5DLC_resnet50_DLCMay2shuffle1_1030000_filtered_labeled.mp4']"
      ]
     },
     "execution_count": 3,
     "metadata": {},
     "output_type": "execute_result"
    }
   ],
   "source": [
    "vid_folder = '/home/yramakrishna/DeepLabCut/conda-environments/Codes/final_video/DLC-VK-2023-05-02/videos'\n",
    "\n",
    "videos = []\n",
    "\n",
    "for file in os.listdir(vid_folder):\n",
    "    if file.endswith('labeled.mp4'):\n",
    "        videos.append(os.path.join(vid_folder, file))\n",
    "sorted(videos)\n"
   ]
  },
  {
   "cell_type": "code",
   "execution_count": 4,
   "id": "b9428d9c-e6d5-4027-a977-a7cfa124257c",
   "metadata": {},
   "outputs": [
    {
     "data": {
      "text/plain": [
       "['/home/yramakrishna/DeepLabCut/conda-environments/Codes/final_video/DLC-VK-2023-05-02/videos/CropGr0DLC_resnet50_DLCMay2shuffle1_1030000_filtered_labeled.mp4',\n",
       " '/home/yramakrishna/DeepLabCut/conda-environments/Codes/final_video/DLC-VK-2023-05-02/videos/CropGr1DLC_resnet50_DLCMay2shuffle1_1030000_filtered_labeled.mp4',\n",
       " '/home/yramakrishna/DeepLabCut/conda-environments/Codes/final_video/DLC-VK-2023-05-02/videos/CropGr2DLC_resnet50_DLCMay2shuffle1_1030000_filtered_labeled.mp4',\n",
       " '/home/yramakrishna/DeepLabCut/conda-environments/Codes/final_video/DLC-VK-2023-05-02/videos/CropGr3DLC_resnet50_DLCMay2shuffle1_1030000_filtered_labeled.mp4',\n",
       " '/home/yramakrishna/DeepLabCut/conda-environments/Codes/final_video/DLC-VK-2023-05-02/videos/CropGr4DLC_resnet50_DLCMay2shuffle1_1030000_filtered_labeled.mp4',\n",
       " '/home/yramakrishna/DeepLabCut/conda-environments/Codes/final_video/DLC-VK-2023-05-02/videos/CropGr5DLC_resnet50_DLCMay2shuffle1_1030000_filtered_labeled.mp4']"
      ]
     },
     "execution_count": 4,
     "metadata": {},
     "output_type": "execute_result"
    }
   ],
   "source": [
    "h5files = []\n",
    "vid_to_crop = []\n",
    "\n",
    "for file in os.listdir(vid_folder):\n",
    "    if file.endswith('filtered.h5'):\n",
    "        h5files.append(os.path.join(vid_folder,file))\n",
    "\n",
    "for file in os.listdir(vid_folder):   \n",
    "    if file.endswith(\"labeled.mp4\"):\n",
    "        vid_to_crop.append(os.path.join(vid_folder,file))\n",
    "\n",
    "sorted(h5files)\n",
    "sorted(vid_to_crop)"
   ]
  },
  {
   "cell_type": "code",
   "execution_count": 6,
   "id": "a6deb80b-1295-4285-a3c4-76454725d2c8",
   "metadata": {},
   "outputs": [],
   "source": [
    "def crop_it(feed):\n",
    "    # feed = ['/home/yramakrishna/DeepLabCut/conda-environments/Codes/All_vids/DLC-VK-2023-04-12/videos/vin_20210528_1002_XBI19_reversal_learning_foraging_SC3_DCS_frontCamera_GCDLC_resnet50_DLCApr12shuffle1_1030000_filtered.h5',\n",
    "    #         '/home/yramakrishna/DeepLabCut/conda-environments/Codes/All_vids/DLC-VK-2023-04-12/videos/vin_20210528_1002_XBI19_reversal_learning_foraging_SC3_DCS_frontCamera_GCDLC_resnet50_DLCApr12shuffle1_1030000_filtered_labeled.mp4',\n",
    "    #         'DLC_resnet50_DLCApr12shuffle1_1030000']\n",
    "    fl_pth, vid_pth, x = feed\n",
    "    # deeplabcut.analyze_videos(config_path, 'CropGr.mp4', save_as_csv=True, dynamic=(True,.6,30))\n",
    "    print(\"Starting Cropping\")\n",
    "\n",
    "    # Define the names of the facial features that you want to extract frames for\n",
    "    feature_names = ['RightEye_Pupil','LeftEye_Pupil', 'NostrilsTop_Centre', 'OutlineTop_Mid']\n",
    "\n",
    "    # Load tracking results generated by DeepLabCut\n",
    "    tracking_data = pd.read_hdf(fl_pth)\n",
    "    # x = tracking_data['DLC_resnet50_DLCApr12shuffle1_1030000'][feature_names]\n",
    "    # x.isna().any()\n",
    "\n",
    "    necessary_points = tracking_data[x][feature_names]\n",
    "    # Define the threshold for the confidence score of the facial features\n",
    "    confidence_threshold = 0.9\n",
    "\n",
    "    # Load the input video\n",
    "    cap = cv2.VideoCapture(vid_pth)\n",
    "\n",
    "    tot_frame = int(cap.get(cv2.CAP_PROP_FRAME_COUNT))\n",
    "\n",
    "    # initializing the frame id list\n",
    "    frame_ids = []\n",
    "\n",
    "    # Loop through the video frames and extract frames with facial features\n",
    "    frame_number = 0\n",
    "    cap.set(cv2.CAP_PROP_POS_FRAMES, frame_number)\n",
    "    while (cap.isOpened()):\n",
    "        ret, frame = cap.read()\n",
    "        if ret == True:\n",
    "            # Get the tracking data for the current frame\n",
    "            frame_data = necessary_points.loc[frame_number]\n",
    "            # print(frame_data)\n",
    "\n",
    "            # Check if the desired facial features are present in the frame\n",
    "            feature_present = False\n",
    "            check = 0            \n",
    "            for feature_name in feature_names:\n",
    "                if feature_name in frame_data and frame_data.loc[feature_name].loc['likelihood'] > confidence_threshold:\n",
    "                    # print(frame_number, '   ', frame_data.loc[feature_name].loc['likelihood'])\n",
    "                    check += 1\n",
    "            \n",
    "            if check==4:\n",
    "                feature_present = True\n",
    "\n",
    "            # If the desired facial features are present, save the frame to the output video\n",
    "            if feature_present: #check==4\n",
    "                frame_ids.append(frame_number)\n",
    "\n",
    "            # Display the output\n",
    "            #cv2.imshow('output', frame)\n",
    "            if cv2.waitKey(1) & 0xFF == ord('q'):\n",
    "                break\n",
    "            print(round(frame_number/tot_frame*100, 2), end = '\\r')\n",
    "            # Increment the frame number\n",
    "            frame_number += 1\n",
    "        else:\n",
    "            break\n",
    "    print(\"Done\")\n",
    "    # Release resources\n",
    "    cap.release()\n",
    "    # out.release()\n",
    "    cv2.destroyAllWindows()\n",
    "    return frame_ids"
   ]
  },
  {
   "cell_type": "code",
   "execution_count": 7,
   "id": "cae613b7-04aa-48a0-83ec-b2304289cfb6",
   "metadata": {},
   "outputs": [],
   "source": [
    "crop_source = []\n",
    "if len(h5files)==len(vid_to_crop):\n",
    "    for i in h5files:\n",
    "        found = ''\n",
    "        for j in vid_to_crop:\n",
    "            x = os.path.splitext(i)[0].rstrip('_filtered.h5')\n",
    "            y = os.path.splitext(j)[0].rstrip('filtered_labeled.mp4')\n",
    "            if x==y:\n",
    "                found = j\n",
    "        k = os.path.basename(i)\n",
    "        l = 'DLC' + k.split('DLC')[1] + 'DLC' + k.split('DLC')[2].rstrip('_filtered.h5')\n",
    "        # print(l)\n",
    "        # print(i)\n",
    "        # print(found)\n",
    "        # # print(k)\n",
    "        # print('')\n",
    "        crop_source.append([i,found, l])\n",
    "c_s = np.array(crop_source)"
   ]
  },
  {
   "cell_type": "code",
   "execution_count": 8,
   "id": "b60ab66b-92f9-4ed6-ad94-1e15103d636a",
   "metadata": {
    "tags": []
   },
   "outputs": [
    {
     "name": "stdout",
     "output_type": "stream",
     "text": [
      "Starting Cropping\n",
      "Done9\n",
      "Starting Cropping\n",
      "Done9\n",
      "Starting Cropping\n",
      "Done9\n",
      "Starting Cropping\n",
      "Done9\n",
      "Starting Cropping\n",
      "Done9\n",
      "Starting Cropping\n",
      "Done9\n"
     ]
    }
   ],
   "source": [
    "all_frames = []\n",
    "# jk = crop_it(c_s[6])\n",
    "for i in c_s:\n",
    "    x = crop_it(i)\n",
    "    all_frames.append([i[1],x])\n",
    "# jk\n"
   ]
  },
  {
   "cell_type": "code",
   "execution_count": 9,
   "id": "ca004feb-6bde-4975-90f0-1051409a6844",
   "metadata": {},
   "outputs": [
    {
     "data": {
      "text/plain": [
       "[5560, 0, 5343, 5736, 5703, 3936]"
      ]
     },
     "execution_count": 9,
     "metadata": {},
     "output_type": "execute_result"
    }
   ],
   "source": [
    "stt = []\n",
    "for i in all_frames:\n",
    "    stt.append(len(i[1]))\n",
    "stt"
   ]
  },
  {
   "cell_type": "code",
   "execution_count": null,
   "id": "8a2db1e6-a3ce-4c76-9985-1c763f212b9c",
   "metadata": {},
   "outputs": [],
   "source": [
    "j = [(i+1)/2 for i in range(5)]\n",
    "print(j)\n",
    "plt.plot(j, stt, 'o-')\n",
    "plt.show()"
   ]
  },
  {
   "cell_type": "code",
   "execution_count": null,
   "id": "7e038389-23af-4855-b7a5-943dac7aaa21",
   "metadata": {},
   "outputs": [],
   "source": [
    "af = pd.DataFrame(all_frames, columns = ['File_name', 'framesIDS'])\n",
    "af"
   ]
  },
  {
   "cell_type": "code",
   "execution_count": null,
   "id": "9078755d-9300-47ab-986b-683f8cc6a960",
   "metadata": {},
   "outputs": [],
   "source": []
  }
 ],
 "metadata": {
  "kernelspec": {
   "display_name": "Python 3 (ipykernel)",
   "language": "python",
   "name": "python3"
  },
  "language_info": {
   "codemirror_mode": {
    "name": "ipython",
    "version": 3
   },
   "file_extension": ".py",
   "mimetype": "text/x-python",
   "name": "python",
   "nbconvert_exporter": "python",
   "pygments_lexer": "ipython3",
   "version": "3.9.13"
  }
 },
 "nbformat": 4,
 "nbformat_minor": 5
}
