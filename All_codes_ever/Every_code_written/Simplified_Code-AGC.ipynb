{
 "cells": [
  {
   "cell_type": "code",
   "execution_count": null,
   "id": "84a40da8",
   "metadata": {
    "tags": []
   },
   "outputs": [],
   "source": [
    "import os\n",
    "import cv2\n",
    "import shutil\n",
    "import deeplabcut\n",
    "import numpy as np\n",
    "import math"
   ]
  },
  {
   "cell_type": "code",
   "execution_count": null,
   "id": "1dda329f-efda-445e-a58c-1a87f8ad2cd1",
   "metadata": {},
   "outputs": [],
   "source": [
    "start_file  = '/home/yramakrishna/DeepLabCut/conda-environments/Codes/ken_20210505_0939_XBI19_reversal_learning_foraging_SC3_DCS_frontcamera.mp4'"
   ]
  },
  {
   "cell_type": "code",
   "execution_count": null,
   "id": "f05155ca-d7ec-48ff-a5f5-0ddf682ea5d2",
   "metadata": {
    "tags": []
   },
   "outputs": [],
   "source": [
    "dsv = '/home/yramakrishna/DeepLabCut/conda-environments/Codes/ken_20210505_0939_XBI19_reversal_learning_foraging_SC3_DCS_frontcameradownsampled.mp4' #deeplabcut.DownSampleVideo(start_file, width=320, height=240)"
   ]
  },
  {
   "cell_type": "code",
   "execution_count": null,
   "id": "9e3e1e88-9181-40b9-913d-492aab9d0778",
   "metadata": {
    "tags": []
   },
   "outputs": [],
   "source": [
    "video = cv2.VideoCapture(dsv)\n",
    "\n",
    "# Get the frame rate and total number of frames\n",
    "fps = int(video.get(cv2.CAP_PROP_FPS))\n",
    "total_frames = int(video.get(cv2.CAP_PROP_FRAME_COUNT))\n",
    "\n",
    "#*********************************************\n",
    "\n",
    "target_br = 0.6\n",
    "target_g = math.log(target_br)\n",
    "\n",
    "#**********************************************\n",
    "\n",
    "# Set the video writer\n",
    "output_name = os.path.splitext(os.path.basename(dsv))[0].lstrip('.') + '_GC.mp4'\n",
    "fourcc = cv2.VideoWriter_fourcc(*'mp4v')\n",
    "out = cv2.VideoWriter(output_name, fourcc, fps, (int(video.get(cv2.CAP_PROP_FRAME_WIDTH)), int(video.get(cv2.CAP_PROP_FRAME_HEIGHT))))\n",
    "start_frame = 0\n",
    "# Set the current frame number to the start frame\n",
    "video.set(cv2.CAP_PROP_POS_FRAMES, start_frame)\n",
    "frame_number = 0\n",
    "# Loop through the frames and write them to the output video\n",
    "for i in range(start_frame, total_frames):\n",
    "    ret, frame = video.read()\n",
    "    if not ret:\n",
    "        break\n",
    "\n",
    "    frame_normalized = frame.astype(np.float32) / 255.0\n",
    "    gray = cv2.cvtColor(frame_normalized, cv2.COLOR_BGR2GRAY)\n",
    "\n",
    "    brightness = np.mean(frame_normalized)\n",
    "\n",
    "    #finding and correcting gamma - a number is assigned to be the 'innate' gamma value of the frame, and that value is used to find the correction needed. \n",
    "    if brightness == 0:\n",
    "        print('err')\n",
    "        continue\n",
    "    assigned_g = math.log(brightness)\n",
    "    gamma = assigned_g/target_g\n",
    "\n",
    "    # Normalize the pixel values to the range [0, 1]\n",
    "    # frame_normalized = frame.astype(np.float32) / 255.0\n",
    "\n",
    "    # Apply gamma correction\n",
    "    frame_corrected = np.power(frame_normalized, 1/gamma)\n",
    "\n",
    "    # Scale the pixel values back to the range [0, 255]\n",
    "    frame_scaled = (frame_corrected * 255.0).astype(np.uint8)\n",
    "\n",
    "    print(round(frame_number/total_frames*100, 2), end = '\\r')\n",
    "    frame_number += 1\n",
    "    cv2.imshow('output', frame)\n",
    "    # cv2.imshow('output', frame_scaled)\n",
    "    out.write(frame_scaled)\n",
    "# new = os.path.join(os.path.dirname(os.path.dirname(convid)), 'GC_Conv_vids', os.path.basename(convid))\n",
    "# shutil.move(dsv, new)\n",
    "print(\"Done - \", dsv)\n",
    "print('')\n",
    "# Release the video objects\n",
    "video.release()\n",
    "out.release()\n",
    "cv2.destroyAllWindows()"
   ]
  },
  {
   "cell_type": "code",
   "execution_count": null,
   "id": "f392891f-3388-467f-8f53-ac04fc00cc3b",
   "metadata": {},
   "outputs": [],
   "source": [
    "os.mkdir(\"final_video\")"
   ]
  },
  {
   "cell_type": "code",
   "execution_count": null,
   "id": "3d2c79ca-9bdb-4e2b-8c2e-867387ae2e27",
   "metadata": {
    "tags": []
   },
   "outputs": [],
   "source": [
    "shutil.move('ken_20210505_0939_XBI19_reversal_learning_foraging_SC3_DCS_frontcameradownsampled_GC.mp4', 'final_video/ken_20210505_0939_XBI19_reversal_learning_foraging_SC3_DCS_frontcameradownsampled_GC.mp4')"
   ]
  },
  {
   "cell_type": "code",
   "execution_count": null,
   "id": "7f6fa656-4809-4010-895e-7578d26eb157",
   "metadata": {},
   "outputs": [],
   "source": [
    "os.chdir('final_video')"
   ]
  },
  {
   "cell_type": "code",
   "execution_count": null,
   "id": "32119dff-6ecf-4cb8-b64c-82640c8bf95c",
   "metadata": {},
   "outputs": [],
   "source": [
    "# dsv = deeplabcut.DownSampleVideo(start_file, width=320, height=240)"
   ]
  },
  {
   "cell_type": "code",
   "execution_count": null,
   "id": "386bb01d",
   "metadata": {
    "scrolled": true
   },
   "outputs": [],
   "source": [
    "\n",
    "\n",
    "file = 'ken_20210505_0939_XBI19_reversal_learning_foraging_SC3_DCS_frontcameradownsampled_GC.mp4'\n",
    "bodyparts = ['RightEye_Outer', 'RightEye_Top', 'RightEye_Bottom', 'RightEye_Inner', 'RightEye_Pupil', 'LeftEye_Outer', 'LeftEye_Top', 'LeftEye_Bottom', 'LeftEye_Inner', 'LeftEye_Pupil',\n",
    "             'OutlineTop_Mid','RightNostrils_Top', 'RightNostrils_Bottom','LeftNostrils_Top', 'LeftNostrils_Bottom']\n",
    "videotype = os.path.splitext(file)[-1].lstrip('.')  # or MOV, or avi, whatever you uploaded!\n",
    "video_down = file\n",
    "\n",
    "model_options = deeplabcut.create_project.modelzoo.Modeloptions\n",
    "model_selection = 'primate_face'\n",
    "\n"
   ]
  },
  {
   "cell_type": "code",
   "execution_count": null,
   "id": "490386f4",
   "metadata": {
    "tags": []
   },
   "outputs": [],
   "source": [
    "project_name = 'DLC_GazeXBI'\n",
    "your_name = 'anc'\n",
    "\n",
    "config_path, train_config_path = deeplabcut.create_pretrained_project(\n",
    "    project_name,\n",
    "    your_name,\n",
    "    video_down,\n",
    "    videotype=videotype,\n",
    "    model=model_selection,\n",
    "    analyzevideo=True,\n",
    "    createlabeledvideo=False,\n",
    "    copy_videos=True,\n",
    ")\n",
    "\n"
   ]
  },
  {
   "cell_type": "code",
   "execution_count": null,
   "id": "7705e82a",
   "metadata": {},
   "outputs": [],
   "source": [
    "edits = {\n",
    "    'dotsize': 2,  # size of the dots!\n",
    "    'pcutoff': 0.4,  # the higher, the more conservative the plotting!\n",
    "}\n",
    "deeplabcut.auxiliaryfunctions.edit_config(config_path, edits)\n",
    "\n",
    "project_path = os.path.dirname(config_path)\n",
    "full_video_path = os.path.join(\n",
    "    project_path,\n",
    "    'videos',\n",
    "    os.path.basename(video_down),\n",
    ")\n",
    "\n",
    "# filter predictions (should already be done above ;):\n",
    "deeplabcut.filterpredictions(config_path, full_video_path, videotype=videotype, )\n",
    "\n",
    "# re-create the video with your edits!\n",
    "# deeplabcut.CropVideo(config_path, full_video_path, 'crop', \n",
    "\n",
    "deeplabcut.create_labeled_video(config_path, full_video_path, videotype=videotype, displayedbodyparts=bodyparts, draw_skeleton = True, filtered=True)\n"
   ]
  }
 ],
 "metadata": {
  "kernelspec": {
   "display_name": "Python 3 (ipykernel)",
   "language": "python",
   "name": "python3"
  },
  "language_info": {
   "codemirror_mode": {
    "name": "ipython",
    "version": 3
   },
   "file_extension": ".py",
   "mimetype": "text/x-python",
   "name": "python",
   "nbconvert_exporter": "python",
   "pygments_lexer": "ipython3",
   "version": "3.9.13"
  }
 },
 "nbformat": 4,
 "nbformat_minor": 5
}
