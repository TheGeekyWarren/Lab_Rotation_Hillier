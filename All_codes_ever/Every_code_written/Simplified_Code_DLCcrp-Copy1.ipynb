{
 "cells": [
  {
   "cell_type": "code",
   "execution_count": 2,
   "id": "84a40da8",
   "metadata": {
    "tags": []
   },
   "outputs": [
    {
     "name": "stderr",
     "output_type": "stream",
     "text": [
      "2023-04-19 12:51:39.072758: I tensorflow/core/platform/cpu_feature_guard.cc:193] This TensorFlow binary is optimized with oneAPI Deep Neural Network Library (oneDNN) to use the following CPU instructions in performance-critical operations:  AVX2 FMA\n",
      "To enable them in other operations, rebuild TensorFlow with the appropriate compiler flags.\n",
      "2023-04-19 12:51:39.185105: E tensorflow/stream_executor/cuda/cuda_blas.cc:2981] Unable to register cuBLAS factory: Attempting to register factory for plugin cuBLAS when one has already been registered\n",
      "2023-04-19 12:51:39.522319: W tensorflow/stream_executor/platform/default/dso_loader.cc:64] Could not load dynamic library 'libnvinfer.so.7'; dlerror: libnvinfer.so.7: cannot open shared object file: No such file or directory; LD_LIBRARY_PATH: /home/yramakrishna/anaconda3/lib/python3.9/site-packages/cv2/../../lib64:/usr/local/cuda/lib64:\n",
      "2023-04-19 12:51:39.522365: W tensorflow/stream_executor/platform/default/dso_loader.cc:64] Could not load dynamic library 'libnvinfer_plugin.so.7'; dlerror: libnvinfer_plugin.so.7: cannot open shared object file: No such file or directory; LD_LIBRARY_PATH: /home/yramakrishna/anaconda3/lib/python3.9/site-packages/cv2/../../lib64:/usr/local/cuda/lib64:\n",
      "2023-04-19 12:51:39.522369: W tensorflow/compiler/tf2tensorrt/utils/py_utils.cc:38] TF-TRT Warning: Cannot dlopen some TensorRT libraries. If you would like to use Nvidia GPU with TensorRT, please make sure the missing libraries mentioned above are installed properly.\n"
     ]
    },
    {
     "name": "stdout",
     "output_type": "stream",
     "text": [
      "Loading DLC 2.3.1...\n"
     ]
    }
   ],
   "source": [
    "import os\n",
    "import cv2\n",
    "import shutil\n",
    "import deeplabcut\n",
    "import numpy as np\n",
    "import pandas as pd\n",
    "import subprocess\n",
    "from datetime import date\n",
    "from joblib import Parallel, delayed"
   ]
  },
  {
   "cell_type": "code",
   "execution_count": 3,
   "id": "d9be17bd-dc4d-428f-a810-beaf81b8a82c",
   "metadata": {},
   "outputs": [
    {
     "data": {
      "text/plain": [
       "'/home/yramakrishna/DeepLabCut/conda-environments/Codes'"
      ]
     },
     "execution_count": 3,
     "metadata": {},
     "output_type": "execute_result"
    }
   ],
   "source": [
    "os.getcwd()"
   ]
  },
  {
   "cell_type": "code",
   "execution_count": 4,
   "id": "8d784722-d64e-4724-8447-058d3c69b231",
   "metadata": {},
   "outputs": [],
   "source": [
    "if not os.path.exists('All_vids'):\n",
    "        os.makedirs('All_vids')\n",
    "os.chdir('All_vids')"
   ]
  },
  {
   "cell_type": "code",
   "execution_count": null,
   "id": "ddd391ee-db52-4ebd-b8a2-c5f44cfa1fab",
   "metadata": {},
   "outputs": [],
   "source": [
    "#enter path of folder (including folder name) containing all your videos of interest\n",
    "vid_dir = '/home/yramakrishna/DeepLabCut/conda-environments/Codes/Videos'\n",
    "to_dir = os.path.join(os.getcwd(), os.path.basename(vid_dir))\n",
    "shutil.move(vid_dir, to_dir)"
   ]
  },
  {
   "cell_type": "code",
   "execution_count": null,
   "id": "01960dc1-e0c4-4373-bcba-3fde87be5218",
   "metadata": {},
   "outputs": [],
   "source": [
    "os.path.dirname(to_dir)"
   ]
  },
  {
   "cell_type": "code",
   "execution_count": null,
   "id": "9eb812a8-c4d1-4910-b7f6-5daa481e3cf5",
   "metadata": {},
   "outputs": [],
   "source": [
    "#Soring converted videos in a new folder\n",
    "if not os.path.exists('Conv_vids'):\n",
    "        os.makedirs('Conv_vids')"
   ]
  },
  {
   "cell_type": "code",
   "execution_count": null,
   "id": "ff2aaf43-a4eb-40be-a539-315c0e9b0504",
   "metadata": {},
   "outputs": [],
   "source": [
    "input_file = '/home/yramakrishna/DeepLabCut/conda-environments/Codes/All_vids/Videos/ken_20210503_0911_XBI19_reversal_learning_foraging_SC3_DCS_frontcamera.mov'\n",
    "output_file = os.path.splitext(os.path.basename(input_file))[0].lstrip('.') \n",
    "output_file\n",
    "os.path.join(os.path.dirname(os.path.dirname(input_file)), '/Conv_vids', output_file +'_conv.mp4')"
   ]
  },
  {
   "cell_type": "code",
   "execution_count": null,
   "id": "b1791f7f-258e-4c56-9731-1b3e25244396",
   "metadata": {},
   "outputs": [],
   "source": [
    "#Converting .mov videos to .mp4\n",
    "def conv_mp4(input_file):\n",
    "    out_name = os.path.splitext(input_file)[0].lstrip('.') \n",
    "    print(out_name)\n",
    "    output_file = out_name + '.mp4'\n",
    "    # print(input_file)\n",
    "    # print(output_file)\n",
    "    # Run FFmpeg command to convert MOV to MP4\n",
    "    command = f\"ffmpeg -i {input_file} -c:v libx264 -preset medium -crf 23 -c:a aac -b:a 128k {output_file}\"\n",
    "    subprocess.call(command, shell=True)\n",
    "    new = os.path.join(os.path.dirname(os.path.dirname(output_file)), 'Conv_vids', os.path.basename(output_file))\n",
    "    shutil.move(output_file, new)\n",
    "    # print('Convertion complete - ', os.path.basename(output_file))"
   ]
  },
  {
   "cell_type": "code",
   "execution_count": null,
   "id": "79ec8c5a-3eb8-4245-bc0b-1fcd8a575ddf",
   "metadata": {
    "tags": []
   },
   "outputs": [],
   "source": [
    "for file in os.listdir(os.path.join(os.path.dirname(to_dir), 'Videos')):\n",
    "    if file.endswith(\".mov\"):\n",
    "        # print(file)\n",
    "        path=os.path.join(os.path.join(os.path.dirname(to_dir), 'Videos', file))\n",
    "        conv_mp4(path)\n",
    "        # print(path)"
   ]
  },
  {
   "cell_type": "code",
   "execution_count": null,
   "id": "531f8d23-e5c4-4a38-a22f-ce2063063122",
   "metadata": {},
   "outputs": [],
   "source": [
    "# if not os.path.exists('NDSConv_vids'):\n",
    "#         os.makedirs('NDSConv_vids')"
   ]
  },
  {
   "cell_type": "code",
   "execution_count": null,
   "id": "31e91eb6-51bf-4500-93f5-419556cddec0",
   "metadata": {},
   "outputs": [],
   "source": [
    "if not os.path.exists('GC_Conv_vids'):\n",
    "        os.makedirs('GC_Conv_vids')\n",
    "os.chdir('GC_Conv_vids')"
   ]
  },
  {
   "cell_type": "code",
   "execution_count": null,
   "id": "a2633ec5-0114-4682-a811-7b0dfed877a1",
   "metadata": {},
   "outputs": [],
   "source": [
    "os.getcwd()"
   ]
  },
  {
   "cell_type": "code",
   "execution_count": null,
   "id": "bdca7d0a-501d-49de-91d3-56ae0a0bd2c5",
   "metadata": {},
   "outputs": [],
   "source": [
    "#os.listdir(os.path.join(os.path.dirname(to_dir), 'DSConv_vids'))\n",
    "# os.path.join(os.path.dirname(to_dir), 'NDSConv_vids', os.path.basename(dsv)) "
   ]
  },
  {
   "cell_type": "code",
   "execution_count": null,
   "id": "ce5d9b93-8d3f-46ff-afdf-60bbc79461c1",
   "metadata": {},
   "outputs": [],
   "source": [
    "#cropping video and Gamma correction\n",
    "def downsize_gc(convid):\n",
    "    dsv = deeplabcut.DownSampleVideo(convid, width=320, height=240)\n",
    "    # Load the video file\n",
    "    video = cv2.VideoCapture(dsv)\n",
    "\n",
    "    # Get the frame rate and total number of frames\n",
    "    fps = int(video.get(cv2.CAP_PROP_FPS))\n",
    "    total_frames = int(video.get(cv2.CAP_PROP_FRAME_COUNT))\n",
    "\n",
    "    #*********************************************\n",
    "\n",
    "    # Set the start and end points to crop out\n",
    "    start_sec = 0  # Crop out the first x seconds\n",
    "    end_sec = 0 # Crop out the last y seconds\n",
    "\n",
    "    #Set gamma correction value\n",
    "    gamma = 2\n",
    "\n",
    "    #**********************************************\n",
    "\n",
    "    start_frame = int(start_sec * fps)\n",
    "    end_frame = int((total_frames / fps) - end_sec) * fps\n",
    "\n",
    "    # Set the video writer\n",
    "    output_name = os.path.splitext(os.path.basename(convid))[0].lstrip('.') + '_GC.mp4'\n",
    "    fourcc = cv2.VideoWriter_fourcc(*'mp4v')\n",
    "    out = cv2.VideoWriter(output_name, fourcc, fps, (int(video.get(cv2.CAP_PROP_FRAME_WIDTH)), int(video.get(cv2.CAP_PROP_FRAME_HEIGHT))))\n",
    "\n",
    "    # Set the current frame number to the start frame\n",
    "    video.set(cv2.CAP_PROP_POS_FRAMES, start_frame)\n",
    "\n",
    "    # Loop through the frames and write them to the output video\n",
    "    for i in range(start_frame, end_frame):\n",
    "        ret, frame = video.read()\n",
    "        if not ret:\n",
    "            break\n",
    "\n",
    "        # Normalize the pixel values to the range [0, 1]\n",
    "        frame_normalized = frame.astype(np.float32) / 255.0\n",
    "\n",
    "        # Apply gamma correction\n",
    "        frame_corrected = np.power(frame_normalized, 1/gamma)\n",
    "\n",
    "        # Scale the pixel values back to the range [0, 255]\n",
    "        frame_scaled = (frame_corrected * 255.0).astype(np.uint8)\n",
    "\n",
    "        out.write(frame_scaled)\n",
    "    new = os.path.join(os.path.dirname(os.path.dirname(dsv)), 'GC_Conv_vids', os.path.basename(dsv))\n",
    "    shutil.move(dsv, new)\n",
    "\n",
    "    # Release the video objects\n",
    "    video.release()\n",
    "    out.release()\n",
    "    cv2.destroyAllWindows()"
   ]
  },
  {
   "cell_type": "code",
   "execution_count": null,
   "id": "514c6d6d-80bd-4abd-9614-e34f167a77e9",
   "metadata": {
    "tags": []
   },
   "outputs": [],
   "source": [
    "# vid_names = []\n",
    "for file in os.listdir(os.path.join(os.path.dirname(to_dir), 'Conv_vids')):\n",
    "    if file.endswith(\".mp4\"):\n",
    "        path=os.path.join(os.path.join(os.path.dirname(to_dir), 'Conv_vids', file))\n",
    "        downsize_gc(path)"
   ]
  },
  {
   "cell_type": "code",
   "execution_count": null,
   "id": "1c44fc28-8782-4333-a6ea-60113997409c",
   "metadata": {},
   "outputs": [],
   "source": [
    "# os.path.join(os.path.dirname(os.path.dirname(input_file)), 'All_vids/Conv_vids', out_name +'_conv.mp4')\n",
    "# out_name = os.path.splitext(os.path.basename(path))[0].lstrip('.') + '.mp4'\n",
    "# out_name"
   ]
  },
  {
   "cell_type": "code",
   "execution_count": null,
   "id": "d9000da0-5712-40ce-b209-9d19163bae03",
   "metadata": {},
   "outputs": [],
   "source": [
    "os.chdir('..')\n",
    "os.getcwd()"
   ]
  },
  {
   "cell_type": "code",
   "execution_count": null,
   "id": "b666af48-8181-4f8d-b6d3-46fab7a4834d",
   "metadata": {},
   "outputs": [],
   "source": [
    "folder = [] \n",
    "for file in os.listdir(os.path.join(os.path.dirname(to_dir), 'GC_Conv_vids')):\n",
    "    if file.endswith(\".mp4\"):\n",
    "        path=os.path.join(os.path.join(os.path.dirname(to_dir), 'GC_Conv_vids', file))\n",
    "        folder.append(path)\n",
    "print(folder)\n",
    "        \n",
    "# folder2 = [] \n",
    "# for file in os.listdir(os.path.join(os.path.dirname(to_dir), 'Conv_vids')):\n",
    "#     if file.endswith(\".mp4\"):\n",
    "#         path=os.path.join(os.path.join(os.path.dirname(to_dir), 'Conv_vids', file))\n",
    "#         folder2.append(path)\n",
    "        \n",
    "# print(folder, folder2)"
   ]
  },
  {
   "cell_type": "code",
   "execution_count": 5,
   "id": "a83ccf62-7694-4462-b39b-08de1287322a",
   "metadata": {},
   "outputs": [],
   "source": [
    "project_name = 'DLC'\n",
    "your_name = 'VK'"
   ]
  },
  {
   "cell_type": "code",
   "execution_count": null,
   "id": "386bb01d",
   "metadata": {
    "scrolled": true
   },
   "outputs": [],
   "source": [
    "def process(fold, project_name, your_name):\n",
    "    file = fold[0]\n",
    "    print(file)\n",
    "    bodyparts = ['RightEye_Outer', 'RightEye_Top', 'RightEye_Bottom', 'RightEye_Inner', 'RightEye_Pupil', 'LeftEye_Outer', 'LeftEye_Top', 'LeftEye_Bottom', 'LeftEye_Inner', 'LeftEye_Pupil',\n",
    "                 'OutlineTop_Mid','RightNostrils_Top', 'RightNostrils_Bottom','LeftNostrils_Top', 'LeftNostrils_Bottom']\n",
    "    videotype = os.path.splitext(file)[-1].lstrip('.')  # or MOV, or avi, whatever you uploaded!\n",
    "    video_down = folder\n",
    "    name_fold = 'Analyse_' + os.path.basename(os.path.dirname(file))\n",
    "    \n",
    "    model_options = deeplabcut.create_project.modelzoo.Modeloptions\n",
    "    model_selection = 'primate_face'\n",
    "\n",
    "    config_path, train_config_path = deeplabcut.create_pretrained_project(\n",
    "        project_name,\n",
    "        your_name,\n",
    "        video_down,\n",
    "        videotype=videotype,\n",
    "        model=model_selection,\n",
    "        analyzevideo=True,\n",
    "        createlabeledvideo=False,\n",
    "        copy_videos=False,\n",
    "    )\n",
    "\n",
    "    edits = {\n",
    "        'dotsize': 1.5,  # size of the dots!\n",
    "        'pcutoff': 0.4,  # the higher, the more conservative the plotting!\n",
    "    }\n",
    "    deeplabcut.auxiliaryfunctions.edit_config(config_path, edits)\n",
    "    project_path = os.path.dirname(config_path)\n",
    "    full_video_path = []\n",
    "    for i in fold:\n",
    "        full_video_path.append(os.path.join(project_path,'videos', os.path.basename(i)))\n",
    "\n",
    "    # filter predictions (should already be done above ;):\n",
    "    deeplabcut.filterpredictions(config_path, full_video_path, videotype=videotype)\n",
    "\n",
    "    # re-create the video with your edits!\n",
    "    # deeplabcut.CropVideo(config_path, full_video_path, 'crop', \n",
    "    deeplabcut.create_labeled_video(config_path, full_video_path, videotype=videotype, displayedbodyparts=bodyparts, draw_skeleton = True, filtered=True)\n",
    "    \n",
    "    "
   ]
  },
  {
   "cell_type": "code",
   "execution_count": null,
   "id": "2064e9c9-fe11-4fa0-9ab9-b8556681f6ae",
   "metadata": {
    "tags": []
   },
   "outputs": [],
   "source": [
    "process(folder, project_name, your_name)\n",
    "\n",
    "# all_fold = [folder2, folder]\n",
    "# print(all_fold)"
   ]
  },
  {
   "cell_type": "code",
   "execution_count": null,
   "id": "06122322-0b79-471a-a662-860541774e0b",
   "metadata": {},
   "outputs": [],
   "source": [
    "# def main():\n",
    "#     Parallel(n_jobs=1)(delayed(process)(fold, project_name, your_name) for fold in all_fold)\n"
   ]
  },
  {
   "cell_type": "code",
   "execution_count": null,
   "id": "7599853c-cbb8-43d8-9cfe-862a498c2e94",
   "metadata": {},
   "outputs": [],
   "source": [
    "# main()"
   ]
  },
  {
   "cell_type": "code",
   "execution_count": null,
   "id": "014eb72f-4a21-400d-ae75-474e3913104f",
   "metadata": {},
   "outputs": [],
   "source": [
    "\n",
    "# for fold in all_fold:\n",
    "#     name_fold = 'Analyse_' + os.path.basename(os.path.dirname(fold[0]))\n",
    "#     print(name_fold)\n",
    "#     print(fold)\n",
    "#     if not os.path.exists(name_fold):\n",
    "#         os.makedirs(name_fold)\n",
    "#     os.chdir(name_fold)\n",
    "#     print(os.getcwd())\n",
    "#     process(fold, project_name, your_name)\n",
    "#     os.chdir('..')\n",
    "#     print(os.getcwd())\n",
    "    "
   ]
  },
  {
   "cell_type": "code",
   "execution_count": null,
   "id": "744aa846-8594-436a-a189-dfd290e593b9",
   "metadata": {},
   "outputs": [],
   "source": [
    "\n",
    "# proj_fold"
   ]
  },
  {
   "cell_type": "code",
   "execution_count": 6,
   "id": "63a40002-915b-4e67-b939-ab2fe3ba1f77",
   "metadata": {},
   "outputs": [
    {
     "name": "stdout",
     "output_type": "stream",
     "text": [
      "/home/yramakrishna/DeepLabCut/conda-environments/Codes/All_vids/DLC-VK-2023-04-12/videos\n"
     ]
    }
   ],
   "source": [
    "os.chdir('/home/yramakrishna/DeepLabCut/conda-environments/Codes/All_vids')\n",
    "h5files = []\n",
    "vid_to_crop = []\n",
    "# today = str(date.today())\n",
    "today = \"2023-04-12\"\n",
    "proj_fold = project_name+'-'+your_name+'-'+today\n",
    "# print(today)\n",
    "target = os.path.join(os.getcwd(),proj_fold,'videos')\n",
    "print(target)\n",
    "for file in os.listdir(target):\n",
    "    if file.endswith(\"filtered.h5\"):\n",
    "        h5files.append(os.path.join(target,file))\n",
    "for file in os.listdir(target):   \n",
    "    if file.endswith(\"labeled.mp4\"):\n",
    "        vid_to_crop.append(os.path.join(target,file))\n",
    "        \n",
    "# print(h5files, vid_to_crop)\n",
    "# videotype = os.path.splitext(file)[-1].lstrip('.')"
   ]
  },
  {
   "cell_type": "code",
   "execution_count": 7,
   "id": "130ae6bb-1716-4997-a815-30f5978d3677",
   "metadata": {
    "tags": []
   },
   "outputs": [],
   "source": [
    "def crop_it(feed):\n",
    "    # feed = ['/home/yramakrishna/DeepLabCut/conda-environments/Codes/All_vids/DLC-VK-2023-04-12/videos/vin_20210528_1002_XBI19_reversal_learning_foraging_SC3_DCS_frontCamera_GCDLC_resnet50_DLCApr12shuffle1_1030000_filtered.h5',\n",
    "    #         '/home/yramakrishna/DeepLabCut/conda-environments/Codes/All_vids/DLC-VK-2023-04-12/videos/vin_20210528_1002_XBI19_reversal_learning_foraging_SC3_DCS_frontCamera_GCDLC_resnet50_DLCApr12shuffle1_1030000_filtered_labeled.mp4',\n",
    "    #         'DLC_resnet50_DLCApr12shuffle1_1030000']\n",
    "    fl_pth, vid_pth, x = feed\n",
    "    # deeplabcut.analyze_videos(config_path, 'CropGr.mp4', save_as_csv=True, dynamic=(True,.6,30))\n",
    "    print(\"Starting Cropping\")\n",
    "\n",
    "    # Define the names of the facial features that you want to extract frames for\n",
    "    feature_names = ['RightEye_Pupil','LeftEye_Pupil', 'NostrilsTop_Centre', 'OutlineTop_Mid']\n",
    "\n",
    "    # Load tracking results generated by DeepLabCut\n",
    "    tracking_data = pd.read_hdf(fl_pth)\n",
    "    # x = tracking_data['DLC_resnet50_DLCApr12shuffle1_1030000'][feature_names]\n",
    "    # x.isna().any()\n",
    "\n",
    "    necessary_points = tracking_data['DLC_resnet50_DLCApr12shuffle1_1030000'][feature_names]\n",
    "    # Define the threshold for the confidence score of the facial features\n",
    "    confidence_threshold = 0.9\n",
    "\n",
    "    # Load the input video\n",
    "    cap = cv2.VideoCapture(vid_pth)\n",
    "\n",
    "    tot_frame = int(cap.get(cv2.CAP_PROP_FRAME_COUNT))\n",
    "\n",
    "    # initializing the frame id list\n",
    "    frame_ids = []\n",
    "\n",
    "    # Loop through the video frames and extract frames with facial features\n",
    "    frame_number = 0\n",
    "    cap.set(cv2.CAP_PROP_POS_FRAMES, frame_number)\n",
    "    while (cap.isOpened()):\n",
    "        ret, frame = cap.read()\n",
    "        if ret == True:\n",
    "            # Get the tracking data for the current frame\n",
    "            frame_data = necessary_points.loc[frame_number]\n",
    "            # print(frame_data)\n",
    "\n",
    "            # Check if the desired facial features are present in the frame\n",
    "            feature_present = False\n",
    "            check = 0            \n",
    "            for feature_name in feature_names:\n",
    "                if feature_name in frame_data and frame_data.loc[feature_name].loc['likelihood'] > confidence_threshold:\n",
    "                    check += 1\n",
    "            if check==4:\n",
    "                feature_present = True\n",
    "\n",
    "            # If the desired facial features are present, save the frame to the output video\n",
    "            if feature_present: #check==4\n",
    "                frame_ids.append(frame_number)\n",
    "\n",
    "            # Display the output\n",
    "            #cv2.imshow('output', frame)\n",
    "            if cv2.waitKey(1) & 0xFF == ord('q'):\n",
    "                break\n",
    "            print(round(frame_number/tot_frame*100, 2), end = '\\r')\n",
    "            # Increment the frame number\n",
    "            frame_number += 1\n",
    "        else:\n",
    "            break\n",
    "    print(\"Done\")\n",
    "    # Release resources\n",
    "    cap.release()\n",
    "    # out.release()\n",
    "    cv2.destroyAllWindows()\n",
    "    return frame_ids"
   ]
  },
  {
   "cell_type": "code",
   "execution_count": 25,
   "id": "a000bb16-cdba-498f-aa52-919369d65ca9",
   "metadata": {
    "tags": []
   },
   "outputs": [],
   "source": [
    "# len(frame_ids)"
   ]
  },
  {
   "cell_type": "code",
   "execution_count": 9,
   "id": "42ee40e0-e0f6-4de5-9165-393cc2661f18",
   "metadata": {},
   "outputs": [],
   "source": [
    "os.chdir('/home/yramakrishna/DeepLabCut/conda-environments/Codes/All_vids')"
   ]
  },
  {
   "cell_type": "code",
   "execution_count": 10,
   "id": "f424f6ca-d1c3-493e-969d-e9b56c8100b9",
   "metadata": {},
   "outputs": [
    {
     "data": {
      "text/plain": [
       "'/home/yramakrishna/DeepLabCut/conda-environments/Codes/All_vids'"
      ]
     },
     "execution_count": 10,
     "metadata": {},
     "output_type": "execute_result"
    }
   ],
   "source": [
    "os.getcwd()"
   ]
  },
  {
   "cell_type": "code",
   "execution_count": 11,
   "id": "1cdfe55a-81ec-4436-af99-f4c391dd18ad",
   "metadata": {},
   "outputs": [],
   "source": [
    "if not os.path.exists('Cropped_vids'):\n",
    "        os.makedirs('Cropped_vids')\n",
    "os.chdir('Cropped_vids')"
   ]
  },
  {
   "cell_type": "code",
   "execution_count": 12,
   "id": "9200856c-821a-472c-bef0-c488974a0dca",
   "metadata": {
    "tags": []
   },
   "outputs": [],
   "source": [
    "crop_source = []\n",
    "if len(h5files)==len(vid_to_crop):\n",
    "    for i in h5files:\n",
    "        found = ''\n",
    "        for j in vid_to_crop:\n",
    "            x = os.path.splitext(i)[0].rstrip('_filtered.h5')\n",
    "            y = os.path.splitext(j)[0].rstrip('filtered_labeled.mp4')\n",
    "            if x==y:\n",
    "                found = j\n",
    "        k = os.path.basename(i)\n",
    "        l = 'DLC' + k.split('DLC')[1] + 'DLC' + k.split('DLC')[2].rstrip('_filtered.h5')\n",
    "        # print(l)\n",
    "        # print(i)\n",
    "        # print(found)\n",
    "        # # print(k)\n",
    "        # print(l)\n",
    "        # # print('')\n",
    "        crop_source.append([i,found, l])\n",
    "c_s = np.array(crop_source)\n"
   ]
  },
  {
   "cell_type": "code",
   "execution_count": 13,
   "id": "afca2d8c-0237-47d5-ba65-aad25a30fa9c",
   "metadata": {
    "collapsed": true,
    "jupyter": {
     "outputs_hidden": true
    },
    "tags": []
   },
   "outputs": [
    {
     "name": "stdout",
     "output_type": "stream",
     "text": [
      "Starting Cropping\n",
      "Done0\n",
      "Starting Cropping\n",
      "Done0\n",
      "Starting Cropping\n",
      "Done0\n",
      "Starting Cropping\n",
      "Done0\n",
      "Starting Cropping\n",
      "Done0\n",
      "Starting Cropping\n",
      "Done0\n",
      "Starting Cropping\n",
      "Done0\n",
      "Starting Cropping\n",
      "Done0\n",
      "Starting Cropping\n",
      "Done0\n",
      "Starting Cropping\n",
      "Done0\n",
      "Starting Cropping\n",
      "Done0\n",
      "Starting Cropping\n",
      "Done0\n",
      "Starting Cropping\n",
      "Done0\n",
      "Starting Cropping\n",
      "Done0\n",
      "Starting Cropping\n",
      "Done0\n",
      "Starting Cropping\n",
      "Done0\n",
      "Starting Cropping\n",
      "Done0\n",
      "Starting Cropping\n",
      "Done0\n",
      "Starting Cropping\n",
      "Done0\n",
      "Starting Cropping\n",
      "Done0\n",
      "Starting Cropping\n",
      "Done0\n",
      "Starting Cropping\n",
      "Done0\n"
     ]
    }
   ],
   "source": [
    "all_frames = []\n",
    "# crop_it(c_s[0])\n",
    "for i in c_s:\n",
    "    x = crop_it(i)\n",
    "    all_frames.append([i[1],x])\n",
    "    \n"
   ]
  },
  {
   "cell_type": "code",
   "execution_count": 15,
   "id": "ab39f859-60df-43ae-a186-c112f56d8884",
   "metadata": {},
   "outputs": [
    {
     "data": {
      "text/html": [
       "<div>\n",
       "<style scoped>\n",
       "    .dataframe tbody tr th:only-of-type {\n",
       "        vertical-align: middle;\n",
       "    }\n",
       "\n",
       "    .dataframe tbody tr th {\n",
       "        vertical-align: top;\n",
       "    }\n",
       "\n",
       "    .dataframe thead th {\n",
       "        text-align: right;\n",
       "    }\n",
       "</style>\n",
       "<table border=\"1\" class=\"dataframe\">\n",
       "  <thead>\n",
       "    <tr style=\"text-align: right;\">\n",
       "      <th></th>\n",
       "      <th>File_name</th>\n",
       "      <th>framesIDS</th>\n",
       "    </tr>\n",
       "  </thead>\n",
       "  <tbody>\n",
       "    <tr>\n",
       "      <th>0</th>\n",
       "      <td>/home/yramakrishna/DeepLabCut/conda-environmen...</td>\n",
       "      <td>[395, 396, 397, 398, 399, 400, 401, 402, 406, ...</td>\n",
       "    </tr>\n",
       "    <tr>\n",
       "      <th>1</th>\n",
       "      <td>/home/yramakrishna/DeepLabCut/conda-environmen...</td>\n",
       "      <td>[529, 530, 531, 532, 533, 534, 535, 536, 537, ...</td>\n",
       "    </tr>\n",
       "    <tr>\n",
       "      <th>2</th>\n",
       "      <td>/home/yramakrishna/DeepLabCut/conda-environmen...</td>\n",
       "      <td>[524, 525, 569, 570, 571, 572, 573, 574, 575, ...</td>\n",
       "    </tr>\n",
       "    <tr>\n",
       "      <th>3</th>\n",
       "      <td>/home/yramakrishna/DeepLabCut/conda-environmen...</td>\n",
       "      <td>[340, 341, 342, 343, 344, 345, 346, 347, 348, ...</td>\n",
       "    </tr>\n",
       "    <tr>\n",
       "      <th>4</th>\n",
       "      <td>/home/yramakrishna/DeepLabCut/conda-environmen...</td>\n",
       "      <td>[1099, 1100, 1114, 1115, 1116, 1117, 1118, 111...</td>\n",
       "    </tr>\n",
       "    <tr>\n",
       "      <th>5</th>\n",
       "      <td>/home/yramakrishna/DeepLabCut/conda-environmen...</td>\n",
       "      <td>[1117, 1118, 1122, 1123, 1124, 1125, 1126, 112...</td>\n",
       "    </tr>\n",
       "    <tr>\n",
       "      <th>6</th>\n",
       "      <td>/home/yramakrishna/DeepLabCut/conda-environmen...</td>\n",
       "      <td>[248, 249, 250, 251, 252, 253, 256, 257, 263, ...</td>\n",
       "    </tr>\n",
       "    <tr>\n",
       "      <th>7</th>\n",
       "      <td>/home/yramakrishna/DeepLabCut/conda-environmen...</td>\n",
       "      <td>[395, 396, 397, 398, 399, 400, 401, 402, 410, ...</td>\n",
       "    </tr>\n",
       "    <tr>\n",
       "      <th>8</th>\n",
       "      <td>/home/yramakrishna/DeepLabCut/conda-environmen...</td>\n",
       "      <td>[51, 52, 56, 57, 58, 59, 60, 61, 62, 63, 64, 6...</td>\n",
       "    </tr>\n",
       "    <tr>\n",
       "      <th>9</th>\n",
       "      <td>/home/yramakrishna/DeepLabCut/conda-environmen...</td>\n",
       "      <td>[1811, 1812, 1813, 1814, 1815, 1816, 1817, 181...</td>\n",
       "    </tr>\n",
       "    <tr>\n",
       "      <th>10</th>\n",
       "      <td>/home/yramakrishna/DeepLabCut/conda-environmen...</td>\n",
       "      <td>[634, 635, 636, 1010, 1011, 2853, 2854, 2855, ...</td>\n",
       "    </tr>\n",
       "    <tr>\n",
       "      <th>11</th>\n",
       "      <td>/home/yramakrishna/DeepLabCut/conda-environmen...</td>\n",
       "      <td>[270, 271, 324, 325, 326, 327, 328, 329, 330, ...</td>\n",
       "    </tr>\n",
       "    <tr>\n",
       "      <th>12</th>\n",
       "      <td>/home/yramakrishna/DeepLabCut/conda-environmen...</td>\n",
       "      <td>[308, 309, 310, 312, 313, 314, 315, 316, 317, ...</td>\n",
       "    </tr>\n",
       "    <tr>\n",
       "      <th>13</th>\n",
       "      <td>/home/yramakrishna/DeepLabCut/conda-environmen...</td>\n",
       "      <td>[441, 442, 443, 444, 445, 1018, 1045, 1046, 11...</td>\n",
       "    </tr>\n",
       "    <tr>\n",
       "      <th>14</th>\n",
       "      <td>/home/yramakrishna/DeepLabCut/conda-environmen...</td>\n",
       "      <td>[1815, 1816, 1817, 1818, 1819, 1820, 1821, 182...</td>\n",
       "    </tr>\n",
       "    <tr>\n",
       "      <th>15</th>\n",
       "      <td>/home/yramakrishna/DeepLabCut/conda-environmen...</td>\n",
       "      <td>[334, 335, 336, 337, 338, 339, 340, 341, 342, ...</td>\n",
       "    </tr>\n",
       "    <tr>\n",
       "      <th>16</th>\n",
       "      <td>/home/yramakrishna/DeepLabCut/conda-environmen...</td>\n",
       "      <td>[299, 300, 301, 302, 303, 304, 306, 307, 308, ...</td>\n",
       "    </tr>\n",
       "    <tr>\n",
       "      <th>17</th>\n",
       "      <td>/home/yramakrishna/DeepLabCut/conda-environmen...</td>\n",
       "      <td>[5303, 5304, 7143, 7144, 7171, 7177, 7180, 718...</td>\n",
       "    </tr>\n",
       "    <tr>\n",
       "      <th>18</th>\n",
       "      <td>/home/yramakrishna/DeepLabCut/conda-environmen...</td>\n",
       "      <td>[249, 250, 251, 252, 253, 263, 264, 265, 266, ...</td>\n",
       "    </tr>\n",
       "    <tr>\n",
       "      <th>19</th>\n",
       "      <td>/home/yramakrishna/DeepLabCut/conda-environmen...</td>\n",
       "      <td>[2668, 2669, 2670, 2713, 2714, 2715, 2725, 272...</td>\n",
       "    </tr>\n",
       "    <tr>\n",
       "      <th>20</th>\n",
       "      <td>/home/yramakrishna/DeepLabCut/conda-environmen...</td>\n",
       "      <td>[523, 524, 525, 526, 527, 528, 529, 530, 531, ...</td>\n",
       "    </tr>\n",
       "    <tr>\n",
       "      <th>21</th>\n",
       "      <td>/home/yramakrishna/DeepLabCut/conda-environmen...</td>\n",
       "      <td>[5303, 5304, 7085, 7086, 7087, 7088, 7089, 709...</td>\n",
       "    </tr>\n",
       "  </tbody>\n",
       "</table>\n",
       "</div>"
      ],
      "text/plain": [
       "                                            File_name  \\\n",
       "0   /home/yramakrishna/DeepLabCut/conda-environmen...   \n",
       "1   /home/yramakrishna/DeepLabCut/conda-environmen...   \n",
       "2   /home/yramakrishna/DeepLabCut/conda-environmen...   \n",
       "3   /home/yramakrishna/DeepLabCut/conda-environmen...   \n",
       "4   /home/yramakrishna/DeepLabCut/conda-environmen...   \n",
       "5   /home/yramakrishna/DeepLabCut/conda-environmen...   \n",
       "6   /home/yramakrishna/DeepLabCut/conda-environmen...   \n",
       "7   /home/yramakrishna/DeepLabCut/conda-environmen...   \n",
       "8   /home/yramakrishna/DeepLabCut/conda-environmen...   \n",
       "9   /home/yramakrishna/DeepLabCut/conda-environmen...   \n",
       "10  /home/yramakrishna/DeepLabCut/conda-environmen...   \n",
       "11  /home/yramakrishna/DeepLabCut/conda-environmen...   \n",
       "12  /home/yramakrishna/DeepLabCut/conda-environmen...   \n",
       "13  /home/yramakrishna/DeepLabCut/conda-environmen...   \n",
       "14  /home/yramakrishna/DeepLabCut/conda-environmen...   \n",
       "15  /home/yramakrishna/DeepLabCut/conda-environmen...   \n",
       "16  /home/yramakrishna/DeepLabCut/conda-environmen...   \n",
       "17  /home/yramakrishna/DeepLabCut/conda-environmen...   \n",
       "18  /home/yramakrishna/DeepLabCut/conda-environmen...   \n",
       "19  /home/yramakrishna/DeepLabCut/conda-environmen...   \n",
       "20  /home/yramakrishna/DeepLabCut/conda-environmen...   \n",
       "21  /home/yramakrishna/DeepLabCut/conda-environmen...   \n",
       "\n",
       "                                            framesIDS  \n",
       "0   [395, 396, 397, 398, 399, 400, 401, 402, 406, ...  \n",
       "1   [529, 530, 531, 532, 533, 534, 535, 536, 537, ...  \n",
       "2   [524, 525, 569, 570, 571, 572, 573, 574, 575, ...  \n",
       "3   [340, 341, 342, 343, 344, 345, 346, 347, 348, ...  \n",
       "4   [1099, 1100, 1114, 1115, 1116, 1117, 1118, 111...  \n",
       "5   [1117, 1118, 1122, 1123, 1124, 1125, 1126, 112...  \n",
       "6   [248, 249, 250, 251, 252, 253, 256, 257, 263, ...  \n",
       "7   [395, 396, 397, 398, 399, 400, 401, 402, 410, ...  \n",
       "8   [51, 52, 56, 57, 58, 59, 60, 61, 62, 63, 64, 6...  \n",
       "9   [1811, 1812, 1813, 1814, 1815, 1816, 1817, 181...  \n",
       "10  [634, 635, 636, 1010, 1011, 2853, 2854, 2855, ...  \n",
       "11  [270, 271, 324, 325, 326, 327, 328, 329, 330, ...  \n",
       "12  [308, 309, 310, 312, 313, 314, 315, 316, 317, ...  \n",
       "13  [441, 442, 443, 444, 445, 1018, 1045, 1046, 11...  \n",
       "14  [1815, 1816, 1817, 1818, 1819, 1820, 1821, 182...  \n",
       "15  [334, 335, 336, 337, 338, 339, 340, 341, 342, ...  \n",
       "16  [299, 300, 301, 302, 303, 304, 306, 307, 308, ...  \n",
       "17  [5303, 5304, 7143, 7144, 7171, 7177, 7180, 718...  \n",
       "18  [249, 250, 251, 252, 253, 263, 264, 265, 266, ...  \n",
       "19  [2668, 2669, 2670, 2713, 2714, 2715, 2725, 272...  \n",
       "20  [523, 524, 525, 526, 527, 528, 529, 530, 531, ...  \n",
       "21  [5303, 5304, 7085, 7086, 7087, 7088, 7089, 709...  "
      ]
     },
     "execution_count": 15,
     "metadata": {},
     "output_type": "execute_result"
    }
   ],
   "source": [
    "# print(all_frames)\n",
    "af = pd.DataFrame(all_frames, columns = ['File_name', 'framesIDS'])\n",
    "af"
   ]
  },
  {
   "cell_type": "code",
   "execution_count": 16,
   "id": "c3dbda35-7a35-4c28-aa8e-34a490382cda",
   "metadata": {},
   "outputs": [
    {
     "data": {
      "text/plain": [
       "20761"
      ]
     },
     "execution_count": 16,
     "metadata": {},
     "output_type": "execute_result"
    }
   ],
   "source": [
    "len(af.framesIDS[1])"
   ]
  },
  {
   "cell_type": "code",
   "execution_count": 21,
   "id": "043d1d4a-74d7-416a-964a-bc05525561e8",
   "metadata": {},
   "outputs": [],
   "source": [
    "\n",
    "fl_name = '/home/yramakrishna/DeepLabCut/conda-environments/Codes/Frame_Ids.csv'"
   ]
  },
  {
   "cell_type": "code",
   "execution_count": 22,
   "id": "f4516532-c43f-4d8b-93ac-7d7ed9d71517",
   "metadata": {},
   "outputs": [],
   "source": [
    "\n",
    "fl_name = '/home/yramakrishna/DeepLabCut/conda-environments/Codes/Frame_Ids.csv'\n",
    "# open the file in the write mode\n",
    "f = open(fl_name, 'w')\n",
    "\n",
    "# write a row to the csv file\n",
    "af.to_csv(fl_name, index=False)"
   ]
  },
  {
   "cell_type": "code",
   "execution_count": 23,
   "id": "05a91dad-edd1-4193-81df-18673551d7c0",
   "metadata": {},
   "outputs": [],
   "source": [
    "fl_name = '/home/yramakrishna/DeepLabCut/conda-environments/Codes/Frame_Ids.csv'\n",
    "f = pd.read_csv(fl_name)\n"
   ]
  },
  {
   "cell_type": "code",
   "execution_count": 24,
   "id": "7219b467-f127-4e75-bcc8-5093ce085847",
   "metadata": {},
   "outputs": [
    {
     "data": {
      "text/html": [
       "<div>\n",
       "<style scoped>\n",
       "    .dataframe tbody tr th:only-of-type {\n",
       "        vertical-align: middle;\n",
       "    }\n",
       "\n",
       "    .dataframe tbody tr th {\n",
       "        vertical-align: top;\n",
       "    }\n",
       "\n",
       "    .dataframe thead th {\n",
       "        text-align: right;\n",
       "    }\n",
       "</style>\n",
       "<table border=\"1\" class=\"dataframe\">\n",
       "  <thead>\n",
       "    <tr style=\"text-align: right;\">\n",
       "      <th></th>\n",
       "      <th>File_name</th>\n",
       "      <th>framesIDS</th>\n",
       "    </tr>\n",
       "  </thead>\n",
       "  <tbody>\n",
       "    <tr>\n",
       "      <th>0</th>\n",
       "      <td>/home/yramakrishna/DeepLabCut/conda-environmen...</td>\n",
       "      <td>[395, 396, 397, 398, 399, 400, 401, 402, 406, ...</td>\n",
       "    </tr>\n",
       "    <tr>\n",
       "      <th>1</th>\n",
       "      <td>/home/yramakrishna/DeepLabCut/conda-environmen...</td>\n",
       "      <td>[529, 530, 531, 532, 533, 534, 535, 536, 537, ...</td>\n",
       "    </tr>\n",
       "    <tr>\n",
       "      <th>2</th>\n",
       "      <td>/home/yramakrishna/DeepLabCut/conda-environmen...</td>\n",
       "      <td>[524, 525, 569, 570, 571, 572, 573, 574, 575, ...</td>\n",
       "    </tr>\n",
       "    <tr>\n",
       "      <th>3</th>\n",
       "      <td>/home/yramakrishna/DeepLabCut/conda-environmen...</td>\n",
       "      <td>[340, 341, 342, 343, 344, 345, 346, 347, 348, ...</td>\n",
       "    </tr>\n",
       "    <tr>\n",
       "      <th>4</th>\n",
       "      <td>/home/yramakrishna/DeepLabCut/conda-environmen...</td>\n",
       "      <td>[1099, 1100, 1114, 1115, 1116, 1117, 1118, 111...</td>\n",
       "    </tr>\n",
       "    <tr>\n",
       "      <th>5</th>\n",
       "      <td>/home/yramakrishna/DeepLabCut/conda-environmen...</td>\n",
       "      <td>[1117, 1118, 1122, 1123, 1124, 1125, 1126, 112...</td>\n",
       "    </tr>\n",
       "    <tr>\n",
       "      <th>6</th>\n",
       "      <td>/home/yramakrishna/DeepLabCut/conda-environmen...</td>\n",
       "      <td>[248, 249, 250, 251, 252, 253, 256, 257, 263, ...</td>\n",
       "    </tr>\n",
       "    <tr>\n",
       "      <th>7</th>\n",
       "      <td>/home/yramakrishna/DeepLabCut/conda-environmen...</td>\n",
       "      <td>[395, 396, 397, 398, 399, 400, 401, 402, 410, ...</td>\n",
       "    </tr>\n",
       "    <tr>\n",
       "      <th>8</th>\n",
       "      <td>/home/yramakrishna/DeepLabCut/conda-environmen...</td>\n",
       "      <td>[51, 52, 56, 57, 58, 59, 60, 61, 62, 63, 64, 6...</td>\n",
       "    </tr>\n",
       "    <tr>\n",
       "      <th>9</th>\n",
       "      <td>/home/yramakrishna/DeepLabCut/conda-environmen...</td>\n",
       "      <td>[1811, 1812, 1813, 1814, 1815, 1816, 1817, 181...</td>\n",
       "    </tr>\n",
       "    <tr>\n",
       "      <th>10</th>\n",
       "      <td>/home/yramakrishna/DeepLabCut/conda-environmen...</td>\n",
       "      <td>[634, 635, 636, 1010, 1011, 2853, 2854, 2855, ...</td>\n",
       "    </tr>\n",
       "    <tr>\n",
       "      <th>11</th>\n",
       "      <td>/home/yramakrishna/DeepLabCut/conda-environmen...</td>\n",
       "      <td>[270, 271, 324, 325, 326, 327, 328, 329, 330, ...</td>\n",
       "    </tr>\n",
       "    <tr>\n",
       "      <th>12</th>\n",
       "      <td>/home/yramakrishna/DeepLabCut/conda-environmen...</td>\n",
       "      <td>[308, 309, 310, 312, 313, 314, 315, 316, 317, ...</td>\n",
       "    </tr>\n",
       "    <tr>\n",
       "      <th>13</th>\n",
       "      <td>/home/yramakrishna/DeepLabCut/conda-environmen...</td>\n",
       "      <td>[441, 442, 443, 444, 445, 1018, 1045, 1046, 11...</td>\n",
       "    </tr>\n",
       "    <tr>\n",
       "      <th>14</th>\n",
       "      <td>/home/yramakrishna/DeepLabCut/conda-environmen...</td>\n",
       "      <td>[1815, 1816, 1817, 1818, 1819, 1820, 1821, 182...</td>\n",
       "    </tr>\n",
       "    <tr>\n",
       "      <th>15</th>\n",
       "      <td>/home/yramakrishna/DeepLabCut/conda-environmen...</td>\n",
       "      <td>[334, 335, 336, 337, 338, 339, 340, 341, 342, ...</td>\n",
       "    </tr>\n",
       "    <tr>\n",
       "      <th>16</th>\n",
       "      <td>/home/yramakrishna/DeepLabCut/conda-environmen...</td>\n",
       "      <td>[299, 300, 301, 302, 303, 304, 306, 307, 308, ...</td>\n",
       "    </tr>\n",
       "    <tr>\n",
       "      <th>17</th>\n",
       "      <td>/home/yramakrishna/DeepLabCut/conda-environmen...</td>\n",
       "      <td>[5303, 5304, 7143, 7144, 7171, 7177, 7180, 718...</td>\n",
       "    </tr>\n",
       "    <tr>\n",
       "      <th>18</th>\n",
       "      <td>/home/yramakrishna/DeepLabCut/conda-environmen...</td>\n",
       "      <td>[249, 250, 251, 252, 253, 263, 264, 265, 266, ...</td>\n",
       "    </tr>\n",
       "    <tr>\n",
       "      <th>19</th>\n",
       "      <td>/home/yramakrishna/DeepLabCut/conda-environmen...</td>\n",
       "      <td>[2668, 2669, 2670, 2713, 2714, 2715, 2725, 272...</td>\n",
       "    </tr>\n",
       "    <tr>\n",
       "      <th>20</th>\n",
       "      <td>/home/yramakrishna/DeepLabCut/conda-environmen...</td>\n",
       "      <td>[523, 524, 525, 526, 527, 528, 529, 530, 531, ...</td>\n",
       "    </tr>\n",
       "    <tr>\n",
       "      <th>21</th>\n",
       "      <td>/home/yramakrishna/DeepLabCut/conda-environmen...</td>\n",
       "      <td>[5303, 5304, 7085, 7086, 7087, 7088, 7089, 709...</td>\n",
       "    </tr>\n",
       "  </tbody>\n",
       "</table>\n",
       "</div>"
      ],
      "text/plain": [
       "                                            File_name  \\\n",
       "0   /home/yramakrishna/DeepLabCut/conda-environmen...   \n",
       "1   /home/yramakrishna/DeepLabCut/conda-environmen...   \n",
       "2   /home/yramakrishna/DeepLabCut/conda-environmen...   \n",
       "3   /home/yramakrishna/DeepLabCut/conda-environmen...   \n",
       "4   /home/yramakrishna/DeepLabCut/conda-environmen...   \n",
       "5   /home/yramakrishna/DeepLabCut/conda-environmen...   \n",
       "6   /home/yramakrishna/DeepLabCut/conda-environmen...   \n",
       "7   /home/yramakrishna/DeepLabCut/conda-environmen...   \n",
       "8   /home/yramakrishna/DeepLabCut/conda-environmen...   \n",
       "9   /home/yramakrishna/DeepLabCut/conda-environmen...   \n",
       "10  /home/yramakrishna/DeepLabCut/conda-environmen...   \n",
       "11  /home/yramakrishna/DeepLabCut/conda-environmen...   \n",
       "12  /home/yramakrishna/DeepLabCut/conda-environmen...   \n",
       "13  /home/yramakrishna/DeepLabCut/conda-environmen...   \n",
       "14  /home/yramakrishna/DeepLabCut/conda-environmen...   \n",
       "15  /home/yramakrishna/DeepLabCut/conda-environmen...   \n",
       "16  /home/yramakrishna/DeepLabCut/conda-environmen...   \n",
       "17  /home/yramakrishna/DeepLabCut/conda-environmen...   \n",
       "18  /home/yramakrishna/DeepLabCut/conda-environmen...   \n",
       "19  /home/yramakrishna/DeepLabCut/conda-environmen...   \n",
       "20  /home/yramakrishna/DeepLabCut/conda-environmen...   \n",
       "21  /home/yramakrishna/DeepLabCut/conda-environmen...   \n",
       "\n",
       "                                            framesIDS  \n",
       "0   [395, 396, 397, 398, 399, 400, 401, 402, 406, ...  \n",
       "1   [529, 530, 531, 532, 533, 534, 535, 536, 537, ...  \n",
       "2   [524, 525, 569, 570, 571, 572, 573, 574, 575, ...  \n",
       "3   [340, 341, 342, 343, 344, 345, 346, 347, 348, ...  \n",
       "4   [1099, 1100, 1114, 1115, 1116, 1117, 1118, 111...  \n",
       "5   [1117, 1118, 1122, 1123, 1124, 1125, 1126, 112...  \n",
       "6   [248, 249, 250, 251, 252, 253, 256, 257, 263, ...  \n",
       "7   [395, 396, 397, 398, 399, 400, 401, 402, 410, ...  \n",
       "8   [51, 52, 56, 57, 58, 59, 60, 61, 62, 63, 64, 6...  \n",
       "9   [1811, 1812, 1813, 1814, 1815, 1816, 1817, 181...  \n",
       "10  [634, 635, 636, 1010, 1011, 2853, 2854, 2855, ...  \n",
       "11  [270, 271, 324, 325, 326, 327, 328, 329, 330, ...  \n",
       "12  [308, 309, 310, 312, 313, 314, 315, 316, 317, ...  \n",
       "13  [441, 442, 443, 444, 445, 1018, 1045, 1046, 11...  \n",
       "14  [1815, 1816, 1817, 1818, 1819, 1820, 1821, 182...  \n",
       "15  [334, 335, 336, 337, 338, 339, 340, 341, 342, ...  \n",
       "16  [299, 300, 301, 302, 303, 304, 306, 307, 308, ...  \n",
       "17  [5303, 5304, 7143, 7144, 7171, 7177, 7180, 718...  \n",
       "18  [249, 250, 251, 252, 253, 263, 264, 265, 266, ...  \n",
       "19  [2668, 2669, 2670, 2713, 2714, 2715, 2725, 272...  \n",
       "20  [523, 524, 525, 526, 527, 528, 529, 530, 531, ...  \n",
       "21  [5303, 5304, 7085, 7086, 7087, 7088, 7089, 709...  "
      ]
     },
     "execution_count": 24,
     "metadata": {},
     "output_type": "execute_result"
    }
   ],
   "source": [
    "f"
   ]
  },
  {
   "cell_type": "code",
   "execution_count": 14,
   "id": "87b08c2f-b1e0-4134-a491-600a41613634",
   "metadata": {},
   "outputs": [
    {
     "name": "stderr",
     "output_type": "stream",
     "text": [
      "[ WARN:0@2593.887] global loadsave.cpp:244 findDecoder imread_('GFG.png'): can't open/read file: check file path/integrity\n",
      "[ WARN:0@2593.887] global loadsave.cpp:244 findDecoder imread_('GFG.png'): can't open/read file: check file path/integrity\n"
     ]
    },
    {
     "ename": "ValueError",
     "evalue": "zero-dimensional arrays cannot be concatenated",
     "output_type": "error",
     "traceback": [
      "\u001b[0;31m---------------------------------------------------------------------------\u001b[0m",
      "\u001b[0;31mValueError\u001b[0m                                Traceback (most recent call last)",
      "\u001b[0;32m/tmp/ipykernel_4907/3384054908.py\u001b[0m in \u001b[0;36m<module>\u001b[0;34m\u001b[0m\n\u001b[1;32m     10\u001b[0m \u001b[0;34m\u001b[0m\u001b[0m\n\u001b[1;32m     11\u001b[0m \u001b[0;31m# concatenate image Horizontally\u001b[0m\u001b[0;34m\u001b[0m\u001b[0;34m\u001b[0m\u001b[0m\n\u001b[0;32m---> 12\u001b[0;31m \u001b[0mHori\u001b[0m \u001b[0;34m=\u001b[0m \u001b[0mnp\u001b[0m\u001b[0;34m.\u001b[0m\u001b[0mconcatenate\u001b[0m\u001b[0;34m(\u001b[0m\u001b[0;34m(\u001b[0m\u001b[0mimg1\u001b[0m\u001b[0;34m,\u001b[0m \u001b[0mimg2\u001b[0m\u001b[0;34m)\u001b[0m\u001b[0;34m,\u001b[0m \u001b[0maxis\u001b[0m\u001b[0;34m=\u001b[0m\u001b[0;36m1\u001b[0m\u001b[0;34m)\u001b[0m\u001b[0;34m\u001b[0m\u001b[0;34m\u001b[0m\u001b[0m\n\u001b[0m\u001b[1;32m     13\u001b[0m \u001b[0;34m\u001b[0m\u001b[0m\n\u001b[1;32m     14\u001b[0m \u001b[0;31m# concatenate image Vertically\u001b[0m\u001b[0;34m\u001b[0m\u001b[0;34m\u001b[0m\u001b[0m\n",
      "\u001b[0;32m<__array_function__ internals>\u001b[0m in \u001b[0;36mconcatenate\u001b[0;34m(*args, **kwargs)\u001b[0m\n",
      "\u001b[0;31mValueError\u001b[0m: zero-dimensional arrays cannot be concatenated"
     ]
    }
   ],
   "source": []
  }
 ],
 "metadata": {
  "kernelspec": {
   "display_name": "Python 3 (ipykernel)",
   "language": "python",
   "name": "python3"
  },
  "language_info": {
   "codemirror_mode": {
    "name": "ipython",
    "version": 3
   },
   "file_extension": ".py",
   "mimetype": "text/x-python",
   "name": "python",
   "nbconvert_exporter": "python",
   "pygments_lexer": "ipython3",
   "version": "3.9.13"
  }
 },
 "nbformat": 4,
 "nbformat_minor": 5
}
