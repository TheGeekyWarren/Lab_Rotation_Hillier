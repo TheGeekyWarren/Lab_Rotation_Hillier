{
 "cells": [
  {
   "cell_type": "code",
   "execution_count": null,
   "id": "aca8d936-05af-4426-b80f-1d276f63e4e7",
   "metadata": {},
   "outputs": [],
   "source": [
    "# import required libraries\n",
    "from vidgear.gears import NetGear\n",
    "import cv2\n",
    "\n",
    "# define various tweak flags\n",
    "options = {\"flag\": 0, \"copy\": False, \"track\": False}\n",
    "\n",
    "# Define Netgear Client at given IP address and define parameters \n",
    "# !!! change following IP address '192.168.x.xxx' with yours !!!\n",
    "client = NetGear(\n",
    "    address=\"172.16.11.101\",\n",
    "    port=\"5454\",\n",
    "    protocol=\"tcp\",\n",
    "    pattern=1,\n",
    "    receive_mode=True,\n",
    "    logging=True,\n",
    "    **options\n",
    ")\n",
    "\n",
    "fourcc = cv2.VideoWriter_fourcc(*'mp4v')\n",
    "fps = 30\n",
    "out = cv2.VideoWriter('RPi_Vid_Capture.mp4', fourcc, fps, (640, 480))\n",
    "\n",
    "# loop over\n",
    "while True:\n",
    "\n",
    "    # receive frames from network\n",
    "    frame = client.recv()\n",
    "\n",
    "    # check for received frame if Nonetype\n",
    "    if frame is None:\n",
    "        break\n",
    "\n",
    "    # {do something with the frame here}\n",
    "\n",
    "    # Show output window\n",
    "    cv2.imshow(\"Output Frame\", frame)\n",
    "    out.write(frame)\n",
    "\n",
    "    # check for 'q' key if pressed\n",
    "    key = cv2.waitKey(1) & 0xFF\n",
    "    if key == ord(\"q\"):\n",
    "        break\n",
    "\n",
    "# close output window\n",
    "out.release()\n",
    "cv2.destroyAllWindows()\n",
    "\n",
    "# safely close client\n",
    "client.close()"
   ]
  },
  {
   "cell_type": "code",
   "execution_count": null,
   "id": "dafa0f18-d491-459e-9532-6ff22524b649",
   "metadata": {},
   "outputs": [],
   "source": []
  }
 ],
 "metadata": {
  "kernelspec": {
   "display_name": "Python 3 (ipykernel)",
   "language": "python",
   "name": "python3"
  },
  "language_info": {
   "codemirror_mode": {
    "name": "ipython",
    "version": 3
   },
   "file_extension": ".py",
   "mimetype": "text/x-python",
   "name": "python",
   "nbconvert_exporter": "python",
   "pygments_lexer": "ipython3",
   "version": "3.9.13"
  }
 },
 "nbformat": 4,
 "nbformat_minor": 5
}
