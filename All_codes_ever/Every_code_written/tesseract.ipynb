{
 "cells": [
  {
   "cell_type": "code",
   "execution_count": null,
   "id": "99021421-51f3-41b9-a538-6ce9736ab1e2",
   "metadata": {},
   "outputs": [],
   "source": [
    "import cv2\n",
    "import pytesseract\n",
    "#this code is used for extracting text from a video file\n",
    "# Open the video file\n",
    "cap = cv2.VideoCapture('2019-10-10-13-10-04_labeled.avi')\n",
    "\n",
    "# Loop through the frames in the video\n",
    "while cap.isOpened():\n",
    "    # Read a frame from the video\n",
    "    ret, frame = cap.read()\n",
    "\n",
    "    if not ret:\n",
    "        break\n",
    "\n",
    "    # Convert the frame to grayscale and apply thresholding\n",
    "    gray = cv2.cvtColor(frame, cv2.COLOR_BGR2GRAY)#converted to gray scale\n",
    "    gray = cv2.GaussianBlur(gray, (5, 5), 0)#gaussian blur applied to smooth the image\n",
    "    thresh = cv2.threshold(gray, 0, 255, cv2.THRESH_BINARY_INV + cv2.THRESH_OTSU)[1]\n",
    "\n",
    "    # Use pytesseract to extract text from the frame\n",
    "    text = pytesseract.image_to_string(thresh, lang='eng')#binary image is passed here\n",
    "\n",
    "    # Print the extracted text from the frame\n",
    "    print(text)\n",
    "\n",
    "# Release the video capture object\n",
    "cap.release()\n",
    "\n",
    "\n"
   ]
  }
 ],
 "metadata": {
  "kernelspec": {
   "display_name": "Python 3 (ipykernel)",
   "language": "python",
   "name": "python3"
  },
  "language_info": {
   "codemirror_mode": {
    "name": "ipython",
    "version": 3
   },
   "file_extension": ".py",
   "mimetype": "text/x-python",
   "name": "python",
   "nbconvert_exporter": "python",
   "pygments_lexer": "ipython3",
   "version": "3.9.13"
  }
 },
 "nbformat": 4,
 "nbformat_minor": 5
}
