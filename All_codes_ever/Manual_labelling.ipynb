{
 "cells": [
  {
   "cell_type": "code",
   "execution_count": null,
   "id": "494c8fc3-6c29-4a13-8d53-0c70ec7adcf4",
   "metadata": {},
   "outputs": [],
   "source": [
    "import os\n",
    "import cv2\n",
    "import shutil\n",
    "import deeplabcut\n",
    "import numpy as np\n",
    "import pandas as pd\n",
    "import os\n"
   ]
  },
  {
   "cell_type": "code",
   "execution_count": null,
   "id": "fb230c84-cea2-48e8-8b9c-88cca914b07c",
   "metadata": {},
   "outputs": [],
   "source": [
    "os.getcwd()"
   ]
  },
  {
   "cell_type": "code",
   "execution_count": null,
   "id": "d9af30d7-1954-456d-b82b-2ab6e15a070a",
   "metadata": {},
   "outputs": [],
   "source": [
    "start_file  ='/home/yramakrishna/DeepLabCut/conda-environments/Codes/Ken_Test_Long.mp4'"
   ]
  },
  {
   "cell_type": "code",
   "execution_count": null,
   "id": "8ec75b55-2ddb-45f2-9a24-46704fe84a7e",
   "metadata": {},
   "outputs": [],
   "source": []
  },
  {
   "cell_type": "code",
   "execution_count": null,
   "id": "881a6aaf-cbf4-48db-b942-b551ab5f68fa",
   "metadata": {},
   "outputs": [],
   "source": [
    "dsv = start_file#deeplabcut.DownSampleVideo(start_file, width=640, height=480)"
   ]
  },
  {
   "cell_type": "code",
   "execution_count": null,
   "id": "17843f1f-effd-4580-bfab-accc5cdaed58",
   "metadata": {
    "tags": []
   },
   "outputs": [],
   "source": [
    "# Load the video file\n",
    "cap = cv2.VideoCapture(dsv)\n",
    "\n",
    "# Get the frame rate and total number of frames\n",
    "#fps = int(video.get(cv2.CAP_PROP_FPS))\n",
    "fps=10\n",
    "total_frames = int(cap.get(cv2.CAP_PROP_FRAME_COUNT))\n",
    "\n",
    "#*********************************************\n",
    "\n",
    "start_sec = 0\n",
    "end_sec = 0\n",
    "\n",
    "start_frame = int(start_sec * fps)\n",
    "end_frame = int((total_frames / fps) - end_sec) * fps\n"
   ]
  },
  {
   "cell_type": "code",
   "execution_count": null,
   "id": "3c17224a-fdb3-48e0-9ada-75f10b2bb39c",
   "metadata": {
    "tags": []
   },
   "outputs": [],
   "source": [
    "\n",
    "# Define the window name and the keys to be pressed for marking\n",
    "window_name = \"Monkey Face Detection\"\n",
    "yes_key = ord('a')\n",
    "no_key = ord('s')\n",
    "\n",
    "# Define the initial frame index and label list\n",
    "frame_index = start_frame\n",
    "labels = []\n",
    "frame_id=[]\n",
    "\n",
    "namev = 'FaceNoface_try.mp4'\n",
    "\n",
    "fourcc = cv2.VideoWriter_fourcc(*'mp4v')\n",
    "video_writer = cv2.VideoWriter(namev, fourcc, fps, (int(cap.get(cv2.CAP_PROP_FRAME_WIDTH)), int(cap.get(cv2.CAP_PROP_FRAME_HEIGHT))))\n",
    "\n",
    "font = cv2.FONT_HERSHEY_DUPLEX\n",
    "color = (255, 255, 255) # white\n",
    "fontsize = 0.45\n",
    "position = (20, 20)\n",
    "check = 0\n",
    "tot_yes = 0\n",
    "\n",
    "cap.set(cv2.CAP_PROP_POS_FRAMES, start_frame)\n",
    "\n",
    "\n",
    "while cap.isOpened():\n",
    "    # Read the next frame\n",
    "    ret, frame = cap.read()\n",
    "\n",
    "    # Check if the frame was read successfully\n",
    "    if ret:\n",
    "        # Display the frame in a window\n",
    "        cv2.namedWindow(window_name, cv2.WINDOW_NORMAL)\n",
    "        cv2.resizeWindow(window_name, 1440, 1080)\n",
    "        cv2.imshow(window_name, frame)\n",
    "\n",
    "        # Wait for a key press\n",
    "        key = cv2.waitKey(0)\n",
    "\n",
    "        # Check if the 'y' key was pressed (monkey's face is present)\n",
    "        if key == yes_key:\n",
    "            check = 1 ; tot_yes += 1\n",
    "            frame_id.append(frame_index)\n",
    "        # Check if the 'n' key was pressed (monkey's face is not present)\n",
    "        elif key == no_key:\n",
    "            check = 0\n",
    "        elif key == ord('q'):\n",
    "            break\n",
    "        \n",
    "        print(check)\n",
    "        labels.append([frame_index, check])\n",
    "        cv2.putText(frame, str(check), position, font, fontsize, color=color)\n",
    "        \n",
    "        video_writer.write(frame)\n",
    "               \n",
    "\n",
    "        # Increment the frame index\n",
    "        frame_index += 1\n",
    "    else:\n",
    "        break\n",
    "\n",
    "labels.append([tot_yes, (frame_index-tot_yes)])\n",
    "labels.append([frame_id,0])\n",
    "text_file = open(\"text_file_MANUAL.csv\", \"w\")\n",
    "labelled = pd.DataFrame(labels, columns = ['Frame_id','Face?'])\n",
    "labelled.to_csv(\"text_file_MANUAL.csv\")\n",
    "#text_file.write(labels)\n",
    "\n",
    "# Release the video capture object and close the window\n",
    "cap.release()\n",
    "video_writer.release()\n",
    "cv2.destroyAllWindows()\n",
    "\n"
   ]
  },
  {
   "cell_type": "code",
   "execution_count": null,
   "id": "4cf7cefb-01e2-4b36-82f7-bb95e3a4300c",
   "metadata": {},
   "outputs": [],
   "source": [
    "frame_index"
   ]
  },
  {
   "cell_type": "code",
   "execution_count": null,
   "id": "7941a73f-0778-472f-b54f-36e2bb292f2a",
   "metadata": {
    "tags": []
   },
   "outputs": [],
   "source": [
    "\n",
    "df_frame = pd.read_csv('text_file_MANUAL.csv', header = 0, index_col=0)\n",
    "k = df_frame.loc[len(df_frame) -1].Frame_id\n",
    "l = k.strip('][').split(', ')\n",
    "x = [int(i) for i in l]\n",
    "x"
   ]
  }
 ],
 "metadata": {
  "kernelspec": {
   "display_name": "Python 3 (ipykernel)",
   "language": "python",
   "name": "python3"
  },
  "language_info": {
   "codemirror_mode": {
    "name": "ipython",
    "version": 3
   },
   "file_extension": ".py",
   "mimetype": "text/x-python",
   "name": "python",
   "nbconvert_exporter": "python",
   "pygments_lexer": "ipython3",
   "version": "3.9.13"
  }
 },
 "nbformat": 4,
 "nbformat_minor": 5
}
