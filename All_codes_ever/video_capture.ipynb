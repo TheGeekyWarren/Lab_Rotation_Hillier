{
 "cells": [
  {
   "cell_type": "code",
   "execution_count": null,
   "id": "bf9b81f2-eac7-460f-8b3b-ba8b3ed536e1",
   "metadata": {},
   "outputs": [],
   "source": [
    "import cv2\n",
    "\n",
    "# create a VideoCapture object to capture video from default camera\n",
    "cap = cv2.VideoCapture(0)\n",
    "fps = 30\n",
    "\n",
    "fourcc = cv2.VideoWriter_fourcc(*'mp4v')\n",
    "out = cv2.VideoWriter('Humans.mp4', fourcc, fps, (640, 480))\n",
    "\n",
    "# cap.set(cv2.CAP_PROP_POS_FRAMES, start_frame)\n",
    "# loop through frames until user exits\n",
    "while True:\n",
    "    # read a frame from the video capture\n",
    "    ret, frame = cap.read()\n",
    "    \n",
    "    # display the captured frame\n",
    "    cv2.imshow('Video Capture', frame)\n",
    "    out.write(frame)\n",
    "\n",
    "    # wait for a key press to exit\n",
    "    if cv2.waitKey(1) & 0xFF == ord('q'):\n",
    "        break\n",
    "\n",
    "# release the video capture and destroy the window\n",
    "out.release()\n",
    "cap.release()\n",
    "cv2.destroyAllWindows()"
   ]
  }
 ],
 "metadata": {
  "kernelspec": {
   "display_name": "Python 3 (ipykernel)",
   "language": "python",
   "name": "python3"
  },
  "language_info": {
   "codemirror_mode": {
    "name": "ipython",
    "version": 3
   },
   "file_extension": ".py",
   "mimetype": "text/x-python",
   "name": "python",
   "nbconvert_exporter": "python",
   "pygments_lexer": "ipython3",
   "version": "3.9.13"
  }
 },
 "nbformat": 4,
 "nbformat_minor": 5
}
