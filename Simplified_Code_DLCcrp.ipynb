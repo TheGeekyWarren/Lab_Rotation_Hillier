{
 "cells": [
  {
   "cell_type": "code",
   "execution_count": 1,
   "id": "84a40da8",
   "metadata": {
    "tags": []
   },
   "outputs": [
    {
     "name": "stderr",
     "output_type": "stream",
     "text": [
      "2023-03-31 20:54:43.445461: I tensorflow/core/platform/cpu_feature_guard.cc:193] This TensorFlow binary is optimized with oneAPI Deep Neural Network Library (oneDNN) to use the following CPU instructions in performance-critical operations:  AVX2 FMA\n",
      "To enable them in other operations, rebuild TensorFlow with the appropriate compiler flags.\n",
      "2023-03-31 20:54:43.554350: E tensorflow/stream_executor/cuda/cuda_blas.cc:2981] Unable to register cuBLAS factory: Attempting to register factory for plugin cuBLAS when one has already been registered\n",
      "2023-03-31 20:54:43.880398: W tensorflow/stream_executor/platform/default/dso_loader.cc:64] Could not load dynamic library 'libnvinfer.so.7'; dlerror: libnvinfer.so.7: cannot open shared object file: No such file or directory; LD_LIBRARY_PATH: /home/yramakrishna/anaconda3/lib/python3.9/site-packages/cv2/../../lib64:/usr/local/cuda/lib64:\n",
      "2023-03-31 20:54:43.880443: W tensorflow/stream_executor/platform/default/dso_loader.cc:64] Could not load dynamic library 'libnvinfer_plugin.so.7'; dlerror: libnvinfer_plugin.so.7: cannot open shared object file: No such file or directory; LD_LIBRARY_PATH: /home/yramakrishna/anaconda3/lib/python3.9/site-packages/cv2/../../lib64:/usr/local/cuda/lib64:\n",
      "2023-03-31 20:54:43.880448: W tensorflow/compiler/tf2tensorrt/utils/py_utils.cc:38] TF-TRT Warning: Cannot dlopen some TensorRT libraries. If you would like to use Nvidia GPU with TensorRT, please make sure the missing libraries mentioned above are installed properly.\n"
     ]
    },
    {
     "name": "stdout",
     "output_type": "stream",
     "text": [
      "Loading DLC 2.3.1...\n"
     ]
    }
   ],
   "source": [
    "import os\n",
    "import cv2\n",
    "import shutil\n",
    "import deeplabcut\n",
    "import numpy as np\n",
    "import pandas as pd\n",
    "import subprocess\n",
    "from datetime import date\n",
    "from joblib import Parallel, delayed"
   ]
  },
  {
   "cell_type": "code",
   "execution_count": 2,
   "id": "8d784722-d64e-4724-8447-058d3c69b231",
   "metadata": {},
   "outputs": [],
   "source": [
    "if not os.path.exists('All_vids'):\n",
    "        os.makedirs('All_vids')\n",
    "os.chdir('All_vids')"
   ]
  },
  {
   "cell_type": "code",
   "execution_count": 3,
   "id": "ddd391ee-db52-4ebd-b8a2-c5f44cfa1fab",
   "metadata": {},
   "outputs": [
    {
     "data": {
      "text/plain": [
       "'/home/yramakrishna/DeepLabCut/conda-environments/Codes/All_vids/Videos'"
      ]
     },
     "execution_count": 3,
     "metadata": {},
     "output_type": "execute_result"
    }
   ],
   "source": [
    "#enter path of folder (including folder name) containing all your videos of interest\n",
    "vid_dir = '/home/yramakrishna/DeepLabCut/conda-environments/Codes/Videos'\n",
    "to_dir = os.path.join(os.getcwd(), os.path.basename(vid_dir))\n",
    "shutil.move(vid_dir, to_dir)"
   ]
  },
  {
   "cell_type": "code",
   "execution_count": 4,
   "id": "01960dc1-e0c4-4373-bcba-3fde87be5218",
   "metadata": {},
   "outputs": [
    {
     "data": {
      "text/plain": [
       "'/home/yramakrishna/DeepLabCut/conda-environments/Codes/All_vids'"
      ]
     },
     "execution_count": 4,
     "metadata": {},
     "output_type": "execute_result"
    }
   ],
   "source": [
    "os.path.dirname(to_dir)"
   ]
  },
  {
   "cell_type": "code",
   "execution_count": 5,
   "id": "9eb812a8-c4d1-4910-b7f6-5daa481e3cf5",
   "metadata": {},
   "outputs": [],
   "source": [
    "#Soring converted videos in a new folder\n",
    "if not os.path.exists('Conv_vids'):\n",
    "        os.makedirs('Conv_vids')"
   ]
  },
  {
   "cell_type": "code",
   "execution_count": 6,
   "id": "d9be17bd-dc4d-428f-a810-beaf81b8a82c",
   "metadata": {},
   "outputs": [
    {
     "data": {
      "text/plain": [
       "'/home/yramakrishna/DeepLabCut/conda-environments/Codes/All_vids'"
      ]
     },
     "execution_count": 6,
     "metadata": {},
     "output_type": "execute_result"
    }
   ],
   "source": [
    "os.getcwd()"
   ]
  },
  {
   "cell_type": "code",
   "execution_count": 7,
   "id": "ff2aaf43-a4eb-40be-a539-315c0e9b0504",
   "metadata": {},
   "outputs": [
    {
     "data": {
      "text/plain": [
       "'/Conv_vids/ken_20210503_0911_XBI19_reversal_learning_foraging_SC3_DCS_frontcamera_conv.mp4'"
      ]
     },
     "execution_count": 7,
     "metadata": {},
     "output_type": "execute_result"
    }
   ],
   "source": [
    "input_file = '/home/yramakrishna/DeepLabCut/conda-environments/Codes/All_vids/Videos/ken_20210503_0911_XBI19_reversal_learning_foraging_SC3_DCS_frontcamera.mov'\n",
    "output_file = os.path.splitext(os.path.basename(input_file))[0].lstrip('.') \n",
    "output_file\n",
    "os.path.join(os.path.dirname(os.path.dirname(input_file)), '/Conv_vids', output_file +'_conv.mp4')"
   ]
  },
  {
   "cell_type": "code",
   "execution_count": 10,
   "id": "b1791f7f-258e-4c56-9731-1b3e25244396",
   "metadata": {},
   "outputs": [],
   "source": [
    "#Converting .mov videos to .mp4\n",
    "def conv_mp4(input_file):\n",
    "    out_name = os.path.splitext(input_file)[0].lstrip('.') \n",
    "    print(out_name)\n",
    "    output_file = out_name + '.mp4'\n",
    "    # print(input_file)\n",
    "    # print(output_file)\n",
    "    # Run FFmpeg command to convert MOV to MP4\n",
    "    command = f\"ffmpeg -i {input_file} -c:v libx264 -preset medium -crf 23 -c:a aac -b:a 128k {output_file}\"\n",
    "    subprocess.call(command, shell=True)\n",
    "    new = os.path.join(os.path.dirname(os.path.dirname(output_file)), 'Conv_vids', os.path.basename(output_file))\n",
    "    shutil.move(output_file, new)\n",
    "    # print('Convertion complete - ', os.path.basename(output_file))"
   ]
  },
  {
   "cell_type": "code",
   "execution_count": 9,
   "id": "79ec8c5a-3eb8-4245-bc0b-1fcd8a575ddf",
   "metadata": {},
   "outputs": [
    {
     "name": "stdout",
     "output_type": "stream",
     "text": [
      "/home/yramakrishna/DeepLabCut/conda-environments/Codes/All_vids/Videos/vin_20210604_0907_XBI19_reversal_learning_foraging_SC3_DCS_front_camera\n",
      "/home/yramakrishna/DeepLabCut/conda-environments/Codes/All_vids/Videos/nil_20210614_XBI19\n"
     ]
    },
    {
     "name": "stderr",
     "output_type": "stream",
     "text": [
      "ffmpeg version 4.4.2-0ubuntu0.22.04.1 Copyright (c) 2000-2021 the FFmpeg developers\n",
      "  built with gcc 11 (Ubuntu 11.2.0-19ubuntu1)\n",
      "  configuration: --prefix=/usr --extra-version=0ubuntu0.22.04.1 --toolchain=hardened --libdir=/usr/lib/x86_64-linux-gnu --incdir=/usr/include/x86_64-linux-gnu --arch=amd64 --enable-gpl --disable-stripping --enable-gnutls --enable-ladspa --enable-libaom --enable-libass --enable-libbluray --enable-libbs2b --enable-libcaca --enable-libcdio --enable-libcodec2 --enable-libdav1d --enable-libflite --enable-libfontconfig --enable-libfreetype --enable-libfribidi --enable-libgme --enable-libgsm --enable-libjack --enable-libmp3lame --enable-libmysofa --enable-libopenjpeg --enable-libopenmpt --enable-libopus --enable-libpulse --enable-librabbitmq --enable-librubberband --enable-libshine --enable-libsnappy --enable-libsoxr --enable-libspeex --enable-libsrt --enable-libssh --enable-libtheora --enable-libtwolame --enable-libvidstab --enable-libvorbis --enable-libvpx --enable-libwebp --enable-libx265 --enable-libxml2 --enable-libxvid --enable-libzimg --enable-libzmq --enable-libzvbi --enable-lv2 --enable-omx --enable-openal --enable-opencl --enable-opengl --enable-sdl2 --enable-pocketsphinx --enable-librsvg --enable-libmfx --enable-libdc1394 --enable-libdrm --enable-libiec61883 --enable-chromaprint --enable-frei0r --enable-libx264 --enable-shared\n",
      "  WARNING: library configuration mismatch\n",
      "  avcodec     configuration: --prefix=/usr --extra-version=0ubuntu0.22.04.1 --toolchain=hardened --libdir=/usr/lib/x86_64-linux-gnu --incdir=/usr/include/x86_64-linux-gnu --arch=amd64 --enable-gpl --disable-stripping --enable-gnutls --enable-ladspa --enable-libaom --enable-libass --enable-libbluray --enable-libbs2b --enable-libcaca --enable-libcdio --enable-libcodec2 --enable-libdav1d --enable-libflite --enable-libfontconfig --enable-libfreetype --enable-libfribidi --enable-libgme --enable-libgsm --enable-libjack --enable-libmp3lame --enable-libmysofa --enable-libopenjpeg --enable-libopenmpt --enable-libopus --enable-libpulse --enable-librabbitmq --enable-librubberband --enable-libshine --enable-libsnappy --enable-libsoxr --enable-libspeex --enable-libsrt --enable-libssh --enable-libtheora --enable-libtwolame --enable-libvidstab --enable-libvorbis --enable-libvpx --enable-libwebp --enable-libx265 --enable-libxml2 --enable-libxvid --enable-libzimg --enable-libzmq --enable-libzvbi --enable-lv2 --enable-omx --enable-openal --enable-opencl --enable-opengl --enable-sdl2 --enable-pocketsphinx --enable-librsvg --enable-libmfx --enable-libdc1394 --enable-libdrm --enable-libiec61883 --enable-chromaprint --enable-frei0r --enable-libx264 --enable-shared --enable-version3 --disable-doc --disable-programs --enable-libaribb24 --enable-libopencore_amrnb --enable-libopencore_amrwb --enable-libtesseract --enable-libvo_amrwbenc --enable-libsmbclient\n",
      "  libavutil      56. 70.100 / 56. 70.100\n",
      "  libavcodec     58.134.100 / 58.134.100\n",
      "  libavformat    58. 76.100 / 58. 76.100\n",
      "  libavdevice    58. 13.100 / 58. 13.100\n",
      "  libavfilter     7.110.100 /  7.110.100\n",
      "  libswscale      5.  9.100 /  5.  9.100\n",
      "  libswresample   3.  9.100 /  3.  9.100\n",
      "  libpostproc    55.  9.100 / 55.  9.100\n",
      "Input #0, mov,mp4,m4a,3gp,3g2,mj2, from '/home/yramakrishna/DeepLabCut/conda-environments/Codes/All_vids/Videos/vin_20210604_0907_XBI19_reversal_learning_foraging_SC3_DCS_front_camera.mov':\n",
      "  Metadata:\n",
      "    major_brand     : qt  \n",
      "    minor_version   : 0\n",
      "    compatible_brands: qt  \n",
      "    creation_time   : 2021-06-04T11:38:56.000000Z\n",
      "    com.apple.quicktime.make: Apple\n",
      "    com.apple.quicktime.model: MacBookAir7,1\n",
      "    com.apple.quicktime.software: Mac OS X 10.15.7 (19H2)\n",
      "    com.apple.quicktime.creationdate: 2021-06-04T09:08:23+0200\n",
      "  Duration: 04:28:48.19, start: 0.000000, bitrate: 10752 kb/s\n",
      "  Stream #0:0(und): Video: h264 (Main) (avc1 / 0x31637661), yuv420p(tv, smpte170m/bt709/bt709, progressive), 1280x720 [SAR 1:1 DAR 16:9], 10505 kb/s, 27.56 fps, 30 tbr, 30k tbn, 60k tbc (default)\n",
      "    Metadata:\n",
      "      creation_time   : 2021-06-04T11:38:56.000000Z\n",
      "      handler_name    : Core Media Video\n",
      "      vendor_id       : [0][0][0][0]\n",
      "      encoder         : H.264\n",
      "  Stream #0:1(und): Audio: aac (LC) (mp4a / 0x6134706D), 44100 Hz, stereo, fltp, 241 kb/s (default)\n",
      "    Metadata:\n",
      "      creation_time   : 2021-06-04T11:38:56.000000Z\n",
      "      handler_name    : Core Media Audio\n",
      "      vendor_id       : [0][0][0][0]\n",
      "File '/home/yramakrishna/DeepLabCut/conda-environments/Codes/All_vids/Videos/vin_20210604_0907_XBI19_reversal_learning_foraging_SC3_DCS_front_camera.mp4' already exists. Overwrite? [y/N] Not overwriting - exiting\n",
      "ffmpeg version 4.4.2-0ubuntu0.22.04.1 Copyright (c) 2000-2021 the FFmpeg developers\n",
      "  built with gcc 11 (Ubuntu 11.2.0-19ubuntu1)\n",
      "  configuration: --prefix=/usr --extra-version=0ubuntu0.22.04.1 --toolchain=hardened --libdir=/usr/lib/x86_64-linux-gnu --incdir=/usr/include/x86_64-linux-gnu --arch=amd64 --enable-gpl --disable-stripping --enable-gnutls --enable-ladspa --enable-libaom --enable-libass --enable-libbluray --enable-libbs2b --enable-libcaca --enable-libcdio --enable-libcodec2 --enable-libdav1d --enable-libflite --enable-libfontconfig --enable-libfreetype --enable-libfribidi --enable-libgme --enable-libgsm --enable-libjack --enable-libmp3lame --enable-libmysofa --enable-libopenjpeg --enable-libopenmpt --enable-libopus --enable-libpulse --enable-librabbitmq --enable-librubberband --enable-libshine --enable-libsnappy --enable-libsoxr --enable-libspeex --enable-libsrt --enable-libssh --enable-libtheora --enable-libtwolame --enable-libvidstab --enable-libvorbis --enable-libvpx --enable-libwebp --enable-libx265 --enable-libxml2 --enable-libxvid --enable-libzimg --enable-libzmq --enable-libzvbi --enable-lv2 --enable-omx --enable-openal --enable-opencl --enable-opengl --enable-sdl2 --enable-pocketsphinx --enable-librsvg --enable-libmfx --enable-libdc1394 --enable-libdrm --enable-libiec61883 --enable-chromaprint --enable-frei0r --enable-libx264 --enable-shared\n",
      "  WARNING: library configuration mismatch\n",
      "  avcodec     configuration: --prefix=/usr --extra-version=0ubuntu0.22.04.1 --toolchain=hardened --libdir=/usr/lib/x86_64-linux-gnu --incdir=/usr/include/x86_64-linux-gnu --arch=amd64 --enable-gpl --disable-stripping --enable-gnutls --enable-ladspa --enable-libaom --enable-libass --enable-libbluray --enable-libbs2b --enable-libcaca --enable-libcdio --enable-libcodec2 --enable-libdav1d --enable-libflite --enable-libfontconfig --enable-libfreetype --enable-libfribidi --enable-libgme --enable-libgsm --enable-libjack --enable-libmp3lame --enable-libmysofa --enable-libopenjpeg --enable-libopenmpt --enable-libopus --enable-libpulse --enable-librabbitmq --enable-librubberband --enable-libshine --enable-libsnappy --enable-libsoxr --enable-libspeex --enable-libsrt --enable-libssh --enable-libtheora --enable-libtwolame --enable-libvidstab --enable-libvorbis --enable-libvpx --enable-libwebp --enable-libx265 --enable-libxml2 --enable-libxvid --enable-libzimg --enable-libzmq --enable-libzvbi --enable-lv2 --enable-omx --enable-openal --enable-opencl --enable-opengl --enable-sdl2 --enable-pocketsphinx --enable-librsvg --enable-libmfx --enable-libdc1394 --enable-libdrm --enable-libiec61883 --enable-chromaprint --enable-frei0r --enable-libx264 --enable-shared --enable-version3 --disable-doc --disable-programs --enable-libaribb24 --enable-libopencore_amrnb --enable-libopencore_amrwb --enable-libtesseract --enable-libvo_amrwbenc --enable-libsmbclient\n",
      "  libavutil      56. 70.100 / 56. 70.100\n",
      "  libavcodec     58.134.100 / 58.134.100\n",
      "  libavformat    58. 76.100 / 58. 76.100\n",
      "  libavdevice    58. 13.100 / 58. 13.100\n",
      "  libavfilter     7.110.100 /  7.110.100\n",
      "  libswscale      5.  9.100 /  5.  9.100\n",
      "  libswresample   3.  9.100 /  3.  9.100\n",
      "  libpostproc    55.  9.100 / 55.  9.100\n",
      "Input #0, mov,mp4,m4a,3gp,3g2,mj2, from '/home/yramakrishna/DeepLabCut/conda-environments/Codes/All_vids/Videos/nil_20210614_XBI19.mov':\n",
      "  Metadata:\n",
      "    major_brand     : qt  \n",
      "    minor_version   : 0\n",
      "    compatible_brands: qt  \n",
      "    creation_time   : 2021-06-14T08:49:22.000000Z\n",
      "    com.apple.quicktime.make: Apple\n",
      "    com.apple.quicktime.model: MacBookAir7,1\n",
      "    com.apple.quicktime.software: Mac OS X 10.15.7 (19H2)\n",
      "    com.apple.quicktime.creationdate: 2021-06-14T10:49:22+0200\n",
      "  Duration: 01:04:33.30, start: 0.000000, bitrate: 3972 kb/s\n",
      "  Stream #0:0(und): Video: h264 (Main) (avc1 / 0x31637661), yuv420p(tv, bt709), 720x480 [SAR 1:1 DAR 3:2], 3944 kb/s, 60 fps, 60 tbr, 6k tbn, 12k tbc (default)\n",
      "    Metadata:\n",
      "      creation_time   : 2021-06-14T08:49:22.000000Z\n",
      "      handler_name    : Core Media Video\n",
      "      vendor_id       : [0][0][0][0]\n",
      "      encoder         : H.264\n",
      "Codec AVOption b (set bitrate (in bits/s)) specified for output file #0 (/home/yramakrishna/DeepLabCut/conda-environments/Codes/All_vids/Videos/nil_20210614_XBI19.mp4) has not been used for any stream. The most likely reason is either wrong type (e.g. a video option with no video streams) or that it is a private option of some encoder which was not actually used for any stream.\n",
      "Stream mapping:\n",
      "  Stream #0:0 -> #0:0 (h264 (native) -> h264 (libx264))\n",
      "Press [q] to stop, [?] for help\n",
      "[libx264 @ 0x556a52443180] using SAR=1/1\n",
      "[libx264 @ 0x556a52443180] using cpu capabilities: MMX2 SSE2Fast SSSE3 SSE4.2 AVX FMA3 BMI2 AVX2\n",
      "[libx264 @ 0x556a52443180] profile High, level 3.1, 4:2:0, 8-bit\n",
      "[libx264 @ 0x556a52443180] 264 - core 163 r3060 5db6aa6 - H.264/MPEG-4 AVC codec - Copyleft 2003-2021 - http://www.videolan.org/x264.html - options: cabac=1 ref=3 deblock=1:0:0 analyse=0x3:0x113 me=hex subme=7 psy=1 psy_rd=1.00:0.00 mixed_ref=1 me_range=16 chroma_me=1 trellis=1 8x8dct=1 cqm=0 deadzone=21,11 fast_pskip=1 chroma_qp_offset=-2 threads=15 lookahead_threads=2 sliced_threads=0 nr=0 decimate=1 interlaced=0 bluray_compat=0 constrained_intra=0 bframes=3 b_pyramid=2 b_adapt=1 b_bias=0 direct=1 weightb=1 open_gop=0 weightp=2 keyint=250 keyint_min=25 scenecut=40 intra_refresh=0 rc_lookahead=40 rc=crf mbtree=1 crf=23.0 qcomp=0.60 qpmin=0 qpmax=69 qpstep=4 ip_ratio=1.40 aq=1:1.00\n",
      "Output #0, mp4, to '/home/yramakrishna/DeepLabCut/conda-environments/Codes/All_vids/Videos/nil_20210614_XBI19.mp4':\n",
      "  Metadata:\n",
      "    major_brand     : qt  \n",
      "    minor_version   : 0\n",
      "    compatible_brands: qt  \n",
      "    com.apple.quicktime.creationdate: 2021-06-14T10:49:22+0200\n",
      "    com.apple.quicktime.make: Apple\n",
      "    com.apple.quicktime.model: MacBookAir7,1\n",
      "    com.apple.quicktime.software: Mac OS X 10.15.7 (19H2)\n",
      "    encoder         : Lavf58.76.100\n",
      "  Stream #0:0(und): Video: h264 (avc1 / 0x31637661), yuv420p(tv, bt709, progressive), 720x480 [SAR 1:1 DAR 3:2], q=2-31, 60 fps, 15360 tbn (default)\n",
      "    Metadata:\n",
      "      creation_time   : 2021-06-14T08:49:22.000000Z\n",
      "      handler_name    : Core Media Video\n",
      "      vendor_id       : [0][0][0][0]\n",
      "      encoder         : Lavc58.134.100 libx264\n",
      "    Side data:\n",
      "      cpb: bitrate max/min/avg: 0/0/0 buffer size: 0 vbv_delay: N/A\n",
      "frame=74094 fps=1527 q=-1.0 Lsize=   56617kB time=00:20:34.85 bitrate= 375.6kbits/s speed=25.4x    \n",
      "video:55751kB audio:0kB subtitle:0kB other streams:0kB global headers:0kB muxing overhead: 1.554781%\n",
      "[libx264 @ 0x556a52443180] frame I:329   Avg QP:21.38  size: 52585\n",
      "[libx264 @ 0x556a52443180] frame P:29727 Avg QP:23.94  size:  1214\n",
      "[libx264 @ 0x556a52443180] frame B:44038 Avg QP:31.07  size:    84\n",
      "[libx264 @ 0x556a52443180] consecutive B-frames:  1.4% 57.7%  1.5% 39.5%\n",
      "[libx264 @ 0x556a52443180] mb I  I16..4: 14.5% 35.1% 50.3%\n",
      "[libx264 @ 0x556a52443180] mb P  I16..4:  0.7%  0.9%  0.2%  P16..4: 18.1%  1.0%  1.3%  0.0%  0.0%    skip:77.8%\n",
      "[libx264 @ 0x556a52443180] mb B  I16..4:  0.0%  0.0%  0.0%  B16..8:  5.3%  0.0%  0.0%  direct: 0.0%  skip:94.6%  L0:17.7% L1:82.1% BI: 0.2%\n",
      "[libx264 @ 0x556a52443180] 8x8 transform intra:45.8% inter:72.7%\n",
      "[libx264 @ 0x556a52443180] coded y,uvDC,uvAC intra: 55.5% 76.9% 40.3% inter: 1.8% 5.6% 0.1%\n",
      "[libx264 @ 0x556a52443180] i16 v,h,dc,p: 19% 44% 15% 22%\n",
      "[libx264 @ 0x556a52443180] i8 v,h,dc,ddl,ddr,vr,hd,vl,hu: 18% 23% 23%  5%  5%  5%  6%  8%  6%\n",
      "[libx264 @ 0x556a52443180] i4 v,h,dc,ddl,ddr,vr,hd,vl,hu: 19% 27% 10%  5%  7%  6%  8% 10%  7%\n",
      "[libx264 @ 0x556a52443180] i8c dc,h,v,p: 48% 30% 15%  6%\n",
      "[libx264 @ 0x556a52443180] Weighted P-Frames: Y:0.8% UV:0.6%\n",
      "[libx264 @ 0x556a52443180] ref P L0: 78.0%  5.9% 10.3%  5.7%  0.1%\n",
      "[libx264 @ 0x556a52443180] ref B L0: 91.7%  6.3%  2.0%\n",
      "[libx264 @ 0x556a52443180] ref B L1: 98.0%  2.0%\n",
      "[libx264 @ 0x556a52443180] kb/s:369.83\n",
      "Exiting normally, received signal 2.\n"
     ]
    },
    {
     "ename": "KeyboardInterrupt",
     "evalue": "",
     "output_type": "error",
     "traceback": [
      "\u001b[0;31m---------------------------------------------------------------------------\u001b[0m",
      "\u001b[0;31mKeyboardInterrupt\u001b[0m                         Traceback (most recent call last)",
      "\u001b[0;32m/tmp/ipykernel_45465/389615065.py\u001b[0m in \u001b[0;36m<module>\u001b[0;34m\u001b[0m\n\u001b[1;32m      3\u001b[0m         \u001b[0;31m# print(file)\u001b[0m\u001b[0;34m\u001b[0m\u001b[0;34m\u001b[0m\u001b[0m\n\u001b[1;32m      4\u001b[0m         \u001b[0mpath\u001b[0m\u001b[0;34m=\u001b[0m\u001b[0mos\u001b[0m\u001b[0;34m.\u001b[0m\u001b[0mpath\u001b[0m\u001b[0;34m.\u001b[0m\u001b[0mjoin\u001b[0m\u001b[0;34m(\u001b[0m\u001b[0mos\u001b[0m\u001b[0;34m.\u001b[0m\u001b[0mpath\u001b[0m\u001b[0;34m.\u001b[0m\u001b[0mjoin\u001b[0m\u001b[0;34m(\u001b[0m\u001b[0mos\u001b[0m\u001b[0;34m.\u001b[0m\u001b[0mpath\u001b[0m\u001b[0;34m.\u001b[0m\u001b[0mdirname\u001b[0m\u001b[0;34m(\u001b[0m\u001b[0mto_dir\u001b[0m\u001b[0;34m)\u001b[0m\u001b[0;34m,\u001b[0m \u001b[0;34m'Videos'\u001b[0m\u001b[0;34m,\u001b[0m \u001b[0mfile\u001b[0m\u001b[0;34m)\u001b[0m\u001b[0;34m)\u001b[0m\u001b[0;34m\u001b[0m\u001b[0;34m\u001b[0m\u001b[0m\n\u001b[0;32m----> 5\u001b[0;31m         \u001b[0mconv_mp4\u001b[0m\u001b[0;34m(\u001b[0m\u001b[0mpath\u001b[0m\u001b[0;34m)\u001b[0m\u001b[0;34m\u001b[0m\u001b[0;34m\u001b[0m\u001b[0m\n\u001b[0m\u001b[1;32m      6\u001b[0m         \u001b[0;31m# print(path)\u001b[0m\u001b[0;34m\u001b[0m\u001b[0;34m\u001b[0m\u001b[0m\n",
      "\u001b[0;32m/tmp/ipykernel_45465/2363392707.py\u001b[0m in \u001b[0;36mconv_mp4\u001b[0;34m(input_file)\u001b[0m\n\u001b[1;32m      8\u001b[0m     \u001b[0;31m# Run FFmpeg command to convert MOV to MP4\u001b[0m\u001b[0;34m\u001b[0m\u001b[0;34m\u001b[0m\u001b[0m\n\u001b[1;32m      9\u001b[0m     \u001b[0mcommand\u001b[0m \u001b[0;34m=\u001b[0m \u001b[0;34mf\"ffmpeg -i {input_file} -c:v libx264 -preset medium -crf 23 -c:a aac -b:a 128k {output_file}\"\u001b[0m\u001b[0;34m\u001b[0m\u001b[0;34m\u001b[0m\u001b[0m\n\u001b[0;32m---> 10\u001b[0;31m     \u001b[0msubprocess\u001b[0m\u001b[0;34m.\u001b[0m\u001b[0mcall\u001b[0m\u001b[0;34m(\u001b[0m\u001b[0mcommand\u001b[0m\u001b[0;34m,\u001b[0m \u001b[0mshell\u001b[0m\u001b[0;34m=\u001b[0m\u001b[0;32mTrue\u001b[0m\u001b[0;34m)\u001b[0m\u001b[0;34m\u001b[0m\u001b[0;34m\u001b[0m\u001b[0m\n\u001b[0m\u001b[1;32m     11\u001b[0m     \u001b[0;31m# print('Convertion complete - ', os.path.basename(output_file))\u001b[0m\u001b[0;34m\u001b[0m\u001b[0;34m\u001b[0m\u001b[0m\n",
      "\u001b[0;32m~/anaconda3/lib/python3.9/subprocess.py\u001b[0m in \u001b[0;36mcall\u001b[0;34m(timeout, *popenargs, **kwargs)\u001b[0m\n\u001b[1;32m    349\u001b[0m     \u001b[0;32mwith\u001b[0m \u001b[0mPopen\u001b[0m\u001b[0;34m(\u001b[0m\u001b[0;34m*\u001b[0m\u001b[0mpopenargs\u001b[0m\u001b[0;34m,\u001b[0m \u001b[0;34m**\u001b[0m\u001b[0mkwargs\u001b[0m\u001b[0;34m)\u001b[0m \u001b[0;32mas\u001b[0m \u001b[0mp\u001b[0m\u001b[0;34m:\u001b[0m\u001b[0;34m\u001b[0m\u001b[0;34m\u001b[0m\u001b[0m\n\u001b[1;32m    350\u001b[0m         \u001b[0;32mtry\u001b[0m\u001b[0;34m:\u001b[0m\u001b[0;34m\u001b[0m\u001b[0;34m\u001b[0m\u001b[0m\n\u001b[0;32m--> 351\u001b[0;31m             \u001b[0;32mreturn\u001b[0m \u001b[0mp\u001b[0m\u001b[0;34m.\u001b[0m\u001b[0mwait\u001b[0m\u001b[0;34m(\u001b[0m\u001b[0mtimeout\u001b[0m\u001b[0;34m=\u001b[0m\u001b[0mtimeout\u001b[0m\u001b[0;34m)\u001b[0m\u001b[0;34m\u001b[0m\u001b[0;34m\u001b[0m\u001b[0m\n\u001b[0m\u001b[1;32m    352\u001b[0m         \u001b[0;32mexcept\u001b[0m\u001b[0;34m:\u001b[0m  \u001b[0;31m# Including KeyboardInterrupt, wait handled that.\u001b[0m\u001b[0;34m\u001b[0m\u001b[0;34m\u001b[0m\u001b[0m\n\u001b[1;32m    353\u001b[0m             \u001b[0mp\u001b[0m\u001b[0;34m.\u001b[0m\u001b[0mkill\u001b[0m\u001b[0;34m(\u001b[0m\u001b[0;34m)\u001b[0m\u001b[0;34m\u001b[0m\u001b[0;34m\u001b[0m\u001b[0m\n",
      "\u001b[0;32m~/anaconda3/lib/python3.9/subprocess.py\u001b[0m in \u001b[0;36mwait\u001b[0;34m(self, timeout)\u001b[0m\n\u001b[1;32m   1187\u001b[0m             \u001b[0mendtime\u001b[0m \u001b[0;34m=\u001b[0m \u001b[0m_time\u001b[0m\u001b[0;34m(\u001b[0m\u001b[0;34m)\u001b[0m \u001b[0;34m+\u001b[0m \u001b[0mtimeout\u001b[0m\u001b[0;34m\u001b[0m\u001b[0;34m\u001b[0m\u001b[0m\n\u001b[1;32m   1188\u001b[0m         \u001b[0;32mtry\u001b[0m\u001b[0;34m:\u001b[0m\u001b[0;34m\u001b[0m\u001b[0;34m\u001b[0m\u001b[0m\n\u001b[0;32m-> 1189\u001b[0;31m             \u001b[0;32mreturn\u001b[0m \u001b[0mself\u001b[0m\u001b[0;34m.\u001b[0m\u001b[0m_wait\u001b[0m\u001b[0;34m(\u001b[0m\u001b[0mtimeout\u001b[0m\u001b[0;34m=\u001b[0m\u001b[0mtimeout\u001b[0m\u001b[0;34m)\u001b[0m\u001b[0;34m\u001b[0m\u001b[0;34m\u001b[0m\u001b[0m\n\u001b[0m\u001b[1;32m   1190\u001b[0m         \u001b[0;32mexcept\u001b[0m \u001b[0mKeyboardInterrupt\u001b[0m\u001b[0;34m:\u001b[0m\u001b[0;34m\u001b[0m\u001b[0;34m\u001b[0m\u001b[0m\n\u001b[1;32m   1191\u001b[0m             \u001b[0;31m# https://bugs.python.org/issue25942\u001b[0m\u001b[0;34m\u001b[0m\u001b[0;34m\u001b[0m\u001b[0m\n",
      "\u001b[0;32m~/anaconda3/lib/python3.9/subprocess.py\u001b[0m in \u001b[0;36m_wait\u001b[0;34m(self, timeout)\u001b[0m\n\u001b[1;32m   1915\u001b[0m                         \u001b[0;32mif\u001b[0m \u001b[0mself\u001b[0m\u001b[0;34m.\u001b[0m\u001b[0mreturncode\u001b[0m \u001b[0;32mis\u001b[0m \u001b[0;32mnot\u001b[0m \u001b[0;32mNone\u001b[0m\u001b[0;34m:\u001b[0m\u001b[0;34m\u001b[0m\u001b[0;34m\u001b[0m\u001b[0m\n\u001b[1;32m   1916\u001b[0m                             \u001b[0;32mbreak\u001b[0m  \u001b[0;31m# Another thread waited.\u001b[0m\u001b[0;34m\u001b[0m\u001b[0;34m\u001b[0m\u001b[0m\n\u001b[0;32m-> 1917\u001b[0;31m                         \u001b[0;34m(\u001b[0m\u001b[0mpid\u001b[0m\u001b[0;34m,\u001b[0m \u001b[0msts\u001b[0m\u001b[0;34m)\u001b[0m \u001b[0;34m=\u001b[0m \u001b[0mself\u001b[0m\u001b[0;34m.\u001b[0m\u001b[0m_try_wait\u001b[0m\u001b[0;34m(\u001b[0m\u001b[0;36m0\u001b[0m\u001b[0;34m)\u001b[0m\u001b[0;34m\u001b[0m\u001b[0;34m\u001b[0m\u001b[0m\n\u001b[0m\u001b[1;32m   1918\u001b[0m                         \u001b[0;31m# Check the pid and loop as waitpid has been known to\u001b[0m\u001b[0;34m\u001b[0m\u001b[0;34m\u001b[0m\u001b[0m\n\u001b[1;32m   1919\u001b[0m                         \u001b[0;31m# return 0 even without WNOHANG in odd situations.\u001b[0m\u001b[0;34m\u001b[0m\u001b[0;34m\u001b[0m\u001b[0m\n",
      "\u001b[0;32m~/anaconda3/lib/python3.9/subprocess.py\u001b[0m in \u001b[0;36m_try_wait\u001b[0;34m(self, wait_flags)\u001b[0m\n\u001b[1;32m   1873\u001b[0m             \u001b[0;34m\"\"\"All callers to this function MUST hold self._waitpid_lock.\"\"\"\u001b[0m\u001b[0;34m\u001b[0m\u001b[0;34m\u001b[0m\u001b[0m\n\u001b[1;32m   1874\u001b[0m             \u001b[0;32mtry\u001b[0m\u001b[0;34m:\u001b[0m\u001b[0;34m\u001b[0m\u001b[0;34m\u001b[0m\u001b[0m\n\u001b[0;32m-> 1875\u001b[0;31m                 \u001b[0;34m(\u001b[0m\u001b[0mpid\u001b[0m\u001b[0;34m,\u001b[0m \u001b[0msts\u001b[0m\u001b[0;34m)\u001b[0m \u001b[0;34m=\u001b[0m \u001b[0mos\u001b[0m\u001b[0;34m.\u001b[0m\u001b[0mwaitpid\u001b[0m\u001b[0;34m(\u001b[0m\u001b[0mself\u001b[0m\u001b[0;34m.\u001b[0m\u001b[0mpid\u001b[0m\u001b[0;34m,\u001b[0m \u001b[0mwait_flags\u001b[0m\u001b[0;34m)\u001b[0m\u001b[0;34m\u001b[0m\u001b[0;34m\u001b[0m\u001b[0m\n\u001b[0m\u001b[1;32m   1876\u001b[0m             \u001b[0;32mexcept\u001b[0m \u001b[0mChildProcessError\u001b[0m\u001b[0;34m:\u001b[0m\u001b[0;34m\u001b[0m\u001b[0;34m\u001b[0m\u001b[0m\n\u001b[1;32m   1877\u001b[0m                 \u001b[0;31m# This happens if SIGCLD is set to be ignored or waiting\u001b[0m\u001b[0;34m\u001b[0m\u001b[0;34m\u001b[0m\u001b[0m\n",
      "\u001b[0;31mKeyboardInterrupt\u001b[0m: "
     ]
    }
   ],
   "source": [
    "for file in os.listdir(os.path.join(os.path.dirname(to_dir), 'Videos')):\n",
    "    if file.endswith(\".mov\"):\n",
    "        # print(file)\n",
    "        path=os.path.join(os.path.join(os.path.dirname(to_dir), 'Videos', file))\n",
    "        conv_mp4(path)\n",
    "        # print(path)"
   ]
  },
  {
   "cell_type": "code",
   "execution_count": null,
   "id": "531f8d23-e5c4-4a38-a22f-ce2063063122",
   "metadata": {},
   "outputs": [],
   "source": [
    "# if not os.path.exists('NDSConv_vids'):\n",
    "#         os.makedirs('NDSConv_vids')"
   ]
  },
  {
   "cell_type": "code",
   "execution_count": null,
   "id": "31e91eb6-51bf-4500-93f5-419556cddec0",
   "metadata": {},
   "outputs": [],
   "source": [
    "if not os.path.exists('GC_Conv_vids'):\n",
    "        os.makedirs('GC_Conv_vids')\n",
    "os.chdir('GC_Conv_vids')"
   ]
  },
  {
   "cell_type": "code",
   "execution_count": null,
   "id": "a2633ec5-0114-4682-a811-7b0dfed877a1",
   "metadata": {},
   "outputs": [],
   "source": [
    "os.getcwd()"
   ]
  },
  {
   "cell_type": "code",
   "execution_count": null,
   "id": "bdca7d0a-501d-49de-91d3-56ae0a0bd2c5",
   "metadata": {},
   "outputs": [],
   "source": [
    "#os.listdir(os.path.join(os.path.dirname(to_dir), 'DSConv_vids'))\n",
    "# os.path.join(os.path.dirname(to_dir), 'NDSConv_vids', os.path.basename(dsv)) "
   ]
  },
  {
   "cell_type": "code",
   "execution_count": null,
   "id": "ce5d9b93-8d3f-46ff-afdf-60bbc79461c1",
   "metadata": {},
   "outputs": [],
   "source": [
    "#cropping video and Gamma correction\n",
    "def downsize_gc(convid):\n",
    "    dsv = deeplabcut.DownSampleVideo(convid, width=320, height=240)\n",
    "    # Load the video file\n",
    "    video = cv2.VideoCapture(dsv)\n",
    "\n",
    "    # Get the frame rate and total number of frames\n",
    "    fps = int(video.get(cv2.CAP_PROP_FPS))\n",
    "    total_frames = int(video.get(cv2.CAP_PROP_FRAME_COUNT))\n",
    "\n",
    "    #*********************************************\n",
    "\n",
    "    # Set the start and end points to crop out\n",
    "    start_sec = 0  # Crop out the first x seconds\n",
    "    end_sec = 0 # Crop out the last y seconds\n",
    "\n",
    "    #Set gamma correction value\n",
    "    gamma = 2\n",
    "\n",
    "    #**********************************************\n",
    "\n",
    "    start_frame = int(start_sec * fps)\n",
    "    end_frame = int((total_frames / fps) - end_sec) * fps\n",
    "\n",
    "    # Set the video writer\n",
    "    output_name = os.path.splitext(os.path.basename(convid))[0].lstrip('.') + '_GC.mp4'\n",
    "    fourcc = cv2.VideoWriter_fourcc(*'mp4v')\n",
    "    out = cv2.VideoWriter(output_name, fourcc, fps, (int(video.get(cv2.CAP_PROP_FRAME_WIDTH)), int(video.get(cv2.CAP_PROP_FRAME_HEIGHT))))\n",
    "\n",
    "    # Set the current frame number to the start frame\n",
    "    video.set(cv2.CAP_PROP_POS_FRAMES, start_frame)\n",
    "\n",
    "    # Loop through the frames and write them to the output video\n",
    "    for i in range(start_frame, end_frame):\n",
    "        ret, frame = video.read()\n",
    "        if not ret:\n",
    "            break\n",
    "\n",
    "        # Normalize the pixel values to the range [0, 1]\n",
    "        frame_normalized = frame.astype(np.float32) / 255.0\n",
    "\n",
    "        # Apply gamma correction\n",
    "        frame_corrected = np.power(frame_normalized, 1/gamma)\n",
    "\n",
    "        # Scale the pixel values back to the range [0, 255]\n",
    "        frame_scaled = (frame_corrected * 255.0).astype(np.uint8)\n",
    "\n",
    "        out.write(frame_scaled)\n",
    "    new = os.path.join(os.path.dirname(os.path.dirname(dsv)), 'GC_Conv_vids', os.path.basename(dsv))\n",
    "    shutil.move(dsv, new)\n",
    "\n",
    "    # Release the video objects\n",
    "    video.release()\n",
    "    out.release()\n",
    "    cv2.destroyAllWindows()"
   ]
  },
  {
   "cell_type": "code",
   "execution_count": null,
   "id": "514c6d6d-80bd-4abd-9614-e34f167a77e9",
   "metadata": {},
   "outputs": [],
   "source": [
    "# vid_names = []\n",
    "for file in os.listdir(os.path.join(os.path.dirname(to_dir), 'Conv_vids')):\n",
    "    if file.endswith(\".mp4\"):\n",
    "        path=os.path.join(os.path.join(os.path.dirname(to_dir), 'Conv_vids', file))\n",
    "        downsize_gc(path)"
   ]
  },
  {
   "cell_type": "code",
   "execution_count": null,
   "id": "1c44fc28-8782-4333-a6ea-60113997409c",
   "metadata": {},
   "outputs": [],
   "source": [
    "# os.path.join(os.path.dirname(os.path.dirname(input_file)), 'All_vids/Conv_vids', out_name +'_conv.mp4')\n",
    "# out_name = os.path.splitext(os.path.basename(path))[0].lstrip('.') + '.mp4'\n",
    "# out_name"
   ]
  },
  {
   "cell_type": "code",
   "execution_count": null,
   "id": "d9000da0-5712-40ce-b209-9d19163bae03",
   "metadata": {},
   "outputs": [],
   "source": [
    "os.chdir('..')\n",
    "os.getcwd()"
   ]
  },
  {
   "cell_type": "code",
   "execution_count": null,
   "id": "b666af48-8181-4f8d-b6d3-46fab7a4834d",
   "metadata": {},
   "outputs": [],
   "source": [
    "folder = [] \n",
    "for file in os.listdir(os.path.join(os.path.dirname(to_dir), 'GC_Conv_vids')):\n",
    "    if file.endswith(\".mp4\"):\n",
    "        path=os.path.join(os.path.join(os.path.dirname(to_dir), 'GC_Conv_vids', file))\n",
    "        folder.append(path)\n",
    "print(folder)\n",
    "        \n",
    "# folder2 = [] \n",
    "# for file in os.listdir(os.path.join(os.path.dirname(to_dir), 'Conv_vids')):\n",
    "#     if file.endswith(\".mp4\"):\n",
    "#         path=os.path.join(os.path.join(os.path.dirname(to_dir), 'Conv_vids', file))\n",
    "#         folder2.append(path)\n",
    "        \n",
    "# print(folder, folder2)"
   ]
  },
  {
   "cell_type": "code",
   "execution_count": null,
   "id": "a83ccf62-7694-4462-b39b-08de1287322a",
   "metadata": {},
   "outputs": [],
   "source": [
    "project_name = 'DLC'\n",
    "your_name = 'VK'"
   ]
  },
  {
   "cell_type": "code",
   "execution_count": null,
   "id": "2064e9c9-fe11-4fa0-9ab9-b8556681f6ae",
   "metadata": {},
   "outputs": [],
   "source": [
    "process(folder, project_name, your_name)\n",
    "\n",
    "# all_fold = [folder2, folder]\n",
    "# print(all_fold)"
   ]
  },
  {
   "cell_type": "code",
   "execution_count": null,
   "id": "386bb01d",
   "metadata": {
    "scrolled": true
   },
   "outputs": [],
   "source": [
    "def process(fold, project_name, your_name):\n",
    "    file = fold[0]\n",
    "    print(file)\n",
    "    bodyparts = ['RightEye_Outer', 'RightEye_Top', 'RightEye_Bottom', 'RightEye_Inner', 'RightEye_Pupil', 'LeftEye_Outer', 'LeftEye_Top', 'LeftEye_Bottom', 'LeftEye_Inner', 'LeftEye_Pupil',\n",
    "                 'OutlineTop_Mid','RightNostrils_Top', 'RightNostrils_Bottom','LeftNostrils_Top', 'LeftNostrils_Bottom']\n",
    "    videotype = os.path.splitext(file)[-1].lstrip('.')  # or MOV, or avi, whatever you uploaded!\n",
    "    video_down = folder\n",
    "    name_fold = 'Analyse_' + os.path.basename(os.path.dirname(file))\n",
    "    \n",
    "    model_options = deeplabcut.create_project.modelzoo.Modeloptions\n",
    "    model_selection = 'primate_face'\n",
    "\n",
    "    config_path, train_config_path = deeplabcut.create_pretrained_project(\n",
    "        project_name,\n",
    "        your_name,\n",
    "        video_down,\n",
    "        videotype=videotype,\n",
    "        model=model_selection,\n",
    "        analyzevideo=True,\n",
    "        createlabeledvideo=False,\n",
    "        copy_videos=False,\n",
    "    )\n",
    "\n",
    "    edits = {\n",
    "        'dotsize': 1.5,  # size of the dots!\n",
    "        'pcutoff': 0.4,  # the higher, the more conservative the plotting!\n",
    "    }\n",
    "    deeplabcut.auxiliaryfunctions.edit_config(config_path, edits)\n",
    "    project_path = os.path.dirname(config_path)\n",
    "    full_video_path = []\n",
    "    for i in fold:\n",
    "        full_video_path.append(os.path.join(project_path,'videos', os.path.basename(i)))\n",
    "\n",
    "    # filter predictions (should already be done above ;):\n",
    "    deeplabcut.filterpredictions(config_path, full_video_path, videotype=videotype)\n",
    "\n",
    "    # re-create the video with your edits!\n",
    "    # deeplabcut.CropVideo(config_path, full_video_path, 'crop', \n",
    "    deeplabcut.create_labeled_video(config_path, full_video_path, videotype=videotype, displayedbodyparts=bodyparts, draw_skeleton = True, filtered=True)\n",
    "    \n",
    "    "
   ]
  },
  {
   "cell_type": "code",
   "execution_count": null,
   "id": "06122322-0b79-471a-a662-860541774e0b",
   "metadata": {},
   "outputs": [],
   "source": [
    "# def main():\n",
    "#     Parallel(n_jobs=1)(delayed(process)(fold, project_name, your_name) for fold in all_fold)\n"
   ]
  },
  {
   "cell_type": "code",
   "execution_count": null,
   "id": "7599853c-cbb8-43d8-9cfe-862a498c2e94",
   "metadata": {},
   "outputs": [],
   "source": [
    "# main()"
   ]
  },
  {
   "cell_type": "code",
   "execution_count": null,
   "id": "014eb72f-4a21-400d-ae75-474e3913104f",
   "metadata": {},
   "outputs": [],
   "source": [
    "\n",
    "# for fold in all_fold:\n",
    "#     name_fold = 'Analyse_' + os.path.basename(os.path.dirname(fold[0]))\n",
    "#     print(name_fold)\n",
    "#     print(fold)\n",
    "#     if not os.path.exists(name_fold):\n",
    "#         os.makedirs(name_fold)\n",
    "#     os.chdir(name_fold)\n",
    "#     print(os.getcwd())\n",
    "#     process(fold, project_name, your_name)\n",
    "#     os.chdir('..')\n",
    "#     print(os.getcwd())\n",
    "    "
   ]
  },
  {
   "cell_type": "code",
   "execution_count": null,
   "id": "744aa846-8594-436a-a189-dfd290e593b9",
   "metadata": {},
   "outputs": [],
   "source": [
    "\n",
    "# proj_fold"
   ]
  },
  {
   "cell_type": "code",
   "execution_count": null,
   "id": "63a40002-915b-4e67-b939-ab2fe3ba1f77",
   "metadata": {},
   "outputs": [],
   "source": [
    "h5files = []\n",
    "vid_to_crop = []\n",
    "today = str(date.today())\n",
    "proj_fold = project_name+'-'+your_name+'-'+today\n",
    "\n",
    "target = os.path.join(os.getcwd(),proj_fold,'videos')\n",
    "print(target)\n",
    "for file in os.listdir(target):\n",
    "    if file.endswith(\"filtered.h5\"):\n",
    "        h5files.append(os.path.join(target,file))\n",
    "for file in os.listdir(target):   \n",
    "    if file.endswith(\"labeled.mp4\"):\n",
    "        vid_to_crop.append(os.path.join(target,file))\n",
    "        \n",
    "# print(h5files, vid_to_crop)\n",
    "# videotype = os.path.splitext(file)[-1].lstrip('.')"
   ]
  },
  {
   "cell_type": "code",
   "execution_count": null,
   "id": "9200856c-821a-472c-bef0-c488974a0dca",
   "metadata": {},
   "outputs": [],
   "source": [
    "if len(h5files)==len(vid_to_crop):\n",
    "    for i in h5files:\n",
    "        found = ''\n",
    "        for j in vid_to_crop:\n",
    "            x = os.path.splitext(i)[0].rstrip('_filtered.h5')\n",
    "            y = os.path.splitext(j)[0].rstrip('filtered_labeled.mp4')\n",
    "            if x==y:\n",
    "                found = j\n",
    "        k = os.path.basename(i)\n",
    "        l = 'DLC_re' + k.split('re')[1].rstrip('_filtered')\n",
    "        # print(l)\n",
    "        crop_it(i,j, l)"
   ]
  },
  {
   "cell_type": "code",
   "execution_count": null,
   "id": "37561598-a3a9-4c1e-a322-83f5b0dcb6cc",
   "metadata": {},
   "outputs": [],
   "source": [
    "# DLC_resnet50_DLCMar31shuffle1_1030000\n",
    "# fl_pth = '/home/yramakrishna/DeepLabCut/conda-environments/Codes/final_video/DLC_GazeXBI-anc-2023-03-31/videos/CropGrDLC_resnet50_DLC_GazeXBIMar31shuffle1_1030000_filtered.h5'\n",
    "\n",
    "# vid_pth = '/home/yramakrishna/DeepLabCut/conda-environments/Codes/final_video/DLC_GazeXBI-anc-2023-03-31/videos/CropGrDLC_resnet50_DLC_GazeXBIMar31shuffle1_1030000_filtered_labeled.mp4'"
   ]
  },
  {
   "cell_type": "code",
   "execution_count": null,
   "id": "130ae6bb-1716-4997-a815-30f5978d3677",
   "metadata": {
    "tags": []
   },
   "outputs": [],
   "source": [
    "def crop_it(fl_pth, vid_pth, x):\n",
    "    # deeplabcut.analyze_videos(config_path, 'CropGr.mp4', save_as_csv=True, dynamic=(True,.6,30))\n",
    "\n",
    "    # Load tracking results generated by DeepLabCut\n",
    "    tracking_data = pd.read_hdf(fl_pth)\n",
    "\n",
    "    # Define the names of the facial features that you want to extract frames for\n",
    "    feature_names = ['RightEye_Pupil','LeftEye_Pupil', 'NostrilsTop_Centre', 'OutlineTop_Mid']\n",
    "\n",
    "    # Define the threshold for the confidence score of the facial features\n",
    "    confidence_threshold = 0.9\n",
    "\n",
    "    # Load the input video\n",
    "    cap = cv2.VideoCapture(vid_pth)\n",
    "\n",
    "    # Define the output video writer\n",
    "    out_file = 'AAACrpoutput_video' + x + '.mp4'\n",
    "    fourcc = cv2.VideoWriter_fourcc(*'mp4v')\n",
    "    out = cv2.VideoWriter(out_file, fourcc, 30, (int(cap.get(cv2.CAP_PROP_FRAME_WIDTH)), int(cap.get(cv2.CAP_PROP_FRAME_HEIGHT))))\n",
    "\n",
    "    # Loop through the video frames and extract frames with facial features\n",
    "    frame_number = 0\n",
    "    cap.set(cv2.CAP_PROP_POS_FRAMES, frame_number)\n",
    "    while(cap.isOpened()):\n",
    "        ret, frame = cap.read()\n",
    "        if ret == True:\n",
    "            # Get the tracking data for the current frame\n",
    "            frame_data = tracking_data.loc[frame_number]\n",
    "\n",
    "            # Check if the desired facial features are present in the frame\n",
    "            feature_present = False\n",
    "            check = 0\n",
    "            for feature_name in feature_names:\n",
    "                if feature_name in frame_data.loc[x] and frame_data.loc[x].loc[feature_name].loc['likelihood'] > confidence_threshold:\n",
    "                    check += 1\n",
    "            if check==4:\n",
    "                feature_present = True\n",
    "\n",
    "            # If the desired facial features are present, save the frame to the output video\n",
    "            if feature_present: #check==4\n",
    "                cv2.imshow('output', frame)\n",
    "                out.write(frame)\n",
    "\n",
    "            # Display the output\n",
    "            #cv2.imshow('output', frame)\n",
    "            if cv2.waitKey(1) & 0xFF == ord('q'):\n",
    "                break\n",
    "\n",
    "            # Increment the frame number\n",
    "            frame_number += 1\n",
    "        else:\n",
    "            break\n",
    "\n",
    "    # Release resources\n",
    "    cap.release()\n",
    "    out.release()\n",
    "    cv2.destroyAllWindows()"
   ]
  },
  {
   "cell_type": "code",
   "execution_count": null,
   "id": "9fbdf6ca-a6b2-4b43-adc8-38a0091ad2e2",
   "metadata": {},
   "outputs": [],
   "source": [
    "# shutil.move('/home/yramakrishna/DeepLabCut/conda-environments/Codes/final_video/CropGrDLC_resnet50_DLC_GazeXBIMar30shuffle1_1030000_filtered.h5', '/home/yramakrishna/DeepLabCut/conda-environments/Codes/CropGrDLC_resnet50_DLC_GazeXBIMar30shuffle1_1030000_filtered.h5')\n",
    "\n"
   ]
  },
  {
   "cell_type": "code",
   "execution_count": null,
   "id": "420e6d2a-ed1b-47f0-bbaa-0ee49ef319ae",
   "metadata": {},
   "outputs": [],
   "source": [
    "\n",
    "\n",
    "# final_fl_pth = '/home/yramakrishna/DeepLabCut/conda-environments/Codes/CropGrDLC_resnet50_DLC_GazeXBIMar30shuffle1_1030000_filtered.h5\n",
    "# full_video_path"
   ]
  },
  {
   "cell_type": "code",
   "execution_count": null,
   "id": "5c65f6e7-0077-4abc-a815-00912e48cffa",
   "metadata": {},
   "outputs": [],
   "source": [
    "# try:\n",
    "#     shutil.rmtree('/home/yramakrishna/DeepLabCut/conda-environments/final_video')\n",
    "# except OSError as e:\n",
    "#     # If it fails, inform the user.\n",
    "#     print(\"Error: %s - %s.\" % (e.filename, e.strerror))"
   ]
  },
  {
   "cell_type": "code",
   "execution_count": null,
   "id": "7d4314b3-5e42-4de8-b333-ccebc4245872",
   "metadata": {},
   "outputs": [],
   "source": [
    "# try:\n",
    "#     os.remove('/home/yramakrishna/DeepLabCut/conda-environments/Codes/Ken_Test_Longdownsampled.mp4')\n",
    "# except OSError as e:\n",
    "#     # If it fails, inform the user.\n",
    "#     print(\"Error: %s - %s.\" % (e.filename, e.strerror))"
   ]
  },
  {
   "cell_type": "code",
   "execution_count": null,
   "id": "a0e155ed-c842-4f01-ba18-e0d6b38fafee",
   "metadata": {},
   "outputs": [],
   "source": [
    "# import tkinter as tk\n",
    "# from tkVideoPlayer import TkinterVideo\n",
    "\n",
    "# root = tk.Tk()\n",
    "\n",
    "# videoplayer = TkinterVideo(master=root, scaled=True)\n",
    "# videoplayer.load(final)\n",
    "# videoplayer.pack(expand=True, fill=\"both\")\n",
    "\n",
    "# videoplayer.play() # play the video\n",
    "\n",
    "# root.mainloop()"
   ]
  },
  {
   "cell_type": "code",
   "execution_count": null,
   "id": "93511066-14c1-44d0-9566-9a2975babd4d",
   "metadata": {},
   "outputs": [],
   "source": [
    "# cap = cv2.VideoCapture(\"/home/yramakrishna/DeepLabCut/conda-environments/CropGrDLC_resnet50_DLC_GazeXBIMar20shuffle1_1030000_filtered_labeled.mp4\")\n",
    "# ret, frame = cap.read()\n",
    "# while(1):\n",
    "#    ret, frame = cap.read()\n",
    "#    cv2.imshow('frame',frame)\n",
    "#    if cv2.waitKey(1) & 0xFF == ord('q') or ret==False :\n",
    "#        cap.release()\n",
    "#        cv2.destroyAllWindows()\n",
    "#        break\n",
    "#    cv2.imshow('frame',frame)"
   ]
  },
  {
   "cell_type": "code",
   "execution_count": null,
   "id": "64dfab5c-99f8-427b-9bb0-634efbe8ffa8",
   "metadata": {},
   "outputs": [],
   "source": [
    "# from moviepy.editor import *\n",
    "# import pygame\n",
    " \n",
    "# clip = VideoFileClip('/home/yramakrishna/DeepLabCut/conda-environments/CropGrDLC_resnet50_DLC_GazeXBIMar20shuffle1_1030000_filtered_labeled.mp4')\n",
    "# clip.preview()\n",
    " \n",
    "# pygame.quit()"
   ]
  },
  {
   "cell_type": "code",
   "execution_count": null,
   "id": "49c14e94-b374-4c21-abce-0af196dfb672",
   "metadata": {},
   "outputs": [],
   "source": [
    "# from tkinter import *\n",
    "# from tkvideo import tkvideo\n",
    "\n",
    "# root = Tk()\n",
    "# my_label = Label(root)\n",
    "# my_label.pack()\n",
    "# player = tkvideo(\"/home/yramakrishna/DeepLabCut/conda-environments/CropGrDLC_resnet50_DLC_GazeXBIMar20shuffle1_1030000_filtered_labeled.mp4\", my_label, loop = 1, size = (1280,720))\n",
    "# player.play()\n",
    "\n",
    "# root.mainloop()"
   ]
  },
  {
   "cell_type": "code",
   "execution_count": null,
   "id": "86b47575-5bfd-4a6b-977a-f6e6692e0c0a",
   "metadata": {},
   "outputs": [],
   "source": [
    "# dlc_model = config_path\n",
    "# dlc_config = deeplabcut.load_config(config_file)\n",
    "# dlc_model = deeplabcut.getModel(dlc_config)\n",
    "\n",
    "\n",
    "# # Load the video file\n",
    "# cap = cv2.VideoCapture(video_down)\n",
    "\n",
    "# fps = int(cap.get(cv2.CAP_PROP_FPS))\n",
    "\n",
    "# fourcc = cv2.VideoWriter_fourcc(*'mp4v')\n",
    "# out = cv2.VideoWriter('CropMFace.mp4', fourcc, fps, (int(cap.get(cv2.CAP_PROP_FRAME_WIDTH)), int(cap.get(cv2.CAP_PROP_FRAME_HEIGHT))))\n",
    "\n",
    "# # Loop over each frame in the video\n",
    "# frame_count = 0\n",
    "# video.set(cv2.CAP_PROP_POS_FRAMES, 0)\n",
    "\n",
    "# while(cap.isOpened()):\n",
    "#     ret, frame = cap.read()\n",
    "\n",
    "#     # Break the loop when the video ends\n",
    "#     if not ret:\n",
    "#         break\n",
    "\n",
    "#     # Detect the monkey face using the DeepLabCut model\n",
    "#     dlc_coordinates, _ = dlc_model.predict(frame, tracking=True)\n",
    "#     monkey_face_coordinates = dlc_coordinates['monkey_face']\n",
    "\n",
    "#     # Check if monkey face is detected in the frame\n",
    "#     if monkey_face_coordinates.any():\n",
    "#         out.write(frame_scaled)\n",
    "#         # Get the bounding box coordinates of the monkey face\n",
    "#         x, y, w, h = cv2.boundingRect(monkey_face_coordinates.astype(int))\n",
    "\n",
    "#         # Crop out the monkey face and save it to a new file\n",
    "#         monkey_face = frame[y:y+h, x:x+w]\n",
    "#         cv2.imwrite(f'monkey_face_{frame_count}.jpg', monkey_face)\n",
    "#         frame_count += 1\n",
    "\n",
    "\n",
    "#     # Break the loop if 'q' is pressed\n",
    "#     if cv2.waitKey(1) & 0xFF == ord('q'):\n",
    "#         break\n",
    "\n",
    "# # Release the video capture and close all windows\n",
    "# out.release()\n",
    "# cap.release()\n",
    "# cv2.destroyAllWindows()\n"
   ]
  },
  {
   "cell_type": "code",
   "execution_count": null,
   "id": "f6b60d65-a764-415f-8f9e-037d4941d7f0",
   "metadata": {},
   "outputs": [],
   "source": [
    "\n",
    "# import cv2\n",
    "# import numpy as np\n",
    "# import deeplabcut\n",
    "\n",
    "# # Load the DeepLabCut model\n",
    "# config_file = 'path/to/config.yaml'\n",
    "# dlc_model = deeplabcut.load_model(config_file)\n",
    "\n",
    "# # Load the video file\n",
    "# cap = cv2.VideoCapture('path/to/video')\n",
    "\n",
    "# # Loop over each frame in the video\n",
    "# frame_count = 0\n",
    "# while(cap.isOpened()):\n",
    "#     ret, frame = cap.read()\n",
    "    \n",
    "#     # Break the loop when the video ends\n",
    "#     if not ret:\n",
    "#         break\n",
    "    \n",
    "#     # Detect the monkey face using the DeepLabCut model\n",
    "#     dlc_coordinates, _ = dlc_model.predict(frame, tracking=True)\n",
    "#     monkey_face_coordinates = dlc_coordinates['monkey_face']\n",
    "    \n",
    "#     # Check if monkey face is detected in the frame\n",
    "#     if monkey_face_coordinates.any():\n",
    "#         # Get the bounding box coordinates of the monkey face\n",
    "#         x, y, w, h = cv2.boundingRect(monkey_face_coordinates.astype(int))\n",
    "        \n",
    "#         # Crop out the monkey face and save it to a new file\n",
    "#         monkey_face = frame[y:y+h, x:x+w]\n",
    "#         cv2.imwrite(f'monkey_face_{frame_count}.jpg', monkey_face)\n",
    "#         frame_count += 1\n",
    "    \n",
    "#     # Break the loop if 'q' is pressed\n",
    "#     if cv2.waitKey(1) & 0xFF == ord('q'):\n",
    "#         break\n",
    "\n",
    "# # Release the video capture and close all windows\n",
    "# cap.release()\n",
    "# cv2.destroyAllWindows()\n"
   ]
  }
 ],
 "metadata": {
  "kernelspec": {
   "display_name": "Python 3 (ipykernel)",
   "language": "python",
   "name": "python3"
  },
  "language_info": {
   "codemirror_mode": {
    "name": "ipython",
    "version": 3
   },
   "file_extension": ".py",
   "mimetype": "text/x-python",
   "name": "python",
   "nbconvert_exporter": "python",
   "pygments_lexer": "ipython3",
   "version": "3.9.13"
  }
 },
 "nbformat": 4,
 "nbformat_minor": 5
}
