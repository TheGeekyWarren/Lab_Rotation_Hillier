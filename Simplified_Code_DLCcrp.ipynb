{
 "cells": [
  {
   "cell_type": "code",
   "execution_count": null,
   "id": "84a40da8",
   "metadata": {
    "tags": []
   },
   "outputs": [],
   "source": [
    "import os\n",
    "import cv2\n",
    "import shutil\n",
    "import deeplabcut\n",
    "import numpy as np\n",
    "import pandas as pd\n",
    "import subprocess\n",
    "from datetime import date\n",
    "from joblib import Parallel, delayed"
   ]
  },
  {
   "cell_type": "code",
   "execution_count": null,
   "id": "d9be17bd-dc4d-428f-a810-beaf81b8a82c",
   "metadata": {},
   "outputs": [],
   "source": [
    "os.getcwd()"
   ]
  },
  {
   "cell_type": "code",
   "execution_count": null,
   "id": "8d784722-d64e-4724-8447-058d3c69b231",
   "metadata": {},
   "outputs": [],
   "source": [
    "if not os.path.exists('All_vids'):\n",
    "        os.makedirs('All_vids')\n",
    "os.chdir('All_vids')"
   ]
  },
  {
   "cell_type": "code",
   "execution_count": null,
   "id": "ddd391ee-db52-4ebd-b8a2-c5f44cfa1fab",
   "metadata": {},
   "outputs": [],
   "source": [
    "#enter path of folder (including folder name) containing all your videos of interest\n",
    "vid_dir = '/home/yramakrishna/DeepLabCut/conda-environments/Codes/Videos'\n",
    "to_dir = os.path.join(os.getcwd(), os.path.basename(vid_dir))\n",
    "shutil.move(vid_dir, to_dir)"
   ]
  },
  {
   "cell_type": "code",
   "execution_count": null,
   "id": "01960dc1-e0c4-4373-bcba-3fde87be5218",
   "metadata": {},
   "outputs": [],
   "source": [
    "os.path.dirname(to_dir)"
   ]
  },
  {
   "cell_type": "code",
   "execution_count": null,
   "id": "9eb812a8-c4d1-4910-b7f6-5daa481e3cf5",
   "metadata": {},
   "outputs": [],
   "source": [
    "#Soring converted videos in a new folder\n",
    "if not os.path.exists('Conv_vids'):\n",
    "        os.makedirs('Conv_vids')"
   ]
  },
  {
   "cell_type": "code",
   "execution_count": null,
   "id": "ff2aaf43-a4eb-40be-a539-315c0e9b0504",
   "metadata": {},
   "outputs": [],
   "source": [
    "input_file = '/home/yramakrishna/DeepLabCut/conda-environments/Codes/All_vids/Videos/ken_20210503_0911_XBI19_reversal_learning_foraging_SC3_DCS_frontcamera.mov'\n",
    "output_file = os.path.splitext(os.path.basename(input_file))[0].lstrip('.') \n",
    "output_file\n",
    "os.path.join(os.path.dirname(os.path.dirname(input_file)), '/Conv_vids', output_file +'_conv.mp4')"
   ]
  },
  {
   "cell_type": "code",
   "execution_count": null,
   "id": "b1791f7f-258e-4c56-9731-1b3e25244396",
   "metadata": {},
   "outputs": [],
   "source": [
    "#Converting .mov videos to .mp4\n",
    "def conv_mp4(input_file):\n",
    "    out_name = os.path.splitext(input_file)[0].lstrip('.') \n",
    "    print(out_name)\n",
    "    output_file = out_name + '.mp4'\n",
    "    # print(input_file)\n",
    "    # print(output_file)\n",
    "    # Run FFmpeg command to convert MOV to MP4\n",
    "    command = f\"ffmpeg -i {input_file} -c:v libx264 -preset medium -crf 23 -c:a aac -b:a 128k {output_file}\"\n",
    "    subprocess.call(command, shell=True)\n",
    "    new = os.path.join(os.path.dirname(os.path.dirname(output_file)), 'Conv_vids', os.path.basename(output_file))\n",
    "    shutil.move(output_file, new)\n",
    "    # print('Convertion complete - ', os.path.basename(output_file))"
   ]
  },
  {
   "cell_type": "code",
   "execution_count": null,
   "id": "79ec8c5a-3eb8-4245-bc0b-1fcd8a575ddf",
   "metadata": {
    "tags": []
   },
   "outputs": [],
   "source": [
    "for file in os.listdir(os.path.join(os.path.dirname(to_dir), 'Videos')):\n",
    "    if file.endswith(\".mov\"):\n",
    "        # print(file)\n",
    "        path=os.path.join(os.path.join(os.path.dirname(to_dir), 'Videos', file))\n",
    "        conv_mp4(path)\n",
    "        # print(path)"
   ]
  },
  {
   "cell_type": "code",
   "execution_count": null,
   "id": "531f8d23-e5c4-4a38-a22f-ce2063063122",
   "metadata": {},
   "outputs": [],
   "source": [
    "# if not os.path.exists('NDSConv_vids'):\n",
    "#         os.makedirs('NDSConv_vids')"
   ]
  },
  {
   "cell_type": "code",
   "execution_count": null,
   "id": "31e91eb6-51bf-4500-93f5-419556cddec0",
   "metadata": {},
   "outputs": [],
   "source": [
    "if not os.path.exists('GC_Conv_vids'):\n",
    "        os.makedirs('GC_Conv_vids')\n",
    "os.chdir('GC_Conv_vids')"
   ]
  },
  {
   "cell_type": "code",
   "execution_count": null,
   "id": "a2633ec5-0114-4682-a811-7b0dfed877a1",
   "metadata": {},
   "outputs": [],
   "source": [
    "os.getcwd()"
   ]
  },
  {
   "cell_type": "code",
   "execution_count": null,
   "id": "bdca7d0a-501d-49de-91d3-56ae0a0bd2c5",
   "metadata": {},
   "outputs": [],
   "source": [
    "#os.listdir(os.path.join(os.path.dirname(to_dir), 'DSConv_vids'))\n",
    "# os.path.join(os.path.dirname(to_dir), 'NDSConv_vids', os.path.basename(dsv)) "
   ]
  },
  {
   "cell_type": "code",
   "execution_count": null,
   "id": "ce5d9b93-8d3f-46ff-afdf-60bbc79461c1",
   "metadata": {},
   "outputs": [],
   "source": [
    "#cropping video and Gamma correction\n",
    "def downsize_gc(convid):\n",
    "    dsv = deeplabcut.DownSampleVideo(convid, width=320, height=240)\n",
    "    # Load the video file\n",
    "    video = cv2.VideoCapture(dsv)\n",
    "\n",
    "    # Get the frame rate and total number of frames\n",
    "    fps = int(video.get(cv2.CAP_PROP_FPS))\n",
    "    total_frames = int(video.get(cv2.CAP_PROP_FRAME_COUNT))\n",
    "\n",
    "    #*********************************************\n",
    "\n",
    "    # Set the start and end points to crop out\n",
    "    start_sec = 0  # Crop out the first x seconds\n",
    "    end_sec = 0 # Crop out the last y seconds\n",
    "\n",
    "    #Set gamma correction value\n",
    "    gamma = 2\n",
    "\n",
    "    #**********************************************\n",
    "\n",
    "    start_frame = int(start_sec * fps)\n",
    "    end_frame = int((total_frames / fps) - end_sec) * fps\n",
    "\n",
    "    # Set the video writer\n",
    "    output_name = os.path.splitext(os.path.basename(convid))[0].lstrip('.') + '_GC.mp4'\n",
    "    fourcc = cv2.VideoWriter_fourcc(*'mp4v')\n",
    "    out = cv2.VideoWriter(output_name, fourcc, fps, (int(video.get(cv2.CAP_PROP_FRAME_WIDTH)), int(video.get(cv2.CAP_PROP_FRAME_HEIGHT))))\n",
    "\n",
    "    # Set the current frame number to the start frame\n",
    "    video.set(cv2.CAP_PROP_POS_FRAMES, start_frame)\n",
    "\n",
    "    # Loop through the frames and write them to the output video\n",
    "    for i in range(start_frame, end_frame):\n",
    "        ret, frame = video.read()\n",
    "        if not ret:\n",
    "            break\n",
    "\n",
    "        # Normalize the pixel values to the range [0, 1]\n",
    "        frame_normalized = frame.astype(np.float32) / 255.0\n",
    "\n",
    "        # Apply gamma correction\n",
    "        frame_corrected = np.power(frame_normalized, 1/gamma)\n",
    "\n",
    "        # Scale the pixel values back to the range [0, 255]\n",
    "        frame_scaled = (frame_corrected * 255.0).astype(np.uint8)\n",
    "\n",
    "        out.write(frame_scaled)\n",
    "    new = os.path.join(os.path.dirname(os.path.dirname(dsv)), 'GC_Conv_vids', os.path.basename(dsv))\n",
    "    shutil.move(dsv, new)\n",
    "\n",
    "    # Release the video objects\n",
    "    video.release()\n",
    "    out.release()\n",
    "    cv2.destroyAllWindows()"
   ]
  },
  {
   "cell_type": "code",
   "execution_count": null,
   "id": "514c6d6d-80bd-4abd-9614-e34f167a77e9",
   "metadata": {
    "tags": []
   },
   "outputs": [],
   "source": [
    "# vid_names = []\n",
    "for file in os.listdir(os.path.join(os.path.dirname(to_dir), 'Conv_vids')):\n",
    "    if file.endswith(\".mp4\"):\n",
    "        path=os.path.join(os.path.join(os.path.dirname(to_dir), 'Conv_vids', file))\n",
    "        downsize_gc(path)"
   ]
  },
  {
   "cell_type": "code",
   "execution_count": null,
   "id": "1c44fc28-8782-4333-a6ea-60113997409c",
   "metadata": {},
   "outputs": [],
   "source": [
    "# os.path.join(os.path.dirname(os.path.dirname(input_file)), 'All_vids/Conv_vids', out_name +'_conv.mp4')\n",
    "# out_name = os.path.splitext(os.path.basename(path))[0].lstrip('.') + '.mp4'\n",
    "# out_name"
   ]
  },
  {
   "cell_type": "code",
   "execution_count": null,
   "id": "d9000da0-5712-40ce-b209-9d19163bae03",
   "metadata": {},
   "outputs": [],
   "source": [
    "os.chdir('..')\n",
    "os.getcwd()"
   ]
  },
  {
   "cell_type": "code",
   "execution_count": null,
   "id": "b666af48-8181-4f8d-b6d3-46fab7a4834d",
   "metadata": {},
   "outputs": [],
   "source": [
    "folder = [] \n",
    "for file in os.listdir(os.path.join(os.path.dirname(to_dir), 'GC_Conv_vids')):\n",
    "    if file.endswith(\".mp4\"):\n",
    "        path=os.path.join(os.path.join(os.path.dirname(to_dir), 'GC_Conv_vids', file))\n",
    "        folder.append(path)\n",
    "print(folder)\n",
    "        \n",
    "# folder2 = [] \n",
    "# for file in os.listdir(os.path.join(os.path.dirname(to_dir), 'Conv_vids')):\n",
    "#     if file.endswith(\".mp4\"):\n",
    "#         path=os.path.join(os.path.join(os.path.dirname(to_dir), 'Conv_vids', file))\n",
    "#         folder2.append(path)\n",
    "        \n",
    "# print(folder, folder2)"
   ]
  },
  {
   "cell_type": "code",
   "execution_count": null,
   "id": "a83ccf62-7694-4462-b39b-08de1287322a",
   "metadata": {},
   "outputs": [],
   "source": [
    "project_name = 'DLC'\n",
    "your_name = 'VK'"
   ]
  },
  {
   "cell_type": "code",
   "execution_count": null,
   "id": "386bb01d",
   "metadata": {
    "scrolled": true
   },
   "outputs": [],
   "source": [
    "def process(fold, project_name, your_name):\n",
    "    file = fold[0]\n",
    "    print(file)\n",
    "    bodyparts = ['RightEye_Outer', 'RightEye_Top', 'RightEye_Bottom', 'RightEye_Inner', 'RightEye_Pupil', 'LeftEye_Outer', 'LeftEye_Top', 'LeftEye_Bottom', 'LeftEye_Inner', 'LeftEye_Pupil',\n",
    "                 'OutlineTop_Mid','RightNostrils_Top', 'RightNostrils_Bottom','LeftNostrils_Top', 'LeftNostrils_Bottom']\n",
    "    videotype = os.path.splitext(file)[-1].lstrip('.')  # or MOV, or avi, whatever you uploaded!\n",
    "    video_down = folder\n",
    "    name_fold = 'Analyse_' + os.path.basename(os.path.dirname(file))\n",
    "    \n",
    "    model_options = deeplabcut.create_project.modelzoo.Modeloptions\n",
    "    model_selection = 'primate_face'\n",
    "\n",
    "    config_path, train_config_path = deeplabcut.create_pretrained_project(\n",
    "        project_name,\n",
    "        your_name,\n",
    "        video_down,\n",
    "        videotype=videotype,\n",
    "        model=model_selection,\n",
    "        analyzevideo=True,\n",
    "        createlabeledvideo=False,\n",
    "        copy_videos=False,\n",
    "    )\n",
    "\n",
    "    edits = {\n",
    "        'dotsize': 1.5,  # size of the dots!\n",
    "        'pcutoff': 0.4,  # the higher, the more conservative the plotting!\n",
    "    }\n",
    "    deeplabcut.auxiliaryfunctions.edit_config(config_path, edits)\n",
    "    project_path = os.path.dirname(config_path)\n",
    "    full_video_path = []\n",
    "    for i in fold:\n",
    "        full_video_path.append(os.path.join(project_path,'videos', os.path.basename(i)))\n",
    "\n",
    "    # filter predictions (should already be done above ;):\n",
    "    deeplabcut.filterpredictions(config_path, full_video_path, videotype=videotype)\n",
    "\n",
    "    # re-create the video with your edits!\n",
    "    # deeplabcut.CropVideo(config_path, full_video_path, 'crop', \n",
    "    deeplabcut.create_labeled_video(config_path, full_video_path, videotype=videotype, displayedbodyparts=bodyparts, draw_skeleton = True, filtered=True)\n",
    "    \n",
    "    "
   ]
  },
  {
   "cell_type": "code",
   "execution_count": null,
   "id": "2064e9c9-fe11-4fa0-9ab9-b8556681f6ae",
   "metadata": {
    "tags": []
   },
   "outputs": [],
   "source": [
    "process(folder, project_name, your_name)\n",
    "\n",
    "# all_fold = [folder2, folder]\n",
    "# print(all_fold)"
   ]
  },
  {
   "cell_type": "code",
   "execution_count": null,
   "id": "06122322-0b79-471a-a662-860541774e0b",
   "metadata": {},
   "outputs": [],
   "source": [
    "# def main():\n",
    "#     Parallel(n_jobs=1)(delayed(process)(fold, project_name, your_name) for fold in all_fold)\n"
   ]
  },
  {
   "cell_type": "code",
   "execution_count": null,
   "id": "7599853c-cbb8-43d8-9cfe-862a498c2e94",
   "metadata": {},
   "outputs": [],
   "source": [
    "# main()"
   ]
  },
  {
   "cell_type": "code",
   "execution_count": null,
   "id": "014eb72f-4a21-400d-ae75-474e3913104f",
   "metadata": {},
   "outputs": [],
   "source": [
    "\n",
    "# for fold in all_fold:\n",
    "#     name_fold = 'Analyse_' + os.path.basename(os.path.dirname(fold[0]))\n",
    "#     print(name_fold)\n",
    "#     print(fold)\n",
    "#     if not os.path.exists(name_fold):\n",
    "#         os.makedirs(name_fold)\n",
    "#     os.chdir(name_fold)\n",
    "#     print(os.getcwd())\n",
    "#     process(fold, project_name, your_name)\n",
    "#     os.chdir('..')\n",
    "#     print(os.getcwd())\n",
    "    "
   ]
  },
  {
   "cell_type": "code",
   "execution_count": null,
   "id": "744aa846-8594-436a-a189-dfd290e593b9",
   "metadata": {},
   "outputs": [],
   "source": [
    "\n",
    "# proj_fold"
   ]
  },
  {
   "cell_type": "code",
   "execution_count": null,
   "id": "63a40002-915b-4e67-b939-ab2fe3ba1f77",
   "metadata": {},
   "outputs": [],
   "source": [
    "os.chdir('/home/yramakrishna/DeepLabCut/conda-environments/Codes/All_vids')\n",
    "h5files = []\n",
    "vid_to_crop = []\n",
    "# today = str(date.today())\n",
    "today = \"2023-04-12\"\n",
    "proj_fold = project_name+'-'+your_name+'-'+today\n",
    "# print(today)\n",
    "target = os.path.join(os.getcwd(),proj_fold,'videos')\n",
    "print(target)\n",
    "for file in os.listdir(target):\n",
    "    if file.endswith(\"filtered.h5\"):\n",
    "        h5files.append(os.path.join(target,file))\n",
    "for file in os.listdir(target):   \n",
    "    if file.endswith(\"labeled.mp4\"):\n",
    "        vid_to_crop.append(os.path.join(target,file))\n",
    "        \n",
    "# print(h5files, vid_to_crop)\n",
    "# videotype = os.path.splitext(file)[-1].lstrip('.')"
   ]
  },
  {
   "cell_type": "code",
   "execution_count": null,
   "id": "130ae6bb-1716-4997-a815-30f5978d3677",
   "metadata": {
    "tags": []
   },
   "outputs": [],
   "source": [
    "def crop_it(feed):\n",
    "    \n",
    "    fl_pth, vid_pth, x = feed\n",
    "    # deeplabcut.analyze_videos(config_path, 'CropGr.mp4', save_as_csv=True, dynamic=(True,.6,30))\n",
    "    print(\"Starting Cropping\")\n",
    "\n",
    "    # Load tracking results generated by DeepLabCut\n",
    "    tracking_data = pd.read_hdf(fl_pth)\n",
    "\n",
    "    # Define the names of the facial features that you want to extract frames for\n",
    "    feature_names = ['RightEye_Pupil','LeftEye_Pupil', 'NostrilsTop_Centre', 'OutlineTop_Mid']\n",
    "\n",
    "    # Define the threshold for the confidence score of the facial features\n",
    "    confidence_threshold = 0.9\n",
    "    \n",
    "    # Load the input video\n",
    "    cap = cv2.VideoCapture(vid_pth)\n",
    "    \n",
    "    tot_frame = int(cap.get(cv2.CAP_PROP_FRAME_COUNT))\n",
    "    \n",
    "    # Define the output video writer\n",
    "    bn = os.path.basename(vid_pth).split('.')[0]\n",
    "    out_file = 'AAACrpoutput_video' + bn + '.mp4'\n",
    "    fourcc = cv2.VideoWriter_fourcc(*'mp4v')\n",
    "    out = cv2.VideoWriter(out_file, fourcc, 30, (int(cap.get(cv2.CAP_PROP_FRAME_WIDTH)), int(cap.get(cv2.CAP_PROP_FRAME_HEIGHT))))\n",
    "    print(\"Output file written - \", out_file)\n",
    "\n",
    "    # Loop through the video frames and extract frames with facial features\n",
    "    frame_number = 0\n",
    "    cap.set(cv2.CAP_PROP_POS_FRAMES, frame_number)\n",
    "    while(cap.isOpened()):\n",
    "        ret, frame = cap.read()\n",
    "        if ret == True:\n",
    "            # Get the tracking data for the current frame\n",
    "            frame_data = tracking_data.loc[frame_number]\n",
    "\n",
    "            # Check if the desired facial features are present in the frame\n",
    "            feature_present = False\n",
    "            check = 0\n",
    "            for feature_name in feature_names:\n",
    "                if feature_name in frame_data.loc[x] and frame_data.loc[x].loc[feature_name].loc['likelihood'] > confidence_threshold:\n",
    "                    check += 1\n",
    "            if check==4:\n",
    "                feature_present = True\n",
    "\n",
    "            # If the desired facial features are present, save the frame to the output video\n",
    "            if feature_present: #check==4\n",
    "                cv2.imshow('output', frame)\n",
    "                out.write(frame)\n",
    "            # Display the output\n",
    "            #cv2.imshow('output', frame)\n",
    "            if cv2.waitKey(1) & 0xFF == ord('q'):\n",
    "                break\n",
    "            print(round(frame_number/tot_frame*100, 2), end = '\\r')\n",
    "            # Increment the frame number\n",
    "            frame_number += 1\n",
    "        else:\n",
    "            break\n",
    "    print(\"Done\")\n",
    "    # Release resources\n",
    "    cap.release()\n",
    "    out.release()\n",
    "    cv2.destroyAllWindows()"
   ]
  },
  {
   "cell_type": "code",
   "execution_count": null,
   "id": "42ee40e0-e0f6-4de5-9165-393cc2661f18",
   "metadata": {},
   "outputs": [],
   "source": [
    "os.chdir('/home/yramakrishna/DeepLabCut/conda-environments/Codes/All_vids')"
   ]
  },
  {
   "cell_type": "code",
   "execution_count": null,
   "id": "f424f6ca-d1c3-493e-969d-e9b56c8100b9",
   "metadata": {},
   "outputs": [],
   "source": [
    "os.getcwd()"
   ]
  },
  {
   "cell_type": "code",
   "execution_count": null,
   "id": "1cdfe55a-81ec-4436-af99-f4c391dd18ad",
   "metadata": {},
   "outputs": [],
   "source": [
    "if not os.path.exists('Cropped_vids'):\n",
    "        os.makedirs('Cropped_vids')\n",
    "os.chdir('Cropped_vids')"
   ]
  },
  {
   "cell_type": "code",
   "execution_count": null,
   "id": "9200856c-821a-472c-bef0-c488974a0dca",
   "metadata": {
    "tags": []
   },
   "outputs": [],
   "source": [
    "crop_source = []\n",
    "if len(h5files)==len(vid_to_crop):\n",
    "    for i in h5files:\n",
    "        found = ''\n",
    "        for j in vid_to_crop:\n",
    "            x = os.path.splitext(i)[0].rstrip('_filtered.h5')\n",
    "            y = os.path.splitext(j)[0].rstrip('filtered_labeled.mp4')\n",
    "            if x==y:\n",
    "                found = j\n",
    "        k = os.path.basename(i)\n",
    "        l = 'DLC' + k.split('DLC')[1] + 'DLC' + k.split('DLC')[2].rstrip('_filtered.h5')\n",
    "        # print(l)\n",
    "        # print(i)\n",
    "        # print(found)\n",
    "        # print(k)\n",
    "        # print(l)\n",
    "        # print('')\n",
    "        crop_source.append([i,found, l])\n",
    "c_s = np.array(crop_source)\n"
   ]
  },
  {
   "cell_type": "code",
   "execution_count": null,
   "id": "afca2d8c-0237-47d5-ba65-aad25a30fa9c",
   "metadata": {
    "tags": []
   },
   "outputs": [],
   "source": [
    "# crop_it(c_s[0])\n",
    "for i in c_s:\n",
    "    crop_it(i)"
   ]
  }
 ],
 "metadata": {
  "kernelspec": {
   "display_name": "Python 3 (ipykernel)",
   "language": "python",
   "name": "python3"
  },
  "language_info": {
   "codemirror_mode": {
    "name": "ipython",
    "version": 3
   },
   "file_extension": ".py",
   "mimetype": "text/x-python",
   "name": "python",
   "nbconvert_exporter": "python",
   "pygments_lexer": "ipython3",
   "version": "3.9.13"
  }
 },
 "nbformat": 4,
 "nbformat_minor": 5
}
