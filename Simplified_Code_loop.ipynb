{
 "cells": [
  {
   "cell_type": "code",
   "execution_count": 21,
   "id": "84a40da8",
   "metadata": {
    "tags": []
   },
   "outputs": [],
   "source": [
    "import os\n",
    "import cv2\n",
    "import shutil\n",
    "import deeplabcut\n",
    "import numpy as np\n",
    "import os"
   ]
  },
  {
   "cell_type": "code",
   "execution_count": 22,
   "id": "854aff5a-0afc-4ee5-896a-a9c9f32a716f",
   "metadata": {},
   "outputs": [
    {
     "data": {
      "text/plain": [
       "'/home/yramakrishna/DeepLabCut/conda-environments/Codes/final_video/final_video'"
      ]
     },
     "execution_count": 22,
     "metadata": {},
     "output_type": "execute_result"
    }
   ],
   "source": [
    "os.getcwd()"
   ]
  },
  {
   "cell_type": "code",
   "execution_count": 23,
   "id": "1dda329f-efda-445e-a58c-1a87f8ad2cd1",
   "metadata": {},
   "outputs": [],
   "source": [
    "start_file  = '/home/yramakrishna/DeepLabCut/conda-environments/Codes/Ken_Test_Long.mp4'"
   ]
  },
  {
   "cell_type": "code",
   "execution_count": 24,
   "id": "f05155ca-d7ec-48ff-a5f5-0ddf682ea5d2",
   "metadata": {
    "tags": []
   },
   "outputs": [
    {
     "name": "stderr",
     "output_type": "stream",
     "text": [
      "ffmpeg version 4.4.2-0ubuntu0.22.04.1 Copyright (c) 2000-2021 the FFmpeg developers\n",
      "  built with gcc 11 (Ubuntu 11.2.0-19ubuntu1)\n",
      "  configuration: --prefix=/usr --extra-version=0ubuntu0.22.04.1 --toolchain=hardened --libdir=/usr/lib/x86_64-linux-gnu --incdir=/usr/include/x86_64-linux-gnu --arch=amd64 --enable-gpl --disable-stripping --enable-gnutls --enable-ladspa --enable-libaom --enable-libass --enable-libbluray --enable-libbs2b --enable-libcaca --enable-libcdio --enable-libcodec2 --enable-libdav1d --enable-libflite --enable-libfontconfig --enable-libfreetype --enable-libfribidi --enable-libgme --enable-libgsm --enable-libjack --enable-libmp3lame --enable-libmysofa --enable-libopenjpeg --enable-libopenmpt --enable-libopus --enable-libpulse --enable-librabbitmq --enable-librubberband --enable-libshine --enable-libsnappy --enable-libsoxr --enable-libspeex --enable-libsrt --enable-libssh --enable-libtheora --enable-libtwolame --enable-libvidstab --enable-libvorbis --enable-libvpx --enable-libwebp --enable-libx265 --enable-libxml2 --enable-libxvid --enable-libzimg --enable-libzmq --enable-libzvbi --enable-lv2 --enable-omx --enable-openal --enable-opencl --enable-opengl --enable-sdl2 --enable-pocketsphinx --enable-librsvg --enable-libmfx --enable-libdc1394 --enable-libdrm --enable-libiec61883 --enable-chromaprint --enable-frei0r --enable-libx264 --enable-shared\n",
      "  WARNING: library configuration mismatch\n",
      "  avcodec     configuration: --prefix=/usr --extra-version=0ubuntu0.22.04.1 --toolchain=hardened --libdir=/usr/lib/x86_64-linux-gnu --incdir=/usr/include/x86_64-linux-gnu --arch=amd64 --enable-gpl --disable-stripping --enable-gnutls --enable-ladspa --enable-libaom --enable-libass --enable-libbluray --enable-libbs2b --enable-libcaca --enable-libcdio --enable-libcodec2 --enable-libdav1d --enable-libflite --enable-libfontconfig --enable-libfreetype --enable-libfribidi --enable-libgme --enable-libgsm --enable-libjack --enable-libmp3lame --enable-libmysofa --enable-libopenjpeg --enable-libopenmpt --enable-libopus --enable-libpulse --enable-librabbitmq --enable-librubberband --enable-libshine --enable-libsnappy --enable-libsoxr --enable-libspeex --enable-libsrt --enable-libssh --enable-libtheora --enable-libtwolame --enable-libvidstab --enable-libvorbis --enable-libvpx --enable-libwebp --enable-libx265 --enable-libxml2 --enable-libxvid --enable-libzimg --enable-libzmq --enable-libzvbi --enable-lv2 --enable-omx --enable-openal --enable-opencl --enable-opengl --enable-sdl2 --enable-pocketsphinx --enable-librsvg --enable-libmfx --enable-libdc1394 --enable-libdrm --enable-libiec61883 --enable-chromaprint --enable-frei0r --enable-libx264 --enable-shared --enable-version3 --disable-doc --disable-programs --enable-libaribb24 --enable-libopencore_amrnb --enable-libopencore_amrwb --enable-libtesseract --enable-libvo_amrwbenc --enable-libsmbclient\n",
      "  libavutil      56. 70.100 / 56. 70.100\n",
      "  libavcodec     58.134.100 / 58.134.100\n",
      "  libavformat    58. 76.100 / 58. 76.100\n",
      "  libavdevice    58. 13.100 / 58. 13.100\n",
      "  libavfilter     7.110.100 /  7.110.100\n",
      "  libswscale      5.  9.100 /  5.  9.100\n",
      "  libswresample   3.  9.100 /  3.  9.100\n",
      "  libpostproc    55.  9.100 / 55.  9.100\n",
      "Input #0, mov,mp4,m4a,3gp,3g2,mj2, from '/home/yramakrishna/DeepLabCut/conda-environments/Codes/Ken_Test_Long.mp4':\n",
      "  Metadata:\n",
      "    major_brand     : mp42\n",
      "    minor_version   : 1\n",
      "    compatible_brands: isommp41mp42\n",
      "    creation_time   : 2023-01-12T16:13:31.000000Z\n",
      "  Duration: 00:07:22.91, start: 0.000000, bitrate: 8126 kb/s\n",
      "  Stream #0:0(eng): Audio: aac (LC) (mp4a / 0x6134706D), 48000 Hz, stereo, fltp, 102 kb/s (default)\n",
      "    Metadata:\n",
      "      creation_time   : 2023-01-12T16:13:31.000000Z\n",
      "      handler_name    : Core Media Audio\n",
      "      vendor_id       : [0][0][0][0]\n",
      "  Stream #0:1(und): Video: h264 (High) (avc1 / 0x31637661), yuv420p(tv, bt709, progressive), 1280x720, 8018 kb/s, SAR 1:1 DAR 16:9, 29.97 fps, 29.97 tbr, 30k tbn, 60k tbc (default)\n",
      "    Metadata:\n",
      "      creation_time   : 2023-01-12T16:13:31.000000Z\n",
      "      handler_name    : Core Media Video\n",
      "      vendor_id       : [0][0][0][0]\n",
      "File '/home/yramakrishna/DeepLabCut/conda-environments/Codes/Ken_Test_Longdownsampled.mp4' already exists. Exiting.\n"
     ]
    }
   ],
   "source": [
    "dsv = deeplabcut.DownSampleVideo(start_file, width=320, height=240)"
   ]
  },
  {
   "cell_type": "code",
   "execution_count": 25,
   "id": "f392891f-3388-467f-8f53-ac04fc00cc3b",
   "metadata": {},
   "outputs": [],
   "source": [
    "os.mkdir(\"final_video\")"
   ]
  },
  {
   "cell_type": "code",
   "execution_count": 26,
   "id": "7f6fa656-4809-4010-895e-7578d26eb157",
   "metadata": {},
   "outputs": [],
   "source": [
    "os.chdir('final_video')"
   ]
  },
  {
   "cell_type": "code",
   "execution_count": 27,
   "id": "ce5d9b93-8d3f-46ff-afdf-60bbc79461c1",
   "metadata": {},
   "outputs": [
    {
     "name": "stdout",
     "output_type": "stream",
     "text": [
      "1\n",
      "2\n",
      "3\n",
      "4\n",
      "5\n",
      "6\n"
     ]
    }
   ],
   "source": [
    "#cropping video and Gamma correction\n",
    "for i in range(6):\n",
    "    # Load the video file\n",
    "    video = cv2.VideoCapture(dsv)\n",
    "\n",
    "    # Get the frame rate and total number of frames\n",
    "    fps = int(video.get(cv2.CAP_PROP_FPS))\n",
    "    total_frames = int(video.get(cv2.CAP_PROP_FRAME_COUNT))\n",
    "\n",
    "    #*********************************************\n",
    "\n",
    "    # Set the start and end points to crop out\n",
    "    start_sec = 0  # Crop out the first x seconds\n",
    "    end_sec = 0 # Crop out the last y seconds\n",
    "\n",
    "    #Set gamma correction value\n",
    "    gamma = (i+1)\n",
    "    print(gamma)\n",
    "\n",
    "    #**********************************************\n",
    "\n",
    "    start_frame = int(start_sec * fps)\n",
    "    end_frame = int((total_frames / fps) - end_sec) * fps\n",
    "\n",
    "    # Set the video writer\n",
    "    fourcc = cv2.VideoWriter_fourcc(*'mp4v')\n",
    "    out = cv2.VideoWriter('CropGr'+str(i)+'.mp4', fourcc, fps, (int(video.get(cv2.CAP_PROP_FRAME_WIDTH)), int(video.get(cv2.CAP_PROP_FRAME_HEIGHT))))\n",
    "\n",
    "    # Set the current frame number to the start frame\n",
    "    video.set(cv2.CAP_PROP_POS_FRAMES, start_frame)\n",
    "\n",
    "    # Loop through the frames and write them to the output video\n",
    "    for i in range(start_frame, end_frame):\n",
    "        ret, frame = video.read()\n",
    "        if not ret:\n",
    "            break\n",
    "\n",
    "        # Normalize the pixel values to the range [0, 1] \n",
    "        frame_normalized = frame.astype(np.float32) / 255.0 \n",
    "\n",
    "        # Apply gamma correction \n",
    "        frame_corrected = np.power(frame_normalized, 1/gamma) \n",
    "\n",
    "        # Scale the pixel values back to the range [0, 255]\n",
    "        frame_scaled = (frame_corrected * 255.0).astype(np.uint8)\n",
    "\n",
    "        out.write(frame_scaled)\n",
    "\n",
    "    # Release the video objects\n",
    "    video.release()\n",
    "    out.release()\n",
    "    cv2.destroyAllWindows()"
   ]
  },
  {
   "cell_type": "code",
   "execution_count": 28,
   "id": "045a2db1-b221-40e8-baf0-d41cb3de7d60",
   "metadata": {},
   "outputs": [
    {
     "data": {
      "text/plain": [
       "'/home/yramakrishna/DeepLabCut/conda-environments/Codes/final_video/final_video/final_video'"
      ]
     },
     "execution_count": 28,
     "metadata": {},
     "output_type": "execute_result"
    }
   ],
   "source": [
    "os.getcwd()"
   ]
  },
  {
   "cell_type": "code",
   "execution_count": 29,
   "id": "386bb01d",
   "metadata": {
    "scrolled": true,
    "tags": []
   },
   "outputs": [
    {
     "name": "stdout",
     "output_type": "stream",
     "text": [
      "Created \"/home/yramakrishna/DeepLabCut/conda-environments/Codes/final_video/final_video/final_video/DLC-VK-2023-05-02/videos\"\n",
      "Created \"/home/yramakrishna/DeepLabCut/conda-environments/Codes/final_video/final_video/final_video/DLC-VK-2023-05-02/labeled-data\"\n",
      "Created \"/home/yramakrishna/DeepLabCut/conda-environments/Codes/final_video/final_video/final_video/DLC-VK-2023-05-02/training-datasets\"\n",
      "Created \"/home/yramakrishna/DeepLabCut/conda-environments/Codes/final_video/final_video/final_video/DLC-VK-2023-05-02/dlc-models\"\n",
      "6  videos from the directory . were added to the project.\n",
      "Copying the videos\n",
      "/home/yramakrishna/DeepLabCut/conda-environments/Codes/final_video/final_video/final_video/DLC-VK-2023-05-02/videos/CropGr3.mp4\n",
      "/home/yramakrishna/DeepLabCut/conda-environments/Codes/final_video/final_video/final_video/DLC-VK-2023-05-02/videos/CropGr4.mp4\n",
      "/home/yramakrishna/DeepLabCut/conda-environments/Codes/final_video/final_video/final_video/DLC-VK-2023-05-02/videos/CropGr2.mp4\n",
      "/home/yramakrishna/DeepLabCut/conda-environments/Codes/final_video/final_video/final_video/DLC-VK-2023-05-02/videos/CropGr5.mp4\n",
      "/home/yramakrishna/DeepLabCut/conda-environments/Codes/final_video/final_video/final_video/DLC-VK-2023-05-02/videos/CropGr0.mp4\n",
      "/home/yramakrishna/DeepLabCut/conda-environments/Codes/final_video/final_video/final_video/DLC-VK-2023-05-02/videos/CropGr1.mp4\n",
      "Generated \"/home/yramakrishna/DeepLabCut/conda-environments/Codes/final_video/final_video/final_video/DLC-VK-2023-05-02/config.yaml\"\n",
      "\n",
      "A new project with name DLC-VK-2023-05-02 is created at /home/yramakrishna/DeepLabCut/conda-environments/Codes/final_video/final_video/final_video and a configurable file (config.yaml) is stored there. Change the parameters in this file to adapt to your project's needs.\n",
      " Once you have changed the configuration file, use the function 'extract_frames' to select frames for labeling.\n",
      ". [OPTIONAL] Use the function 'add_new_videos' to add new videos to your project (at any stage).\n",
      "Downloading weights...\n",
      "Loading.... primate_face\n"
     ]
    },
    {
     "data": {
      "application/vnd.jupyter.widget-view+json": {
       "model_id": "750933cd24f340a0b22ca6deb157ce37",
       "version_major": 2,
       "version_minor": 0
      },
      "text/plain": [
       "Downloading (…)n-1_shuffle-1.tar.gz:   0%|          | 0.00/198M [00:00<?, ?B/s]"
      ]
     },
     "metadata": {},
     "output_type": "display_data"
    },
    {
     "name": "stdout",
     "output_type": "stream",
     "text": [
      "/home/yramakrishna/DeepLabCut/conda-environments/Codes/final_video/final_video/final_video/DLC-VK-2023-05-02/dlc-models/iteration-0/DLCMay2-trainset95shuffle1/train/pose_cfg.yaml\n",
      "Analyzing video...\n",
      "Using snapshot-1030000 for model /home/yramakrishna/DeepLabCut/conda-environments/Codes/final_video/final_video/final_video/DLC-VK-2023-05-02/dlc-models/iteration-0/DLCMay2-trainset95shuffle1\n"
     ]
    },
    {
     "name": "stderr",
     "output_type": "stream",
     "text": [
      "/home/yramakrishna/anaconda3/lib/python3.9/site-packages/tensorflow/python/keras/engine/base_layer_v1.py:1694: UserWarning: `layer.apply` is deprecated and will be removed in a future version. Please use `layer.__call__` method instead.\n",
      "  warnings.warn('`layer.apply` is deprecated and '\n",
      "2023-05-02 16:38:38.976152: I tensorflow/stream_executor/cuda/cuda_gpu_executor.cc:980] successful NUMA node read from SysFS had negative value (-1), but there must be at least one NUMA node, so returning NUMA node zero\n",
      "2023-05-02 16:38:38.976330: I tensorflow/stream_executor/cuda/cuda_gpu_executor.cc:980] successful NUMA node read from SysFS had negative value (-1), but there must be at least one NUMA node, so returning NUMA node zero\n",
      "2023-05-02 16:38:38.976445: I tensorflow/stream_executor/cuda/cuda_gpu_executor.cc:980] successful NUMA node read from SysFS had negative value (-1), but there must be at least one NUMA node, so returning NUMA node zero\n",
      "2023-05-02 16:38:38.976608: I tensorflow/stream_executor/cuda/cuda_gpu_executor.cc:980] successful NUMA node read from SysFS had negative value (-1), but there must be at least one NUMA node, so returning NUMA node zero\n",
      "2023-05-02 16:38:38.976732: I tensorflow/stream_executor/cuda/cuda_gpu_executor.cc:980] successful NUMA node read from SysFS had negative value (-1), but there must be at least one NUMA node, so returning NUMA node zero\n",
      "2023-05-02 16:38:38.976799: I tensorflow/core/common_runtime/gpu/gpu_device.cc:1616] Created device /job:localhost/replica:0/task:0/device:GPU:0 with 13775 MB memory:  -> device: 0, name: NVIDIA GeForce RTX 4080, pci bus id: 0000:51:00.0, compute capability: 8.9\n"
     ]
    },
    {
     "name": "stdout",
     "output_type": "stream",
     "text": [
      "Analyzing all the videos in the directory...\n",
      "Starting to analyze %  /home/yramakrishna/DeepLabCut/conda-environments/Codes/final_video/final_video/final_video/DLC-VK-2023-05-02/videos/CropGr4.mp4\n",
      "Loading  /home/yramakrishna/DeepLabCut/conda-environments/Codes/final_video/final_video/final_video/DLC-VK-2023-05-02/videos/CropGr4.mp4\n",
      "Duration of video [s]:  457.0 , recorded with  29.0 fps!\n",
      "Overall # of frames:  13253  found with (before cropping) frame dimensions:  320 240\n",
      "Starting to extract posture\n"
     ]
    },
    {
     "name": "stderr",
     "output_type": "stream",
     "text": [
      "100%|████████████████████████████████████| 13253/13253 [00:17<00:00, 766.06it/s]\n"
     ]
    },
    {
     "name": "stdout",
     "output_type": "stream",
     "text": [
      "Saving results in /home/yramakrishna/DeepLabCut/conda-environments/Codes/final_video/final_video/final_video/DLC-VK-2023-05-02/videos...\n",
      "Saving csv poses!\n",
      "Starting to analyze %  /home/yramakrishna/DeepLabCut/conda-environments/Codes/final_video/final_video/final_video/DLC-VK-2023-05-02/videos/CropGr1.mp4\n",
      "Loading  /home/yramakrishna/DeepLabCut/conda-environments/Codes/final_video/final_video/final_video/DLC-VK-2023-05-02/videos/CropGr1.mp4\n",
      "Duration of video [s]:  457.0 , recorded with  29.0 fps!\n",
      "Overall # of frames:  13253  found with (before cropping) frame dimensions:  320 240\n",
      "Starting to extract posture\n"
     ]
    },
    {
     "name": "stderr",
     "output_type": "stream",
     "text": [
      "100%|████████████████████████████████████| 13253/13253 [00:17<00:00, 773.04it/s]\n"
     ]
    },
    {
     "name": "stdout",
     "output_type": "stream",
     "text": [
      "Saving results in /home/yramakrishna/DeepLabCut/conda-environments/Codes/final_video/final_video/final_video/DLC-VK-2023-05-02/videos...\n",
      "Saving csv poses!\n",
      "Starting to analyze %  /home/yramakrishna/DeepLabCut/conda-environments/Codes/final_video/final_video/final_video/DLC-VK-2023-05-02/videos/CropGr0.mp4\n",
      "Loading  /home/yramakrishna/DeepLabCut/conda-environments/Codes/final_video/final_video/final_video/DLC-VK-2023-05-02/videos/CropGr0.mp4\n",
      "Duration of video [s]:  457.0 , recorded with  29.0 fps!\n",
      "Overall # of frames:  13253  found with (before cropping) frame dimensions:  320 240\n",
      "Starting to extract posture\n"
     ]
    },
    {
     "name": "stderr",
     "output_type": "stream",
     "text": [
      "100%|████████████████████████████████████| 13253/13253 [00:16<00:00, 802.24it/s]\n"
     ]
    },
    {
     "name": "stdout",
     "output_type": "stream",
     "text": [
      "Saving results in /home/yramakrishna/DeepLabCut/conda-environments/Codes/final_video/final_video/final_video/DLC-VK-2023-05-02/videos...\n",
      "Saving csv poses!\n",
      "Starting to analyze %  /home/yramakrishna/DeepLabCut/conda-environments/Codes/final_video/final_video/final_video/DLC-VK-2023-05-02/videos/CropGr5.mp4\n",
      "Loading  /home/yramakrishna/DeepLabCut/conda-environments/Codes/final_video/final_video/final_video/DLC-VK-2023-05-02/videos/CropGr5.mp4\n",
      "Duration of video [s]:  457.0 , recorded with  29.0 fps!\n",
      "Overall # of frames:  13253  found with (before cropping) frame dimensions:  320 240\n",
      "Starting to extract posture\n"
     ]
    },
    {
     "name": "stderr",
     "output_type": "stream",
     "text": [
      "100%|████████████████████████████████████| 13253/13253 [00:20<00:00, 640.67it/s]\n"
     ]
    },
    {
     "name": "stdout",
     "output_type": "stream",
     "text": [
      "Saving results in /home/yramakrishna/DeepLabCut/conda-environments/Codes/final_video/final_video/final_video/DLC-VK-2023-05-02/videos...\n",
      "Saving csv poses!\n",
      "Starting to analyze %  /home/yramakrishna/DeepLabCut/conda-environments/Codes/final_video/final_video/final_video/DLC-VK-2023-05-02/videos/CropGr3.mp4\n",
      "Loading  /home/yramakrishna/DeepLabCut/conda-environments/Codes/final_video/final_video/final_video/DLC-VK-2023-05-02/videos/CropGr3.mp4\n",
      "Duration of video [s]:  457.0 , recorded with  29.0 fps!\n",
      "Overall # of frames:  13253  found with (before cropping) frame dimensions:  320 240\n",
      "Starting to extract posture\n"
     ]
    },
    {
     "name": "stderr",
     "output_type": "stream",
     "text": [
      "100%|████████████████████████████████████| 13253/13253 [00:21<00:00, 613.05it/s]\n"
     ]
    },
    {
     "name": "stdout",
     "output_type": "stream",
     "text": [
      "Saving results in /home/yramakrishna/DeepLabCut/conda-environments/Codes/final_video/final_video/final_video/DLC-VK-2023-05-02/videos...\n",
      "Saving csv poses!\n",
      "Starting to analyze %  /home/yramakrishna/DeepLabCut/conda-environments/Codes/final_video/final_video/final_video/DLC-VK-2023-05-02/videos/CropGr2.mp4\n",
      "Loading  /home/yramakrishna/DeepLabCut/conda-environments/Codes/final_video/final_video/final_video/DLC-VK-2023-05-02/videos/CropGr2.mp4\n",
      "Duration of video [s]:  457.0 , recorded with  29.0 fps!\n",
      "Overall # of frames:  13253  found with (before cropping) frame dimensions:  320 240\n",
      "Starting to extract posture\n"
     ]
    },
    {
     "name": "stderr",
     "output_type": "stream",
     "text": [
      "100%|████████████████████████████████████| 13253/13253 [00:22<00:00, 599.97it/s]\n"
     ]
    },
    {
     "name": "stdout",
     "output_type": "stream",
     "text": [
      "Saving results in /home/yramakrishna/DeepLabCut/conda-environments/Codes/final_video/final_video/final_video/DLC-VK-2023-05-02/videos...\n",
      "Saving csv poses!\n",
      "The videos are analyzed. Now your research can truly start! \n",
      " You can create labeled videos with 'create_labeled_video'\n",
      "If the tracking is not satisfactory for some videos, consider expanding the training set. You can use the function 'extract_outlier_frames' to extract a few representative outlier frames.\n",
      "Filtering with median model /home/yramakrishna/DeepLabCut/conda-environments/Codes/final_video/final_video/final_video/DLC-VK-2023-05-02/videos/CropGr3.mp4\n",
      "Saving filtered csv poses!\n",
      "Filtering with median model /home/yramakrishna/DeepLabCut/conda-environments/Codes/final_video/final_video/final_video/DLC-VK-2023-05-02/videos/CropGr4.mp4\n",
      "Saving filtered csv poses!\n",
      "Filtering with median model /home/yramakrishna/DeepLabCut/conda-environments/Codes/final_video/final_video/final_video/DLC-VK-2023-05-02/videos/CropGr2.mp4\n",
      "Saving filtered csv poses!\n",
      "Filtering with median model /home/yramakrishna/DeepLabCut/conda-environments/Codes/final_video/final_video/final_video/DLC-VK-2023-05-02/videos/CropGr5.mp4\n",
      "Saving filtered csv poses!\n",
      "Filtering with median model /home/yramakrishna/DeepLabCut/conda-environments/Codes/final_video/final_video/final_video/DLC-VK-2023-05-02/videos/CropGr0.mp4\n",
      "Saving filtered csv poses!\n",
      "Filtering with median model /home/yramakrishna/DeepLabCut/conda-environments/Codes/final_video/final_video/final_video/DLC-VK-2023-05-02/videos/CropGr1.mp4\n",
      "Saving filtered csv poses!\n",
      "Starting to process video: /home/yramakrishna/DeepLabCut/conda-environments/Codes/final_video/final_video/final_video/DLC-VK-2023-05-02/videos/CropGr4.mp4Starting to process video: /home/yramakrishna/DeepLabCut/conda-environments/Codes/final_video/final_video/final_video/DLC-VK-2023-05-02/videos/CropGr3.mp4Starting to process video: /home/yramakrishna/DeepLabCut/conda-environments/Codes/final_video/final_video/final_video/DLC-VK-2023-05-02/videos/CropGr1.mp4Starting to process video: /home/yramakrishna/DeepLabCut/conda-environments/Codes/final_video/final_video/final_video/DLC-VK-2023-05-02/videos/CropGr5.mp4Starting to process video: /home/yramakrishna/DeepLabCut/conda-environments/Codes/final_video/final_video/final_video/DLC-VK-2023-05-02/videos/CropGr2.mp4Starting to process video: /home/yramakrishna/DeepLabCut/conda-environments/Codes/final_video/final_video/final_video/DLC-VK-2023-05-02/videos/CropGr0.mp4\n",
      "\n",
      "\n",
      "\n",
      "\n",
      "\n",
      "Loading /home/yramakrishna/DeepLabCut/conda-environments/Codes/final_video/final_video/final_video/DLC-VK-2023-05-02/videos/CropGr4.mp4 and data.Loading /home/yramakrishna/DeepLabCut/conda-environments/Codes/final_video/final_video/final_video/DLC-VK-2023-05-02/videos/CropGr3.mp4 and data.Loading /home/yramakrishna/DeepLabCut/conda-environments/Codes/final_video/final_video/final_video/DLC-VK-2023-05-02/videos/CropGr1.mp4 and data.Loading /home/yramakrishna/DeepLabCut/conda-environments/Codes/final_video/final_video/final_video/DLC-VK-2023-05-02/videos/CropGr5.mp4 and data.Loading /home/yramakrishna/DeepLabCut/conda-environments/Codes/final_video/final_video/final_video/DLC-VK-2023-05-02/videos/CropGr0.mp4 and data.Loading /home/yramakrishna/DeepLabCut/conda-environments/Codes/final_video/final_video/final_video/DLC-VK-2023-05-02/videos/CropGr2.mp4 and data.\n",
      "\n",
      "\n",
      "\n",
      "\n",
      "\n",
      "Duration of video [s]: 457.0, recorded with 29.0 fps!\n",
      "Overall # of frames: 13253 with cropped frame dimensions: 320 240\n",
      "Duration of video [s]: 457.0, recorded with 29.0 fps!Generating frames and creating video.Duration of video [s]: 457.0, recorded with 29.0 fps!\n",
      "Duration of video [s]: 457.0, recorded with 29.0 fps!\n",
      "\n",
      "\n",
      "Overall # of frames: 13253 with cropped frame dimensions: 320 240Overall # of frames: 13253 with cropped frame dimensions: 320 240Overall # of frames: 13253 with cropped frame dimensions: 320 240\n",
      "\n",
      "\n",
      "Generating frames and creating video.Generating frames and creating video.Generating frames and creating video.\n",
      "\n",
      "\n"
     ]
    },
    {
     "name": "stderr",
     "output_type": "stream",
     "text": [
      "  0%|                                                 | 0/13253 [00:00<?, ?it/s]"
     ]
    },
    {
     "name": "stdout",
     "output_type": "stream",
     "text": [
      "Duration of video [s]: 457.0, recorded with 29.0 fps!Duration of video [s]: 457.0, recorded with 29.0 fps!\n",
      "\n",
      "Overall # of frames: 13253 with cropped frame dimensions: 320 240Overall # of frames: 13253 with cropped frame dimensions: 320 240\n",
      "\n",
      "Generating frames and creating video.Generating frames and creating video.\n",
      "\n"
     ]
    },
    {
     "name": "stderr",
     "output_type": "stream",
     "text": [
      "100%|███████████████████████████████████| 13253/13253 [00:07<00:00, 1661.38it/s]\n",
      "100%|███████████████████████████████████| 13253/13253 [00:07<00:00, 1657.67it/s]\n",
      "100%|███████████████████████████████████| 13253/13253 [00:08<00:00, 1596.20it/s]\n",
      "100%|███████████████████████████████████| 13253/13253 [00:08<00:00, 1567.51it/s]\n",
      "100%|███████████████████████████████████| 13253/13253 [00:08<00:00, 1556.07it/s]\n",
      "100%|███████████████████████████████████| 13253/13253 [00:08<00:00, 1552.67it/s]\n"
     ]
    },
    {
     "data": {
      "text/plain": [
       "[True, True, True, True, True, True]"
      ]
     },
     "execution_count": 29,
     "metadata": {},
     "output_type": "execute_result"
    }
   ],
   "source": [
    "\n",
    "fold = os.listdir(os.getcwd())\n",
    "file = fold[0]\n",
    "bodyparts = ['Eyes_MidPoint', 'RightEye_Outer', 'RightEye_Top', 'RightEye_Bottom', 'RightEye_Inner', 'RightEye_Pupil', 'LeftEye_Outer', 'LeftEye_Top', 'LeftEye_Bottom', 'LeftEye_Inner', 'LeftEye_Pupil',\n",
    "             'NostrilsTop_Centre', 'OutlineTop_Mid', 'RightNostrils_Top', 'RightNostrils_Bottom','LeftNostrils_Top', 'LeftNostrils_Bottom']\n",
    "videotype = os.path.splitext(file)[-1].lstrip('.')  # or MOV, or avi, whatever you uploaded!\n",
    "video_down = file\n",
    "\n",
    "model_options = deeplabcut.create_project.modelzoo.Modeloptions\n",
    "model_selection = 'primate_face'\n",
    "\n",
    "project_name = 'DLC'\n",
    "your_name = 'VK'\n",
    "\n",
    "config_path, train_config_path = deeplabcut.create_pretrained_project(\n",
    "    project_name,\n",
    "    your_name,\n",
    "    video_down,\n",
    "    videotype=videotype,\n",
    "    model=model_selection,\n",
    "    analyzevideo=True,\n",
    "    createlabeledvideo=False,\n",
    "    copy_videos=True,\n",
    ")\n",
    "\n",
    "edits = {\n",
    "    'dotsize': 1.5,  # size of the dots!\n",
    "    'pcutoff': 0.4,  # the higher, the more conservative the plotting!\n",
    "}\n",
    "deeplabcut.auxiliaryfunctions.edit_config(config_path, edits)\n",
    "\n",
    "project_path = os.path.dirname(config_path)\n",
    "\n",
    "full_video_path = []\n",
    "for i in fold:\n",
    "    full_video_path.append(os.path.join(project_path,'videos', os.path.basename(i)))\n",
    "        \n",
    "# filter predictions (should already be done above \n",
    "deeplabcut.filterpredictions(config_path, full_video_path, videotype=videotype)\n",
    "\n",
    "# re-create the video with your edits!\n",
    "deeplabcut.create_labeled_video(config_path, full_video_path, videotype=videotype, displayedbodyparts=bodyparts, filtered=True)"
   ]
  },
  {
   "cell_type": "code",
   "execution_count": null,
   "id": "490386f4",
   "metadata": {},
   "outputs": [],
   "source": [
    "# project_name = 'DLC_GazeXBI'\n",
    "# your_name = 'anc'\n",
    "\n",
    "# config_path, train_config_path = deeplabcut.create_pretrained_project(\n",
    "#     project_name,\n",
    "#     your_name,\n",
    "#     video_down,\n",
    "#     videotype=videotype,\n",
    "#     model=model_selection,\n",
    "#     analyzevideo=True,\n",
    "#     createlabeledvideo=False,\n",
    "#     copy_videos=True,\n",
    "# )\n",
    "\n"
   ]
  },
  {
   "cell_type": "code",
   "execution_count": null,
   "id": "7705e82a",
   "metadata": {},
   "outputs": [],
   "source": [
    "# edits = {\n",
    "#     'dotsize': 3,  # size of the dots!\n",
    "#     'pcutoff': 0.1,  # the higher, the more conservative the plotting!\n",
    "# }\n",
    "# deeplabcut.auxiliaryfunctions.edit_config(config_path, edits)\n",
    "\n",
    "# project_path = os.path.dirname(config_path)\n",
    "# full_video_path = os.path.join(\n",
    "#     project_path,\n",
    "#     'videos',\n",
    "#     os.path.basename(video_down),\n",
    "# )\n",
    "\n",
    "# # filter predictions (should already be done above ;):\n",
    "# deeplabcut.filterpredictions(config_path, full_video_path, videotype=videotype)\n",
    "\n",
    "# # re-create the video with your edits!\n",
    "# deeplabcut.create_labeled_video(config_path, full_video_path, videotype=videotype, displayedbodyparts=bodyparts,\n",
    "#                                 filtered=True)\n"
   ]
  },
  {
   "cell_type": "code",
   "execution_count": null,
   "id": "9fbdf6ca-a6b2-4b43-adc8-38a0091ad2e2",
   "metadata": {},
   "outputs": [],
   "source": [
    "# shutil.move('/home/yramakrishna/DeepLabCut/conda-environments/final_video/DLC_GazeXBI-anc-2023-03-21/videos/CropGrDLC_resnet50_DLC_GazeXBIMar21shuffle1_1030000_filtered_labeled.mp4', '/home/yramakrishna/DeepLabCut/conda-environments/CropGrDLC_resnet50_DLC_GazeXBIMar21shuffle1_1030000_filtered_labeled.mp4')\n",
    "\n"
   ]
  },
  {
   "cell_type": "code",
   "execution_count": null,
   "id": "5c65f6e7-0077-4abc-a815-00912e48cffa",
   "metadata": {},
   "outputs": [],
   "source": [
    "# try:\n",
    "#     shutil.rmtree('/home/yramakrishna/DeepLabCut/conda-environments/final_video')\n",
    "# except OSError as e:\n",
    "#     # If it fails, inform the user.\n",
    "#     print(\"Error: %s - %s.\" % (e.filename, e.strerror))"
   ]
  },
  {
   "cell_type": "code",
   "execution_count": null,
   "id": "7d4314b3-5e42-4de8-b333-ccebc4245872",
   "metadata": {},
   "outputs": [],
   "source": [
    "# try:\n",
    "#     os.remove('/home/yramakrishna/DeepLabCut/conda-environments/Ken_Test_Longdownsampled.mp4')\n",
    "# except OSError as e:\n",
    "#     # If it fails, inform the user.\n",
    "#     print(\"Error: %s - %s.\" % (e.filename, e.strerror))"
   ]
  },
  {
   "cell_type": "code",
   "execution_count": null,
   "id": "93511066-14c1-44d0-9566-9a2975babd4d",
   "metadata": {},
   "outputs": [],
   "source": [
    "# cap = cv2.VideoCapture(\"/home/yramakrishna/DeepLabCut/conda-environments/CropGrDLC_resnet50_DLC_GazeXBIMar20shuffle1_1030000_filtered_labeled.mp4\")\n",
    "# ret, frame = cap.read()\n",
    "# while(1):\n",
    "#    ret, frame = cap.read()\n",
    "#    cv2.imshow('frame',frame)\n",
    "#    if cv2.waitKey(1) & 0xFF == ord('q') or ret==False :\n",
    "#        cap.release()\n",
    "#        cv2.destroyAllWindows()\n",
    "#        break\n",
    "#    cv2.imshow('frame',frame)"
   ]
  },
  {
   "cell_type": "code",
   "execution_count": null,
   "id": "64dfab5c-99f8-427b-9bb0-634efbe8ffa8",
   "metadata": {},
   "outputs": [],
   "source": [
    "# from moviepy.editor import *\n",
    "# import pygame\n",
    " \n",
    "# clip = VideoFileClip('/home/yramakrishna/DeepLabCut/conda-environments/CropGrDLC_resnet50_DLC_GazeXBIMar20shuffle1_1030000_filtered_labeled.mp4')\n",
    "# clip.preview()\n",
    " \n",
    "# pygame.quit()"
   ]
  },
  {
   "cell_type": "code",
   "execution_count": null,
   "id": "a0e155ed-c842-4f01-ba18-e0d6b38fafee",
   "metadata": {},
   "outputs": [],
   "source": [
    "# import tkinter as tk\n",
    "# from tkVideoPlayer import TkinterVideo\n",
    "\n",
    "# root = tk.Tk()\n",
    "\n",
    "# videoplayer = TkinterVideo(master=root, scaled=True)\n",
    "# videoplayer.load(r\"/home/yramakrishna/DeepLabCut/conda-environments/CropGrDLC_resnet50_DLC_GazeXBIMar20shuffle1_1030000_filtered_labeled.mp4\")\n",
    "# videoplayer.pack(expand=True, fill=\"both\")\n",
    "\n",
    "# videoplayer.play() # play the video\n",
    "\n",
    "# root.mainloop()"
   ]
  },
  {
   "cell_type": "code",
   "execution_count": null,
   "id": "49c14e94-b374-4c21-abce-0af196dfb672",
   "metadata": {
    "tags": []
   },
   "outputs": [],
   "source": [
    "# from tkinter import *\n",
    "# from tkvideo import tkvideo\n",
    "\n",
    "# root = Tk()\n",
    "# my_label = Label(root)\n",
    "# my_label.pack()\n",
    "# player = tkvideo(\"/home/yramakrishna/DeepLabCut/conda-environments/CropGrDLC_resnet50_DLC_GazeXBIMar20shuffle1_1030000_filtered_labeled.mp4\", my_label, loop = 1, size = (1280,720))\n",
    "# player.play()\n",
    "\n",
    "# root.mainloop()"
   ]
  }
 ],
 "metadata": {
  "kernelspec": {
   "display_name": "Python 3 (ipykernel)",
   "language": "python",
   "name": "python3"
  },
  "language_info": {
   "codemirror_mode": {
    "name": "ipython",
    "version": 3
   },
   "file_extension": ".py",
   "mimetype": "text/x-python",
   "name": "python",
   "nbconvert_exporter": "python",
   "pygments_lexer": "ipython3",
   "version": "3.9.13"
  }
 },
 "nbformat": 4,
 "nbformat_minor": 5
}
